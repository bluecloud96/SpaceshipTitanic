{
 "cells": [
  {
   "cell_type": "code",
   "execution_count": 1,
   "id": "ee5e0db3-8346-415e-87a7-cfefa55f6efd",
   "metadata": {
    "tags": []
   },
   "outputs": [],
   "source": [
    "import pandas as pd\n",
    "import matplotlib.pyplot as plt\n",
    "import seaborn as sns\n",
    "import numpy as np"
   ]
  },
  {
   "cell_type": "code",
   "execution_count": 2,
   "id": "0e7478d3-087b-416f-865b-e9ad28434dd9",
   "metadata": {
    "tags": []
   },
   "outputs": [],
   "source": [
    "df = pd.read_csv(\"./data/tmp.csv\",encoding = 'utf-8')"
   ]
  },
  {
   "cell_type": "code",
   "execution_count": 3,
   "id": "308212d0-0db7-4151-a54d-8d24e424f2fa",
   "metadata": {},
   "outputs": [
    {
     "name": "stdout",
     "output_type": "stream",
     "text": [
      "HomePlanet             288\n",
      "CryoSleep              310\n",
      "Cabin                  299\n",
      "Destination            274\n",
      "Age                    270\n",
      "VIP                    296\n",
      "RoomService            263\n",
      "FoodCourt              289\n",
      "ShoppingMall           306\n",
      "Spa                    284\n",
      "VRDeck                 268\n",
      "Name                   294\n",
      "Transported           4277\n",
      "Cabin_deck             299\n",
      "Cabin_side             299\n",
      "Cabin_deck_grouped     299\n",
      "Cabin_num              299\n",
      "dtype: int64\n"
     ]
    }
   ],
   "source": [
    "missing_values = df.isnull().sum()\n",
    "missing_columns = missing_values[missing_values > 0]\n",
    "\n",
    "print(missing_columns)"
   ]
  },
  {
   "cell_type": "markdown",
   "id": "a63c3708-ec06-44d1-982d-6077f082e2dc",
   "metadata": {},
   "source": [
    "#### test_df가 융합되어있는 상태이므로 transported null 값은 무시"
   ]
  },
  {
   "cell_type": "markdown",
   "id": "3a7cb182-8660-46c1-9ceb-2c750c89fa4d",
   "metadata": {},
   "source": [
    "#### HomePlanet과 LastName과의 관계"
   ]
  },
  {
   "cell_type": "code",
   "execution_count": 4,
   "id": "1005a9d5-b7a9-4ce1-b77c-7860fbd0b081",
   "metadata": {},
   "outputs": [],
   "source": [
    "df['LastName'] = df['Name'].apply(lambda x: x.split()[-1] if pd.notnull(x) else '')"
   ]
  },
  {
   "cell_type": "code",
   "execution_count": 5,
   "id": "dfc550a8-812f-4203-83f3-9c9695e1949c",
   "metadata": {},
   "outputs": [],
   "source": [
    "LHP_gb = df.groupby(['LastName', 'HomePlanet'])['HomePlanet'].size().unstack().fillna(0)"
   ]
  },
  {
   "cell_type": "code",
   "execution_count": 6,
   "id": "7d0e8199-9133-4706-8609-4bf2151b451f",
   "metadata": {},
   "outputs": [
    {
     "data": {
      "text/html": [
       "<div>\n",
       "<style scoped>\n",
       "    .dataframe tbody tr th:only-of-type {\n",
       "        vertical-align: middle;\n",
       "    }\n",
       "\n",
       "    .dataframe tbody tr th {\n",
       "        vertical-align: top;\n",
       "    }\n",
       "\n",
       "    .dataframe thead th {\n",
       "        text-align: right;\n",
       "    }\n",
       "</style>\n",
       "<table border=\"1\" class=\"dataframe\">\n",
       "  <thead>\n",
       "    <tr style=\"text-align: right;\">\n",
       "      <th>HomePlanet</th>\n",
       "      <th>Earth</th>\n",
       "      <th>Europa</th>\n",
       "      <th>Mars</th>\n",
       "    </tr>\n",
       "    <tr>\n",
       "      <th>LastName</th>\n",
       "      <th></th>\n",
       "      <th></th>\n",
       "      <th></th>\n",
       "    </tr>\n",
       "  </thead>\n",
       "  <tbody>\n",
       "    <tr>\n",
       "      <th></th>\n",
       "      <td>159.0</td>\n",
       "      <td>65.0</td>\n",
       "      <td>60.0</td>\n",
       "    </tr>\n",
       "    <tr>\n",
       "      <th>Acobson</th>\n",
       "      <td>5.0</td>\n",
       "      <td>0.0</td>\n",
       "      <td>0.0</td>\n",
       "    </tr>\n",
       "    <tr>\n",
       "      <th>Acobsond</th>\n",
       "      <td>8.0</td>\n",
       "      <td>0.0</td>\n",
       "      <td>0.0</td>\n",
       "    </tr>\n",
       "    <tr>\n",
       "      <th>Adavisons</th>\n",
       "      <td>10.0</td>\n",
       "      <td>0.0</td>\n",
       "      <td>0.0</td>\n",
       "    </tr>\n",
       "    <tr>\n",
       "      <th>Adkinson</th>\n",
       "      <td>4.0</td>\n",
       "      <td>0.0</td>\n",
       "      <td>0.0</td>\n",
       "    </tr>\n",
       "    <tr>\n",
       "      <th>...</th>\n",
       "      <td>...</td>\n",
       "      <td>...</td>\n",
       "      <td>...</td>\n",
       "    </tr>\n",
       "    <tr>\n",
       "      <th>Wynneyerson</th>\n",
       "      <td>2.0</td>\n",
       "      <td>0.0</td>\n",
       "      <td>0.0</td>\n",
       "    </tr>\n",
       "    <tr>\n",
       "      <th>Yanton</th>\n",
       "      <td>7.0</td>\n",
       "      <td>0.0</td>\n",
       "      <td>0.0</td>\n",
       "    </tr>\n",
       "    <tr>\n",
       "      <th>Yatters</th>\n",
       "      <td>8.0</td>\n",
       "      <td>0.0</td>\n",
       "      <td>0.0</td>\n",
       "    </tr>\n",
       "    <tr>\n",
       "      <th>Yorkland</th>\n",
       "      <td>13.0</td>\n",
       "      <td>0.0</td>\n",
       "      <td>0.0</td>\n",
       "    </tr>\n",
       "    <tr>\n",
       "      <th>Youngrayes</th>\n",
       "      <td>7.0</td>\n",
       "      <td>0.0</td>\n",
       "      <td>0.0</td>\n",
       "    </tr>\n",
       "  </tbody>\n",
       "</table>\n",
       "<p>2401 rows × 3 columns</p>\n",
       "</div>"
      ],
      "text/plain": [
       "HomePlanet   Earth  Europa  Mars\n",
       "LastName                        \n",
       "             159.0    65.0  60.0\n",
       "Acobson        5.0     0.0   0.0\n",
       "Acobsond       8.0     0.0   0.0\n",
       "Adavisons     10.0     0.0   0.0\n",
       "Adkinson       4.0     0.0   0.0\n",
       "...            ...     ...   ...\n",
       "Wynneyerson    2.0     0.0   0.0\n",
       "Yanton         7.0     0.0   0.0\n",
       "Yatters        8.0     0.0   0.0\n",
       "Yorkland      13.0     0.0   0.0\n",
       "Youngrayes     7.0     0.0   0.0\n",
       "\n",
       "[2401 rows x 3 columns]"
      ]
     },
     "execution_count": 6,
     "metadata": {},
     "output_type": "execute_result"
    }
   ],
   "source": [
    "LHP_gb"
   ]
  },
  {
   "cell_type": "code",
   "execution_count": 7,
   "id": "37330b59-2f25-49ea-a331-3641a0fa9dc8",
   "metadata": {},
   "outputs": [],
   "source": [
    "unique_planets_per_lastname = (LHP_gb > 0).sum(axis=1)"
   ]
  },
  {
   "cell_type": "code",
   "execution_count": 8,
   "id": "f77f8e89-1ae7-4964-9429-75a7bbbe8063",
   "metadata": {},
   "outputs": [
    {
     "data": {
      "text/plain": [
       "LastName\n",
       "               3\n",
       "Acobson        1\n",
       "Acobsond       1\n",
       "Adavisons      1\n",
       "Adkinson       1\n",
       "              ..\n",
       "Wynneyerson    1\n",
       "Yanton         1\n",
       "Yatters        1\n",
       "Yorkland       1\n",
       "Youngrayes     1\n",
       "Length: 2401, dtype: int64"
      ]
     },
     "execution_count": 8,
     "metadata": {},
     "output_type": "execute_result"
    }
   ],
   "source": [
    "unique_planets_per_lastname"
   ]
  },
  {
   "cell_type": "code",
   "execution_count": 9,
   "id": "de92324e-0d6f-44b1-9c96-8ad959561589",
   "metadata": {},
   "outputs": [
    {
     "data": {
      "image/png": "[encoded data removed]",
      "text/plain": [
       "<Figure size 1000x400 with 1 Axes>"
      ]
     },
     "metadata": {},
     "output_type": "display_data"
    }
   ],
   "source": [
    "plt.figure(figsize=(10, 4))\n",
    "sns.countplot(unique_planets_per_lastname)\n",
    "plt.title('Number of unique planets per last name')\n",
    "plt.xlabel('Number of unique planets')\n",
    "plt.ylabel('Count of last names')\n",
    "plt.show()\n"
   ]
  },
  {
   "cell_type": "code",
   "execution_count": 10,
   "id": "5e400cc1-b2dc-4e48-88b9-2b80cc93e069",
   "metadata": {},
   "outputs": [],
   "source": [
    "df['HomePlanet'] = df['HomePlanet'].fillna(df.groupby('LastName')['HomePlanet'].transform(lambda x: x.mode()[0] if not x.mode().empty else np.nan))"
   ]
  },
  {
   "cell_type": "code",
   "execution_count": 11,
   "id": "9b7364af-acbe-4670-ab4d-efe4ecbca04f",
   "metadata": {},
   "outputs": [
    {
     "data": {
      "text/plain": [
       "PassengerId              0\n",
       "HomePlanet               7\n",
       "CryoSleep              310\n",
       "Cabin                  299\n",
       "Destination            274\n",
       "Age                    270\n",
       "VIP                    296\n",
       "RoomService            263\n",
       "FoodCourt              289\n",
       "ShoppingMall           306\n",
       "Spa                    284\n",
       "VRDeck                 268\n",
       "Name                   294\n",
       "Transported           4277\n",
       "GroupId                  0\n",
       "GroupSize                0\n",
       "is_alone                 0\n",
       "Cabin_deck             299\n",
       "Cabin_side             299\n",
       "Cabin_deck_grouped     299\n",
       "Cabin_num              299\n",
       "LastName                 0\n",
       "dtype: int64"
      ]
     },
     "execution_count": 11,
     "metadata": {},
     "output_type": "execute_result"
    }
   ],
   "source": [
    "df.isnull().sum()"
   ]
  },
  {
   "cell_type": "markdown",
   "id": "22898259-bec3-41f5-9698-f4ceae6e4e1a",
   "metadata": {},
   "source": [
    "#### 전체적으로 연관성을 더 쉽게 보기 위해 Heatmap을 그림"
   ]
  },
  {
   "cell_type": "code",
   "execution_count": 12,
   "id": "893252b8-b402-4d03-8273-f397d76fd4ad",
   "metadata": {},
   "outputs": [],
   "source": [
    "df[\"spend_money\"] = df[\"RoomService\"] + df[\"FoodCourt\"] + df[\"ShoppingMall\"] + df[\"Spa\"] + df[\"VRDeck\"]"
   ]
  },
  {
   "cell_type": "code",
   "execution_count": 13,
   "id": "c946a9f9-22a8-4049-b6b3-1b53543d2f83",
   "metadata": {
    "tags": []
   },
   "outputs": [],
   "source": [
    "en_df = df"
   ]
  },
  {
   "cell_type": "code",
   "execution_count": 14,
   "id": "28ddfcb9-fee4-414f-b9e5-90bdd7480b52",
   "metadata": {
    "tags": []
   },
   "outputs": [],
   "source": [
    "Destination_dummies = pd.get_dummies(en_df[\"Destination\"],prefix=\"D\",dtype = int)"
   ]
  },
  {
   "cell_type": "code",
   "execution_count": 15,
   "id": "aacde362-772a-418c-abcd-4d6a56a81841",
   "metadata": {
    "tags": []
   },
   "outputs": [],
   "source": [
    "en_df = pd.concat([en_df,Destination_dummies],axis=1)"
   ]
  },
  {
   "cell_type": "markdown",
   "id": "5ede5681-6bbd-4ebf-9985-6ab0cc6a4611",
   "metadata": {
    "tags": []
   },
   "source": [
    "#### 먼저 hotencoding을 하자(HomePlanet)"
   ]
  },
  {
   "cell_type": "code",
   "execution_count": 16,
   "id": "4904dc8f-c164-4b0c-9432-41319182b606",
   "metadata": {
    "tags": []
   },
   "outputs": [],
   "source": [
    "HomePlanet_dummies = pd.get_dummies(en_df[\"HomePlanet\"],prefix=\"HP\",dtype=int)"
   ]
  },
  {
   "cell_type": "code",
   "execution_count": 17,
   "id": "ad593fa3-a7f8-4295-8300-d702304bd9e9",
   "metadata": {
    "tags": []
   },
   "outputs": [],
   "source": [
    "en_df = pd.concat([en_df,HomePlanet_dummies],axis =1)"
   ]
  },
  {
   "cell_type": "code",
   "execution_count": 18,
   "id": "60cdb7fe-71fa-4740-b5ff-a1e9cf9ee9ef",
   "metadata": {
    "tags": []
   },
   "outputs": [
    {
     "data": {
      "text/html": [
       "<div>\n",
       "<style scoped>\n",
       "    .dataframe tbody tr th:only-of-type {\n",
       "        vertical-align: middle;\n",
       "    }\n",
       "\n",
       "    .dataframe tbody tr th {\n",
       "        vertical-align: top;\n",
       "    }\n",
       "\n",
       "    .dataframe thead th {\n",
       "        text-align: right;\n",
       "    }\n",
       "</style>\n",
       "<table border=\"1\" class=\"dataframe\">\n",
       "  <thead>\n",
       "    <tr style=\"text-align: right;\">\n",
       "      <th></th>\n",
       "      <th>PassengerId</th>\n",
       "      <th>HomePlanet</th>\n",
       "      <th>CryoSleep</th>\n",
       "      <th>Cabin</th>\n",
       "      <th>Destination</th>\n",
       "      <th>Age</th>\n",
       "      <th>VIP</th>\n",
       "      <th>RoomService</th>\n",
       "      <th>FoodCourt</th>\n",
       "      <th>ShoppingMall</th>\n",
       "      <th>...</th>\n",
       "      <th>Cabin_deck_grouped</th>\n",
       "      <th>Cabin_num</th>\n",
       "      <th>LastName</th>\n",
       "      <th>spend_money</th>\n",
       "      <th>D_55 Cancri e</th>\n",
       "      <th>D_PSO J318.5-22</th>\n",
       "      <th>D_TRAPPIST-1e</th>\n",
       "      <th>HP_Earth</th>\n",
       "      <th>HP_Europa</th>\n",
       "      <th>HP_Mars</th>\n",
       "    </tr>\n",
       "  </thead>\n",
       "  <tbody>\n",
       "    <tr>\n",
       "      <th>0</th>\n",
       "      <td>0001_01</td>\n",
       "      <td>Europa</td>\n",
       "      <td>False</td>\n",
       "      <td>B/0/P</td>\n",
       "      <td>TRAPPIST-1e</td>\n",
       "      <td>39.0</td>\n",
       "      <td>False</td>\n",
       "      <td>0.0</td>\n",
       "      <td>0.0</td>\n",
       "      <td>0.0</td>\n",
       "      <td>...</td>\n",
       "      <td>Other</td>\n",
       "      <td>0.0</td>\n",
       "      <td>Ofracculy</td>\n",
       "      <td>0.0</td>\n",
       "      <td>0</td>\n",
       "      <td>0</td>\n",
       "      <td>1</td>\n",
       "      <td>0</td>\n",
       "      <td>1</td>\n",
       "      <td>0</td>\n",
       "    </tr>\n",
       "    <tr>\n",
       "      <th>1</th>\n",
       "      <td>0002_01</td>\n",
       "      <td>Earth</td>\n",
       "      <td>False</td>\n",
       "      <td>F/0/S</td>\n",
       "      <td>TRAPPIST-1e</td>\n",
       "      <td>24.0</td>\n",
       "      <td>False</td>\n",
       "      <td>109.0</td>\n",
       "      <td>9.0</td>\n",
       "      <td>25.0</td>\n",
       "      <td>...</td>\n",
       "      <td>F</td>\n",
       "      <td>0.0</td>\n",
       "      <td>Vines</td>\n",
       "      <td>736.0</td>\n",
       "      <td>0</td>\n",
       "      <td>0</td>\n",
       "      <td>1</td>\n",
       "      <td>1</td>\n",
       "      <td>0</td>\n",
       "      <td>0</td>\n",
       "    </tr>\n",
       "    <tr>\n",
       "      <th>2</th>\n",
       "      <td>0003_01</td>\n",
       "      <td>Europa</td>\n",
       "      <td>False</td>\n",
       "      <td>A/0/S</td>\n",
       "      <td>TRAPPIST-1e</td>\n",
       "      <td>58.0</td>\n",
       "      <td>True</td>\n",
       "      <td>43.0</td>\n",
       "      <td>3576.0</td>\n",
       "      <td>0.0</td>\n",
       "      <td>...</td>\n",
       "      <td>Other</td>\n",
       "      <td>0.0</td>\n",
       "      <td>Susent</td>\n",
       "      <td>10383.0</td>\n",
       "      <td>0</td>\n",
       "      <td>0</td>\n",
       "      <td>1</td>\n",
       "      <td>0</td>\n",
       "      <td>1</td>\n",
       "      <td>0</td>\n",
       "    </tr>\n",
       "    <tr>\n",
       "      <th>3</th>\n",
       "      <td>0003_02</td>\n",
       "      <td>Europa</td>\n",
       "      <td>False</td>\n",
       "      <td>A/0/S</td>\n",
       "      <td>TRAPPIST-1e</td>\n",
       "      <td>33.0</td>\n",
       "      <td>False</td>\n",
       "      <td>0.0</td>\n",
       "      <td>1283.0</td>\n",
       "      <td>371.0</td>\n",
       "      <td>...</td>\n",
       "      <td>Other</td>\n",
       "      <td>0.0</td>\n",
       "      <td>Susent</td>\n",
       "      <td>5176.0</td>\n",
       "      <td>0</td>\n",
       "      <td>0</td>\n",
       "      <td>1</td>\n",
       "      <td>0</td>\n",
       "      <td>1</td>\n",
       "      <td>0</td>\n",
       "    </tr>\n",
       "    <tr>\n",
       "      <th>4</th>\n",
       "      <td>0004_01</td>\n",
       "      <td>Earth</td>\n",
       "      <td>False</td>\n",
       "      <td>F/1/S</td>\n",
       "      <td>TRAPPIST-1e</td>\n",
       "      <td>16.0</td>\n",
       "      <td>False</td>\n",
       "      <td>303.0</td>\n",
       "      <td>70.0</td>\n",
       "      <td>151.0</td>\n",
       "      <td>...</td>\n",
       "      <td>F</td>\n",
       "      <td>1.0</td>\n",
       "      <td>Santantines</td>\n",
       "      <td>1091.0</td>\n",
       "      <td>0</td>\n",
       "      <td>0</td>\n",
       "      <td>1</td>\n",
       "      <td>1</td>\n",
       "      <td>0</td>\n",
       "      <td>0</td>\n",
       "    </tr>\n",
       "    <tr>\n",
       "      <th>...</th>\n",
       "      <td>...</td>\n",
       "      <td>...</td>\n",
       "      <td>...</td>\n",
       "      <td>...</td>\n",
       "      <td>...</td>\n",
       "      <td>...</td>\n",
       "      <td>...</td>\n",
       "      <td>...</td>\n",
       "      <td>...</td>\n",
       "      <td>...</td>\n",
       "      <td>...</td>\n",
       "      <td>...</td>\n",
       "      <td>...</td>\n",
       "      <td>...</td>\n",
       "      <td>...</td>\n",
       "      <td>...</td>\n",
       "      <td>...</td>\n",
       "      <td>...</td>\n",
       "      <td>...</td>\n",
       "      <td>...</td>\n",
       "      <td>...</td>\n",
       "    </tr>\n",
       "    <tr>\n",
       "      <th>12965</th>\n",
       "      <td>9266_02</td>\n",
       "      <td>Earth</td>\n",
       "      <td>True</td>\n",
       "      <td>G/1496/S</td>\n",
       "      <td>TRAPPIST-1e</td>\n",
       "      <td>34.0</td>\n",
       "      <td>False</td>\n",
       "      <td>0.0</td>\n",
       "      <td>0.0</td>\n",
       "      <td>0.0</td>\n",
       "      <td>...</td>\n",
       "      <td>G</td>\n",
       "      <td>1496.0</td>\n",
       "      <td>Peter</td>\n",
       "      <td>0.0</td>\n",
       "      <td>0</td>\n",
       "      <td>0</td>\n",
       "      <td>1</td>\n",
       "      <td>1</td>\n",
       "      <td>0</td>\n",
       "      <td>0</td>\n",
       "    </tr>\n",
       "    <tr>\n",
       "      <th>12966</th>\n",
       "      <td>9269_01</td>\n",
       "      <td>Earth</td>\n",
       "      <td>False</td>\n",
       "      <td>NaN</td>\n",
       "      <td>TRAPPIST-1e</td>\n",
       "      <td>42.0</td>\n",
       "      <td>False</td>\n",
       "      <td>0.0</td>\n",
       "      <td>847.0</td>\n",
       "      <td>17.0</td>\n",
       "      <td>...</td>\n",
       "      <td>NaN</td>\n",
       "      <td>NaN</td>\n",
       "      <td>Scheron</td>\n",
       "      <td>1018.0</td>\n",
       "      <td>0</td>\n",
       "      <td>0</td>\n",
       "      <td>1</td>\n",
       "      <td>1</td>\n",
       "      <td>0</td>\n",
       "      <td>0</td>\n",
       "    </tr>\n",
       "    <tr>\n",
       "      <th>12967</th>\n",
       "      <td>9271_01</td>\n",
       "      <td>Mars</td>\n",
       "      <td>True</td>\n",
       "      <td>D/296/P</td>\n",
       "      <td>55 Cancri e</td>\n",
       "      <td>NaN</td>\n",
       "      <td>False</td>\n",
       "      <td>0.0</td>\n",
       "      <td>0.0</td>\n",
       "      <td>0.0</td>\n",
       "      <td>...</td>\n",
       "      <td>Other</td>\n",
       "      <td>296.0</td>\n",
       "      <td>Pore</td>\n",
       "      <td>0.0</td>\n",
       "      <td>1</td>\n",
       "      <td>0</td>\n",
       "      <td>0</td>\n",
       "      <td>0</td>\n",
       "      <td>0</td>\n",
       "      <td>1</td>\n",
       "    </tr>\n",
       "    <tr>\n",
       "      <th>12968</th>\n",
       "      <td>9273_01</td>\n",
       "      <td>Europa</td>\n",
       "      <td>False</td>\n",
       "      <td>D/297/P</td>\n",
       "      <td>NaN</td>\n",
       "      <td>NaN</td>\n",
       "      <td>False</td>\n",
       "      <td>0.0</td>\n",
       "      <td>2680.0</td>\n",
       "      <td>0.0</td>\n",
       "      <td>...</td>\n",
       "      <td>Other</td>\n",
       "      <td>297.0</td>\n",
       "      <td>Conale</td>\n",
       "      <td>3203.0</td>\n",
       "      <td>0</td>\n",
       "      <td>0</td>\n",
       "      <td>0</td>\n",
       "      <td>0</td>\n",
       "      <td>1</td>\n",
       "      <td>0</td>\n",
       "    </tr>\n",
       "    <tr>\n",
       "      <th>12969</th>\n",
       "      <td>9277_01</td>\n",
       "      <td>Earth</td>\n",
       "      <td>True</td>\n",
       "      <td>G/1498/S</td>\n",
       "      <td>PSO J318.5-22</td>\n",
       "      <td>43.0</td>\n",
       "      <td>False</td>\n",
       "      <td>0.0</td>\n",
       "      <td>0.0</td>\n",
       "      <td>0.0</td>\n",
       "      <td>...</td>\n",
       "      <td>G</td>\n",
       "      <td>1498.0</td>\n",
       "      <td>Leonzaley</td>\n",
       "      <td>0.0</td>\n",
       "      <td>0</td>\n",
       "      <td>1</td>\n",
       "      <td>0</td>\n",
       "      <td>1</td>\n",
       "      <td>0</td>\n",
       "      <td>0</td>\n",
       "    </tr>\n",
       "  </tbody>\n",
       "</table>\n",
       "<p>12970 rows × 29 columns</p>\n",
       "</div>"
      ],
      "text/plain": [
       "      PassengerId HomePlanet CryoSleep     Cabin    Destination   Age    VIP  \\\n",
       "0         0001_01     Europa     False     B/0/P    TRAPPIST-1e  39.0  False   \n",
       "1         0002_01      Earth     False     F/0/S    TRAPPIST-1e  24.0  False   \n",
       "2         0003_01     Europa     False     A/0/S    TRAPPIST-1e  58.0   True   \n",
       "3         0003_02     Europa     False     A/0/S    TRAPPIST-1e  33.0  False   \n",
       "4         0004_01      Earth     False     F/1/S    TRAPPIST-1e  16.0  False   \n",
       "...           ...        ...       ...       ...            ...   ...    ...   \n",
       "12965     9266_02      Earth      True  G/1496/S    TRAPPIST-1e  34.0  False   \n",
       "12966     9269_01      Earth     False       NaN    TRAPPIST-1e  42.0  False   \n",
       "12967     9271_01       Mars      True   D/296/P    55 Cancri e   NaN  False   \n",
       "12968     9273_01     Europa     False   D/297/P            NaN   NaN  False   \n",
       "12969     9277_01      Earth      True  G/1498/S  PSO J318.5-22  43.0  False   \n",
       "\n",
       "       RoomService  FoodCourt  ShoppingMall  ...  Cabin_deck_grouped  \\\n",
       "0              0.0        0.0           0.0  ...               Other   \n",
       "1            109.0        9.0          25.0  ...                   F   \n",
       "2             43.0     3576.0           0.0  ...               Other   \n",
       "3              0.0     1283.0         371.0  ...               Other   \n",
       "4            303.0       70.0         151.0  ...                   F   \n",
       "...            ...        ...           ...  ...                 ...   \n",
       "12965          0.0        0.0           0.0  ...                   G   \n",
       "12966          0.0      847.0          17.0  ...                 NaN   \n",
       "12967          0.0        0.0           0.0  ...               Other   \n",
       "12968          0.0     2680.0           0.0  ...               Other   \n",
       "12969          0.0        0.0           0.0  ...                   G   \n",
       "\n",
       "       Cabin_num     LastName spend_money  D_55 Cancri e  D_PSO J318.5-22  \\\n",
       "0            0.0    Ofracculy         0.0              0                0   \n",
       "1            0.0        Vines       736.0              0                0   \n",
       "2            0.0       Susent     10383.0              0                0   \n",
       "3            0.0       Susent      5176.0              0                0   \n",
       "4            1.0  Santantines      1091.0              0                0   \n",
       "...          ...          ...         ...            ...              ...   \n",
       "12965     1496.0        Peter         0.0              0                0   \n",
       "12966        NaN      Scheron      1018.0              0                0   \n",
       "12967      296.0         Pore         0.0              1                0   \n",
       "12968      297.0       Conale      3203.0              0                0   \n",
       "12969     1498.0    Leonzaley         0.0              0                1   \n",
       "\n",
       "       D_TRAPPIST-1e HP_Earth HP_Europa HP_Mars  \n",
       "0                  1        0         1       0  \n",
       "1                  1        1         0       0  \n",
       "2                  1        0         1       0  \n",
       "3                  1        0         1       0  \n",
       "4                  1        1         0       0  \n",
       "...              ...      ...       ...     ...  \n",
       "12965              1        1         0       0  \n",
       "12966              1        1         0       0  \n",
       "12967              0        0         0       1  \n",
       "12968              0        0         1       0  \n",
       "12969              0        1         0       0  \n",
       "\n",
       "[12970 rows x 29 columns]"
      ]
     },
     "execution_count": 18,
     "metadata": {},
     "output_type": "execute_result"
    }
   ],
   "source": [
    "en_df"
   ]
  },
  {
   "cell_type": "code",
   "execution_count": 19,
   "id": "ecbb33ab-2bce-477f-9594-85d0210b2a11",
   "metadata": {},
   "outputs": [],
   "source": [
    "Cabin_deck_grouped_dummies = pd.get_dummies(en_df[\"Cabin_deck_grouped\"],prefix=\"Cdg\",dtype=int)"
   ]
  },
  {
   "cell_type": "code",
   "execution_count": 20,
   "id": "43c4f17f-8b27-43b7-b50a-752a34ccff2b",
   "metadata": {},
   "outputs": [],
   "source": [
    "en_df = pd.concat([en_df,Cabin_deck_grouped_dummies],axis =1)"
   ]
  },
  {
   "cell_type": "code",
   "execution_count": 21,
   "id": "436be58b-348a-4df0-89fa-f48a0927a109",
   "metadata": {},
   "outputs": [
    {
     "data": {
      "text/html": [
       "<div>\n",
       "<style scoped>\n",
       "    .dataframe tbody tr th:only-of-type {\n",
       "        vertical-align: middle;\n",
       "    }\n",
       "\n",
       "    .dataframe tbody tr th {\n",
       "        vertical-align: top;\n",
       "    }\n",
       "\n",
       "    .dataframe thead th {\n",
       "        text-align: right;\n",
       "    }\n",
       "</style>\n",
       "<table border=\"1\" class=\"dataframe\">\n",
       "  <thead>\n",
       "    <tr style=\"text-align: right;\">\n",
       "      <th></th>\n",
       "      <th>PassengerId</th>\n",
       "      <th>HomePlanet</th>\n",
       "      <th>CryoSleep</th>\n",
       "      <th>Cabin</th>\n",
       "      <th>Destination</th>\n",
       "      <th>Age</th>\n",
       "      <th>VIP</th>\n",
       "      <th>RoomService</th>\n",
       "      <th>FoodCourt</th>\n",
       "      <th>ShoppingMall</th>\n",
       "      <th>...</th>\n",
       "      <th>spend_money</th>\n",
       "      <th>D_55 Cancri e</th>\n",
       "      <th>D_PSO J318.5-22</th>\n",
       "      <th>D_TRAPPIST-1e</th>\n",
       "      <th>HP_Earth</th>\n",
       "      <th>HP_Europa</th>\n",
       "      <th>HP_Mars</th>\n",
       "      <th>Cdg_F</th>\n",
       "      <th>Cdg_G</th>\n",
       "      <th>Cdg_Other</th>\n",
       "    </tr>\n",
       "  </thead>\n",
       "  <tbody>\n",
       "    <tr>\n",
       "      <th>0</th>\n",
       "      <td>0001_01</td>\n",
       "      <td>Europa</td>\n",
       "      <td>False</td>\n",
       "      <td>B/0/P</td>\n",
       "      <td>TRAPPIST-1e</td>\n",
       "      <td>39.0</td>\n",
       "      <td>False</td>\n",
       "      <td>0.0</td>\n",
       "      <td>0.0</td>\n",
       "      <td>0.0</td>\n",
       "      <td>...</td>\n",
       "      <td>0.0</td>\n",
       "      <td>0</td>\n",
       "      <td>0</td>\n",
       "      <td>1</td>\n",
       "      <td>0</td>\n",
       "      <td>1</td>\n",
       "      <td>0</td>\n",
       "      <td>0</td>\n",
       "      <td>0</td>\n",
       "      <td>1</td>\n",
       "    </tr>\n",
       "    <tr>\n",
       "      <th>1</th>\n",
       "      <td>0002_01</td>\n",
       "      <td>Earth</td>\n",
       "      <td>False</td>\n",
       "      <td>F/0/S</td>\n",
       "      <td>TRAPPIST-1e</td>\n",
       "      <td>24.0</td>\n",
       "      <td>False</td>\n",
       "      <td>109.0</td>\n",
       "      <td>9.0</td>\n",
       "      <td>25.0</td>\n",
       "      <td>...</td>\n",
       "      <td>736.0</td>\n",
       "      <td>0</td>\n",
       "      <td>0</td>\n",
       "      <td>1</td>\n",
       "      <td>1</td>\n",
       "      <td>0</td>\n",
       "      <td>0</td>\n",
       "      <td>1</td>\n",
       "      <td>0</td>\n",
       "      <td>0</td>\n",
       "    </tr>\n",
       "    <tr>\n",
       "      <th>2</th>\n",
       "      <td>0003_01</td>\n",
       "      <td>Europa</td>\n",
       "      <td>False</td>\n",
       "      <td>A/0/S</td>\n",
       "      <td>TRAPPIST-1e</td>\n",
       "      <td>58.0</td>\n",
       "      <td>True</td>\n",
       "      <td>43.0</td>\n",
       "      <td>3576.0</td>\n",
       "      <td>0.0</td>\n",
       "      <td>...</td>\n",
       "      <td>10383.0</td>\n",
       "      <td>0</td>\n",
       "      <td>0</td>\n",
       "      <td>1</td>\n",
       "      <td>0</td>\n",
       "      <td>1</td>\n",
       "      <td>0</td>\n",
       "      <td>0</td>\n",
       "      <td>0</td>\n",
       "      <td>1</td>\n",
       "    </tr>\n",
       "    <tr>\n",
       "      <th>3</th>\n",
       "      <td>0003_02</td>\n",
       "      <td>Europa</td>\n",
       "      <td>False</td>\n",
       "      <td>A/0/S</td>\n",
       "      <td>TRAPPIST-1e</td>\n",
       "      <td>33.0</td>\n",
       "      <td>False</td>\n",
       "      <td>0.0</td>\n",
       "      <td>1283.0</td>\n",
       "      <td>371.0</td>\n",
       "      <td>...</td>\n",
       "      <td>5176.0</td>\n",
       "      <td>0</td>\n",
       "      <td>0</td>\n",
       "      <td>1</td>\n",
       "      <td>0</td>\n",
       "      <td>1</td>\n",
       "      <td>0</td>\n",
       "      <td>0</td>\n",
       "      <td>0</td>\n",
       "      <td>1</td>\n",
       "    </tr>\n",
       "    <tr>\n",
       "      <th>4</th>\n",
       "      <td>0004_01</td>\n",
       "      <td>Earth</td>\n",
       "      <td>False</td>\n",
       "      <td>F/1/S</td>\n",
       "      <td>TRAPPIST-1e</td>\n",
       "      <td>16.0</td>\n",
       "      <td>False</td>\n",
       "      <td>303.0</td>\n",
       "      <td>70.0</td>\n",
       "      <td>151.0</td>\n",
       "      <td>...</td>\n",
       "      <td>1091.0</td>\n",
       "      <td>0</td>\n",
       "      <td>0</td>\n",
       "      <td>1</td>\n",
       "      <td>1</td>\n",
       "      <td>0</td>\n",
       "      <td>0</td>\n",
       "      <td>1</td>\n",
       "      <td>0</td>\n",
       "      <td>0</td>\n",
       "    </tr>\n",
       "    <tr>\n",
       "      <th>...</th>\n",
       "      <td>...</td>\n",
       "      <td>...</td>\n",
       "      <td>...</td>\n",
       "      <td>...</td>\n",
       "      <td>...</td>\n",
       "      <td>...</td>\n",
       "      <td>...</td>\n",
       "      <td>...</td>\n",
       "      <td>...</td>\n",
       "      <td>...</td>\n",
       "      <td>...</td>\n",
       "      <td>...</td>\n",
       "      <td>...</td>\n",
       "      <td>...</td>\n",
       "      <td>...</td>\n",
       "      <td>...</td>\n",
       "      <td>...</td>\n",
       "      <td>...</td>\n",
       "      <td>...</td>\n",
       "      <td>...</td>\n",
       "      <td>...</td>\n",
       "    </tr>\n",
       "    <tr>\n",
       "      <th>12965</th>\n",
       "      <td>9266_02</td>\n",
       "      <td>Earth</td>\n",
       "      <td>True</td>\n",
       "      <td>G/1496/S</td>\n",
       "      <td>TRAPPIST-1e</td>\n",
       "      <td>34.0</td>\n",
       "      <td>False</td>\n",
       "      <td>0.0</td>\n",
       "      <td>0.0</td>\n",
       "      <td>0.0</td>\n",
       "      <td>...</td>\n",
       "      <td>0.0</td>\n",
       "      <td>0</td>\n",
       "      <td>0</td>\n",
       "      <td>1</td>\n",
       "      <td>1</td>\n",
       "      <td>0</td>\n",
       "      <td>0</td>\n",
       "      <td>0</td>\n",
       "      <td>1</td>\n",
       "      <td>0</td>\n",
       "    </tr>\n",
       "    <tr>\n",
       "      <th>12966</th>\n",
       "      <td>9269_01</td>\n",
       "      <td>Earth</td>\n",
       "      <td>False</td>\n",
       "      <td>NaN</td>\n",
       "      <td>TRAPPIST-1e</td>\n",
       "      <td>42.0</td>\n",
       "      <td>False</td>\n",
       "      <td>0.0</td>\n",
       "      <td>847.0</td>\n",
       "      <td>17.0</td>\n",
       "      <td>...</td>\n",
       "      <td>1018.0</td>\n",
       "      <td>0</td>\n",
       "      <td>0</td>\n",
       "      <td>1</td>\n",
       "      <td>1</td>\n",
       "      <td>0</td>\n",
       "      <td>0</td>\n",
       "      <td>0</td>\n",
       "      <td>0</td>\n",
       "      <td>0</td>\n",
       "    </tr>\n",
       "    <tr>\n",
       "      <th>12967</th>\n",
       "      <td>9271_01</td>\n",
       "      <td>Mars</td>\n",
       "      <td>True</td>\n",
       "      <td>D/296/P</td>\n",
       "      <td>55 Cancri e</td>\n",
       "      <td>NaN</td>\n",
       "      <td>False</td>\n",
       "      <td>0.0</td>\n",
       "      <td>0.0</td>\n",
       "      <td>0.0</td>\n",
       "      <td>...</td>\n",
       "      <td>0.0</td>\n",
       "      <td>1</td>\n",
       "      <td>0</td>\n",
       "      <td>0</td>\n",
       "      <td>0</td>\n",
       "      <td>0</td>\n",
       "      <td>1</td>\n",
       "      <td>0</td>\n",
       "      <td>0</td>\n",
       "      <td>1</td>\n",
       "    </tr>\n",
       "    <tr>\n",
       "      <th>12968</th>\n",
       "      <td>9273_01</td>\n",
       "      <td>Europa</td>\n",
       "      <td>False</td>\n",
       "      <td>D/297/P</td>\n",
       "      <td>NaN</td>\n",
       "      <td>NaN</td>\n",
       "      <td>False</td>\n",
       "      <td>0.0</td>\n",
       "      <td>2680.0</td>\n",
       "      <td>0.0</td>\n",
       "      <td>...</td>\n",
       "      <td>3203.0</td>\n",
       "      <td>0</td>\n",
       "      <td>0</td>\n",
       "      <td>0</td>\n",
       "      <td>0</td>\n",
       "      <td>1</td>\n",
       "      <td>0</td>\n",
       "      <td>0</td>\n",
       "      <td>0</td>\n",
       "      <td>1</td>\n",
       "    </tr>\n",
       "    <tr>\n",
       "      <th>12969</th>\n",
       "      <td>9277_01</td>\n",
       "      <td>Earth</td>\n",
       "      <td>True</td>\n",
       "      <td>G/1498/S</td>\n",
       "      <td>PSO J318.5-22</td>\n",
       "      <td>43.0</td>\n",
       "      <td>False</td>\n",
       "      <td>0.0</td>\n",
       "      <td>0.0</td>\n",
       "      <td>0.0</td>\n",
       "      <td>...</td>\n",
       "      <td>0.0</td>\n",
       "      <td>0</td>\n",
       "      <td>1</td>\n",
       "      <td>0</td>\n",
       "      <td>1</td>\n",
       "      <td>0</td>\n",
       "      <td>0</td>\n",
       "      <td>0</td>\n",
       "      <td>1</td>\n",
       "      <td>0</td>\n",
       "    </tr>\n",
       "  </tbody>\n",
       "</table>\n",
       "<p>12970 rows × 32 columns</p>\n",
       "</div>"
      ],
      "text/plain": [
       "      PassengerId HomePlanet CryoSleep     Cabin    Destination   Age    VIP  \\\n",
       "0         0001_01     Europa     False     B/0/P    TRAPPIST-1e  39.0  False   \n",
       "1         0002_01      Earth     False     F/0/S    TRAPPIST-1e  24.0  False   \n",
       "2         0003_01     Europa     False     A/0/S    TRAPPIST-1e  58.0   True   \n",
       "3         0003_02     Europa     False     A/0/S    TRAPPIST-1e  33.0  False   \n",
       "4         0004_01      Earth     False     F/1/S    TRAPPIST-1e  16.0  False   \n",
       "...           ...        ...       ...       ...            ...   ...    ...   \n",
       "12965     9266_02      Earth      True  G/1496/S    TRAPPIST-1e  34.0  False   \n",
       "12966     9269_01      Earth     False       NaN    TRAPPIST-1e  42.0  False   \n",
       "12967     9271_01       Mars      True   D/296/P    55 Cancri e   NaN  False   \n",
       "12968     9273_01     Europa     False   D/297/P            NaN   NaN  False   \n",
       "12969     9277_01      Earth      True  G/1498/S  PSO J318.5-22  43.0  False   \n",
       "\n",
       "       RoomService  FoodCourt  ShoppingMall  ...  spend_money  D_55 Cancri e  \\\n",
       "0              0.0        0.0           0.0  ...          0.0              0   \n",
       "1            109.0        9.0          25.0  ...        736.0              0   \n",
       "2             43.0     3576.0           0.0  ...      10383.0              0   \n",
       "3              0.0     1283.0         371.0  ...       5176.0              0   \n",
       "4            303.0       70.0         151.0  ...       1091.0              0   \n",
       "...            ...        ...           ...  ...          ...            ...   \n",
       "12965          0.0        0.0           0.0  ...          0.0              0   \n",
       "12966          0.0      847.0          17.0  ...       1018.0              0   \n",
       "12967          0.0        0.0           0.0  ...          0.0              1   \n",
       "12968          0.0     2680.0           0.0  ...       3203.0              0   \n",
       "12969          0.0        0.0           0.0  ...          0.0              0   \n",
       "\n",
       "      D_PSO J318.5-22 D_TRAPPIST-1e  HP_Earth  HP_Europa  HP_Mars Cdg_F Cdg_G  \\\n",
       "0                   0             1         0          1        0     0     0   \n",
       "1                   0             1         1          0        0     1     0   \n",
       "2                   0             1         0          1        0     0     0   \n",
       "3                   0             1         0          1        0     0     0   \n",
       "4                   0             1         1          0        0     1     0   \n",
       "...               ...           ...       ...        ...      ...   ...   ...   \n",
       "12965               0             1         1          0        0     0     1   \n",
       "12966               0             1         1          0        0     0     0   \n",
       "12967               0             0         0          0        1     0     0   \n",
       "12968               0             0         0          1        0     0     0   \n",
       "12969               1             0         1          0        0     0     1   \n",
       "\n",
       "      Cdg_Other  \n",
       "0             1  \n",
       "1             0  \n",
       "2             1  \n",
       "3             1  \n",
       "4             0  \n",
       "...         ...  \n",
       "12965         0  \n",
       "12966         0  \n",
       "12967         1  \n",
       "12968         1  \n",
       "12969         0  \n",
       "\n",
       "[12970 rows x 32 columns]"
      ]
     },
     "execution_count": 21,
     "metadata": {},
     "output_type": "execute_result"
    }
   ],
   "source": [
    "en_df"
   ]
  },
  {
   "cell_type": "code",
   "execution_count": 22,
   "id": "8080385a-b0ad-4e14-a422-4b8895b1fdc9",
   "metadata": {},
   "outputs": [],
   "source": [
    "import sklearn\n",
    "from sklearn.preprocessing import LabelEncoder\n",
    "\n",
    "label_encoder = LabelEncoder()"
   ]
  },
  {
   "cell_type": "code",
   "execution_count": 23,
   "id": "1172b0f5-1582-4840-ae0c-4e05fab494e7",
   "metadata": {},
   "outputs": [
    {
     "data": {
      "text/html": [
       "<style>#sk-container-id-1 {color: black;}#sk-container-id-1 pre{padding: 0;}#sk-container-id-1 div.sk-toggleable {background-color: white;}#sk-container-id-1 label.sk-toggleable__label {cursor: pointer;display: block;width: 100%;margin-bottom: 0;padding: 0.3em;box-sizing: border-box;text-align: center;}#sk-container-id-1 label.sk-toggleable__label-arrow:before {content: \"▸\";float: left;margin-right: 0.25em;color: #696969;}#sk-container-id-1 label.sk-toggleable__label-arrow:hover:before {color: black;}#sk-container-id-1 div.sk-estimator:hover label.sk-toggleable__label-arrow:before {color: black;}#sk-container-id-1 div.sk-toggleable__content {max-height: 0;max-width: 0;overflow: hidden;text-align: left;background-color: #f0f8ff;}#sk-container-id-1 div.sk-toggleable__content pre {margin: 0.2em;color: black;border-radius: 0.25em;background-color: #f0f8ff;}#sk-container-id-1 input.sk-toggleable__control:checked~div.sk-toggleable__content {max-height: 200px;max-width: 100%;overflow: auto;}#sk-container-id-1 input.sk-toggleable__control:checked~label.sk-toggleable__label-arrow:before {content: \"▾\";}#sk-container-id-1 div.sk-estimator input.sk-toggleable__control:checked~label.sk-toggleable__label {background-color: #d4ebff;}#sk-container-id-1 div.sk-label input.sk-toggleable__control:checked~label.sk-toggleable__label {background-color: #d4ebff;}#sk-container-id-1 input.sk-hidden--visually {border: 0;clip: rect(1px 1px 1px 1px);clip: rect(1px, 1px, 1px, 1px);height: 1px;margin: -1px;overflow: hidden;padding: 0;position: absolute;width: 1px;}#sk-container-id-1 div.sk-estimator {font-family: monospace;background-color: #f0f8ff;border: 1px dotted black;border-radius: 0.25em;box-sizing: border-box;margin-bottom: 0.5em;}#sk-container-id-1 div.sk-estimator:hover {background-color: #d4ebff;}#sk-container-id-1 div.sk-parallel-item::after {content: \"\";width: 100%;border-bottom: 1px solid gray;flex-grow: 1;}#sk-container-id-1 div.sk-label:hover label.sk-toggleable__label {background-color: #d4ebff;}#sk-container-id-1 div.sk-serial::before {content: \"\";position: absolute;border-left: 1px solid gray;box-sizing: border-box;top: 0;bottom: 0;left: 50%;z-index: 0;}#sk-container-id-1 div.sk-serial {display: flex;flex-direction: column;align-items: center;background-color: white;padding-right: 0.2em;padding-left: 0.2em;position: relative;}#sk-container-id-1 div.sk-item {position: relative;z-index: 1;}#sk-container-id-1 div.sk-parallel {display: flex;align-items: stretch;justify-content: center;background-color: white;position: relative;}#sk-container-id-1 div.sk-item::before, #sk-container-id-1 div.sk-parallel-item::before {content: \"\";position: absolute;border-left: 1px solid gray;box-sizing: border-box;top: 0;bottom: 0;left: 50%;z-index: -1;}#sk-container-id-1 div.sk-parallel-item {display: flex;flex-direction: column;z-index: 1;position: relative;background-color: white;}#sk-container-id-1 div.sk-parallel-item:first-child::after {align-self: flex-end;width: 50%;}#sk-container-id-1 div.sk-parallel-item:last-child::after {align-self: flex-start;width: 50%;}#sk-container-id-1 div.sk-parallel-item:only-child::after {width: 0;}#sk-container-id-1 div.sk-dashed-wrapped {border: 1px dashed gray;margin: 0 0.4em 0.5em 0.4em;box-sizing: border-box;padding-bottom: 0.4em;background-color: white;}#sk-container-id-1 div.sk-label label {font-family: monospace;font-weight: bold;display: inline-block;line-height: 1.2em;}#sk-container-id-1 div.sk-label-container {text-align: center;}#sk-container-id-1 div.sk-container {/* jupyter's `normalize.less` sets `[hidden] { display: none; }` but bootstrap.min.css set `[hidden] { display: none !important; }` so we also need the `!important` here to be able to override the default hidden behavior on the sphinx rendered scikit-learn.org. See: https://github.com/scikit-learn/scikit-learn/issues/21755 */display: inline-block !important;position: relative;}#sk-container-id-1 div.sk-text-repr-fallback {display: none;}</style><div id=\"sk-container-id-1\" class=\"sk-top-container\"><div class=\"sk-text-repr-fallback\"><pre>LabelEncoder()</pre><b>In a Jupyter environment, please rerun this cell to show the HTML representation or trust the notebook. <br />On GitHub, the HTML representation is unable to render, please try loading this page with nbviewer.org.</b></div><div class=\"sk-container\" hidden><div class=\"sk-item\"><div class=\"sk-estimator sk-toggleable\"><input class=\"sk-toggleable__control sk-hidden--visually\" id=\"sk-estimator-id-1\" type=\"checkbox\" checked><label for=\"sk-estimator-id-1\" class=\"sk-toggleable__label sk-toggleable__label-arrow\">LabelEncoder</label><div class=\"sk-toggleable__content\"><pre>LabelEncoder()</pre></div></div></div></div></div>"
      ],
      "text/plain": [
       "LabelEncoder()"
      ]
     },
     "execution_count": 23,
     "metadata": {},
     "output_type": "execute_result"
    }
   ],
   "source": [
    "label_encoder.fit(en_df[\"Cabin_side\"])"
   ]
  },
  {
   "cell_type": "code",
   "execution_count": 24,
   "id": "9900b202-cc47-44f7-81fd-82f957a81e4f",
   "metadata": {},
   "outputs": [
    {
     "data": {
      "text/plain": [
       "0          P\n",
       "1          S\n",
       "2          S\n",
       "3          S\n",
       "4          S\n",
       "        ... \n",
       "12965      S\n",
       "12966    NaN\n",
       "12967      P\n",
       "12968      P\n",
       "12969      S\n",
       "Name: Cabin_side, Length: 12970, dtype: object"
      ]
     },
     "execution_count": 24,
     "metadata": {},
     "output_type": "execute_result"
    }
   ],
   "source": [
    "en_df[\"Cabin_side\"]"
   ]
  },
  {
   "cell_type": "code",
   "execution_count": 25,
   "id": "187ccb08-f599-41a0-b4b9-c0ddbdfbbb77",
   "metadata": {},
   "outputs": [
    {
     "data": {
      "text/plain": [
       "array([0, 1, 1, ..., 0, 0, 1])"
      ]
     },
     "execution_count": 25,
     "metadata": {},
     "output_type": "execute_result"
    }
   ],
   "source": [
    "label_encoder.transform(en_df[\"Cabin_side\"])"
   ]
  },
  {
   "cell_type": "code",
   "execution_count": 26,
   "id": "40983992-20c2-4870-843d-7d3904b043b1",
   "metadata": {},
   "outputs": [],
   "source": [
    "en_df[\"Cabin_side\"] = label_encoder.transform(en_df[\"Cabin_side\"])"
   ]
  },
  {
   "cell_type": "code",
   "execution_count": 27,
   "id": "46e5a39c-d799-4d98-97b7-55a4e9ff6968",
   "metadata": {
    "tags": []
   },
   "outputs": [],
   "source": [
    "en_df['CryoSleep'] = en_df['CryoSleep'].apply(lambda x: int(x) if pd.notnull(x) else np.nan)"
   ]
  },
  {
   "cell_type": "code",
   "execution_count": 28,
   "id": "4ec970e6-c62b-4875-abb5-a059777132f4",
   "metadata": {
    "tags": []
   },
   "outputs": [],
   "source": [
    "en_df['VIP'] = en_df['VIP'].apply(lambda x: int(x) if pd.notnull(x) else np.nan)"
   ]
  },
  {
   "cell_type": "code",
   "execution_count": 29,
   "id": "dc960ef8-b59f-41cb-b49c-7526f90a7db4",
   "metadata": {
    "tags": []
   },
   "outputs": [],
   "source": [
    "en_df['is_alone'] = en_df['is_alone'].apply(lambda x: int(x) if pd.notnull(x) else np.nan)"
   ]
  },
  {
   "cell_type": "code",
   "execution_count": 30,
   "id": "78bf0e75-ed5a-447f-9efd-79aa13818471",
   "metadata": {
    "tags": []
   },
   "outputs": [],
   "source": [
    "corr_en_df = en_df.drop([\"PassengerId\",\"HomePlanet\",\"Cabin\",\"Destination\",\"Name\",\"LastName\",\"Cabin_deck\",\"Cabin_deck_grouped\",\"Transported\"],axis=1)"
   ]
  },
  {
   "cell_type": "code",
   "execution_count": 31,
   "id": "c169ae97-b366-4a46-90cb-6ebc8d2b798c",
   "metadata": {
    "tags": []
   },
   "outputs": [
    {
     "name": "stdout",
     "output_type": "stream",
     "text": [
      "<class 'pandas.core.frame.DataFrame'>\n",
      "RangeIndex: 12970 entries, 0 to 12969\n",
      "Data columns (total 23 columns):\n",
      " #   Column           Non-Null Count  Dtype  \n",
      "---  ------           --------------  -----  \n",
      " 0   CryoSleep        12660 non-null  float64\n",
      " 1   Age              12700 non-null  float64\n",
      " 2   VIP              12674 non-null  float64\n",
      " 3   RoomService      12707 non-null  float64\n",
      " 4   FoodCourt        12681 non-null  float64\n",
      " 5   ShoppingMall     12664 non-null  float64\n",
      " 6   Spa              12686 non-null  float64\n",
      " 7   VRDeck           12702 non-null  float64\n",
      " 8   GroupId          12970 non-null  int64  \n",
      " 9   GroupSize        12970 non-null  int64  \n",
      " 10  is_alone         12970 non-null  int64  \n",
      " 11  Cabin_side       12970 non-null  int64  \n",
      " 12  Cabin_num        12671 non-null  float64\n",
      " 13  spend_money      11607 non-null  float64\n",
      " 14  D_55 Cancri e    12970 non-null  int64  \n",
      " 15  D_PSO J318.5-22  12970 non-null  int64  \n",
      " 16  D_TRAPPIST-1e    12970 non-null  int64  \n",
      " 17  HP_Earth         12970 non-null  int64  \n",
      " 18  HP_Europa        12970 non-null  int64  \n",
      " 19  HP_Mars          12970 non-null  int64  \n",
      " 20  Cdg_F            12970 non-null  int64  \n",
      " 21  Cdg_G            12970 non-null  int64  \n",
      " 22  Cdg_Other        12970 non-null  int64  \n",
      "dtypes: float64(10), int64(13)\n",
      "memory usage: 2.3 MB\n"
     ]
    }
   ],
   "source": [
    "corr_en_df.info()"
   ]
  },
  {
   "cell_type": "code",
   "execution_count": 32,
   "id": "04431a4b-5e77-4bde-b192-51cf2964ae81",
   "metadata": {
    "scrolled": true,
    "tags": []
   },
   "outputs": [
    {
     "data": {
      "text/html": [
       "<div>\n",
       "<style scoped>\n",
       "    .dataframe tbody tr th:only-of-type {\n",
       "        vertical-align: middle;\n",
       "    }\n",
       "\n",
       "    .dataframe tbody tr th {\n",
       "        vertical-align: top;\n",
       "    }\n",
       "\n",
       "    .dataframe thead th {\n",
       "        text-align: right;\n",
       "    }\n",
       "</style>\n",
       "<table border=\"1\" class=\"dataframe\">\n",
       "  <thead>\n",
       "    <tr style=\"text-align: right;\">\n",
       "      <th></th>\n",
       "      <th>CryoSleep</th>\n",
       "      <th>Age</th>\n",
       "      <th>VIP</th>\n",
       "      <th>RoomService</th>\n",
       "      <th>FoodCourt</th>\n",
       "      <th>ShoppingMall</th>\n",
       "      <th>Spa</th>\n",
       "      <th>VRDeck</th>\n",
       "      <th>GroupId</th>\n",
       "      <th>GroupSize</th>\n",
       "      <th>...</th>\n",
       "      <th>spend_money</th>\n",
       "      <th>D_55 Cancri e</th>\n",
       "      <th>D_PSO J318.5-22</th>\n",
       "      <th>D_TRAPPIST-1e</th>\n",
       "      <th>HP_Earth</th>\n",
       "      <th>HP_Europa</th>\n",
       "      <th>HP_Mars</th>\n",
       "      <th>Cdg_F</th>\n",
       "      <th>Cdg_G</th>\n",
       "      <th>Cdg_Other</th>\n",
       "    </tr>\n",
       "  </thead>\n",
       "  <tbody>\n",
       "    <tr>\n",
       "      <th>CryoSleep</th>\n",
       "      <td>1.000000</td>\n",
       "      <td>-0.065908</td>\n",
       "      <td>-0.079417</td>\n",
       "      <td>-0.259539</td>\n",
       "      <td>-0.214126</td>\n",
       "      <td>-0.221576</td>\n",
       "      <td>-0.206224</td>\n",
       "      <td>-0.195491</td>\n",
       "      <td>-0.003759</td>\n",
       "      <td>0.081364</td>\n",
       "      <td>...</td>\n",
       "      <td>-0.387008</td>\n",
       "      <td>0.069455</td>\n",
       "      <td>0.088941</td>\n",
       "      <td>-0.109418</td>\n",
       "      <td>-0.121192</td>\n",
       "      <td>0.106253</td>\n",
       "      <td>0.035212</td>\n",
       "      <td>-0.226259</td>\n",
       "      <td>0.246670</td>\n",
       "      <td>-0.017408</td>\n",
       "    </tr>\n",
       "    <tr>\n",
       "      <th>Age</th>\n",
       "      <td>-0.065908</td>\n",
       "      <td>1.000000</td>\n",
       "      <td>0.082068</td>\n",
       "      <td>0.067300</td>\n",
       "      <td>0.124447</td>\n",
       "      <td>0.034959</td>\n",
       "      <td>0.118992</td>\n",
       "      <td>0.101441</td>\n",
       "      <td>-0.013590</td>\n",
       "      <td>-0.178402</td>\n",
       "      <td>...</td>\n",
       "      <td>0.181097</td>\n",
       "      <td>0.021579</td>\n",
       "      <td>-0.031337</td>\n",
       "      <td>-0.000539</td>\n",
       "      <td>-0.213995</td>\n",
       "      <td>0.221707</td>\n",
       "      <td>0.026708</td>\n",
       "      <td>-0.019674</td>\n",
       "      <td>-0.212083</td>\n",
       "      <td>0.219498</td>\n",
       "    </tr>\n",
       "    <tr>\n",
       "      <th>VIP</th>\n",
       "      <td>-0.079417</td>\n",
       "      <td>0.082068</td>\n",
       "      <td>1.000000</td>\n",
       "      <td>0.060926</td>\n",
       "      <td>0.128288</td>\n",
       "      <td>0.024289</td>\n",
       "      <td>0.082750</td>\n",
       "      <td>0.113856</td>\n",
       "      <td>0.012376</td>\n",
       "      <td>0.003905</td>\n",
       "      <td>...</td>\n",
       "      <td>0.176999</td>\n",
       "      <td>0.039858</td>\n",
       "      <td>-0.005552</td>\n",
       "      <td>-0.027851</td>\n",
       "      <td>-0.161091</td>\n",
       "      <td>0.141002</td>\n",
       "      <td>0.047960</td>\n",
       "      <td>-0.055894</td>\n",
       "      <td>-0.095144</td>\n",
       "      <td>0.143877</td>\n",
       "    </tr>\n",
       "    <tr>\n",
       "      <th>RoomService</th>\n",
       "      <td>-0.259539</td>\n",
       "      <td>0.067300</td>\n",
       "      <td>0.060926</td>\n",
       "      <td>1.000000</td>\n",
       "      <td>-0.020146</td>\n",
       "      <td>0.057402</td>\n",
       "      <td>0.008936</td>\n",
       "      <td>-0.023847</td>\n",
       "      <td>-0.000886</td>\n",
       "      <td>-0.033886</td>\n",
       "      <td>...</td>\n",
       "      <td>0.220580</td>\n",
       "      <td>-0.023729</td>\n",
       "      <td>-0.061427</td>\n",
       "      <td>0.060421</td>\n",
       "      <td>-0.144332</td>\n",
       "      <td>-0.076628</td>\n",
       "      <td>0.257046</td>\n",
       "      <td>0.090355</td>\n",
       "      <td>-0.148463</td>\n",
       "      <td>0.046463</td>\n",
       "    </tr>\n",
       "    <tr>\n",
       "      <th>FoodCourt</th>\n",
       "      <td>-0.214126</td>\n",
       "      <td>0.124447</td>\n",
       "      <td>0.128288</td>\n",
       "      <td>-0.020146</td>\n",
       "      <td>1.000000</td>\n",
       "      <td>-0.001589</td>\n",
       "      <td>0.228990</td>\n",
       "      <td>0.244279</td>\n",
       "      <td>-0.010845</td>\n",
       "      <td>0.019643</td>\n",
       "      <td>...</td>\n",
       "      <td>0.749670</td>\n",
       "      <td>0.131756</td>\n",
       "      <td>-0.062591</td>\n",
       "      <td>-0.071840</td>\n",
       "      <td>-0.210537</td>\n",
       "      <td>0.366857</td>\n",
       "      <td>-0.130630</td>\n",
       "      <td>-0.132189</td>\n",
       "      <td>-0.149289</td>\n",
       "      <td>0.270554</td>\n",
       "    </tr>\n",
       "    <tr>\n",
       "      <th>ShoppingMall</th>\n",
       "      <td>-0.221576</td>\n",
       "      <td>0.034959</td>\n",
       "      <td>0.024289</td>\n",
       "      <td>0.057402</td>\n",
       "      <td>-0.001589</td>\n",
       "      <td>1.000000</td>\n",
       "      <td>0.010504</td>\n",
       "      <td>0.004485</td>\n",
       "      <td>-0.006561</td>\n",
       "      <td>-0.039131</td>\n",
       "      <td>...</td>\n",
       "      <td>0.231839</td>\n",
       "      <td>-0.015720</td>\n",
       "      <td>-0.029856</td>\n",
       "      <td>0.032696</td>\n",
       "      <td>-0.076550</td>\n",
       "      <td>-0.034128</td>\n",
       "      <td>0.129095</td>\n",
       "      <td>0.077870</td>\n",
       "      <td>-0.113045</td>\n",
       "      <td>0.033510</td>\n",
       "    </tr>\n",
       "    <tr>\n",
       "      <th>Spa</th>\n",
       "      <td>-0.206224</td>\n",
       "      <td>0.118992</td>\n",
       "      <td>0.082750</td>\n",
       "      <td>0.008936</td>\n",
       "      <td>0.228990</td>\n",
       "      <td>0.010504</td>\n",
       "      <td>1.000000</td>\n",
       "      <td>0.149874</td>\n",
       "      <td>-0.006324</td>\n",
       "      <td>0.017875</td>\n",
       "      <td>...</td>\n",
       "      <td>0.598352</td>\n",
       "      <td>0.088005</td>\n",
       "      <td>-0.053483</td>\n",
       "      <td>-0.043558</td>\n",
       "      <td>-0.161168</td>\n",
       "      <td>0.273836</td>\n",
       "      <td>-0.091974</td>\n",
       "      <td>-0.086997</td>\n",
       "      <td>-0.127395</td>\n",
       "      <td>0.201513</td>\n",
       "    </tr>\n",
       "    <tr>\n",
       "      <th>VRDeck</th>\n",
       "      <td>-0.195491</td>\n",
       "      <td>0.101441</td>\n",
       "      <td>0.113856</td>\n",
       "      <td>-0.023847</td>\n",
       "      <td>0.244279</td>\n",
       "      <td>0.004485</td>\n",
       "      <td>0.149874</td>\n",
       "      <td>1.000000</td>\n",
       "      <td>0.005975</td>\n",
       "      <td>0.009689</td>\n",
       "      <td>...</td>\n",
       "      <td>0.588481</td>\n",
       "      <td>0.088589</td>\n",
       "      <td>-0.043602</td>\n",
       "      <td>-0.047237</td>\n",
       "      <td>-0.153553</td>\n",
       "      <td>0.284970</td>\n",
       "      <td>-0.113368</td>\n",
       "      <td>-0.096327</td>\n",
       "      <td>-0.124679</td>\n",
       "      <td>0.215814</td>\n",
       "    </tr>\n",
       "    <tr>\n",
       "      <th>GroupId</th>\n",
       "      <td>-0.003759</td>\n",
       "      <td>-0.013590</td>\n",
       "      <td>0.012376</td>\n",
       "      <td>-0.000886</td>\n",
       "      <td>-0.010845</td>\n",
       "      <td>-0.006561</td>\n",
       "      <td>-0.006324</td>\n",
       "      <td>0.005975</td>\n",
       "      <td>1.000000</td>\n",
       "      <td>0.007881</td>\n",
       "      <td>...</td>\n",
       "      <td>-0.010289</td>\n",
       "      <td>-0.007144</td>\n",
       "      <td>0.015622</td>\n",
       "      <td>-0.003329</td>\n",
       "      <td>0.016434</td>\n",
       "      <td>-0.003567</td>\n",
       "      <td>-0.015710</td>\n",
       "      <td>0.001290</td>\n",
       "      <td>0.008567</td>\n",
       "      <td>-0.006853</td>\n",
       "    </tr>\n",
       "    <tr>\n",
       "      <th>GroupSize</th>\n",
       "      <td>0.081364</td>\n",
       "      <td>-0.178402</td>\n",
       "      <td>0.003905</td>\n",
       "      <td>-0.033886</td>\n",
       "      <td>0.019643</td>\n",
       "      <td>-0.039131</td>\n",
       "      <td>0.017875</td>\n",
       "      <td>0.009689</td>\n",
       "      <td>0.007881</td>\n",
       "      <td>1.000000</td>\n",
       "      <td>...</td>\n",
       "      <td>0.008126</td>\n",
       "      <td>0.055643</td>\n",
       "      <td>-0.047903</td>\n",
       "      <td>-0.017227</td>\n",
       "      <td>-0.099901</td>\n",
       "      <td>0.136810</td>\n",
       "      <td>-0.021552</td>\n",
       "      <td>-0.128140</td>\n",
       "      <td>0.044335</td>\n",
       "      <td>0.080649</td>\n",
       "    </tr>\n",
       "    <tr>\n",
       "      <th>is_alone</th>\n",
       "      <td>-0.095758</td>\n",
       "      <td>0.129017</td>\n",
       "      <td>-0.034133</td>\n",
       "      <td>0.011009</td>\n",
       "      <td>-0.060617</td>\n",
       "      <td>0.030140</td>\n",
       "      <td>-0.045610</td>\n",
       "      <td>-0.043783</td>\n",
       "      <td>0.009553</td>\n",
       "      <td>-0.718415</td>\n",
       "      <td>...</td>\n",
       "      <td>-0.064296</td>\n",
       "      <td>-0.088106</td>\n",
       "      <td>0.090281</td>\n",
       "      <td>0.019365</td>\n",
       "      <td>0.251303</td>\n",
       "      <td>-0.243766</td>\n",
       "      <td>-0.050616</td>\n",
       "      <td>0.139388</td>\n",
       "      <td>0.054947</td>\n",
       "      <td>-0.186870</td>\n",
       "    </tr>\n",
       "    <tr>\n",
       "      <th>Cabin_side</th>\n",
       "      <td>0.018462</td>\n",
       "      <td>0.014619</td>\n",
       "      <td>-0.008816</td>\n",
       "      <td>0.000515</td>\n",
       "      <td>0.010017</td>\n",
       "      <td>-0.022888</td>\n",
       "      <td>0.012907</td>\n",
       "      <td>-0.001567</td>\n",
       "      <td>-0.009719</td>\n",
       "      <td>0.010866</td>\n",
       "      <td>...</td>\n",
       "      <td>0.006029</td>\n",
       "      <td>0.014782</td>\n",
       "      <td>-0.009910</td>\n",
       "      <td>-0.005614</td>\n",
       "      <td>-0.013768</td>\n",
       "      <td>0.025830</td>\n",
       "      <td>-0.010521</td>\n",
       "      <td>-0.066606</td>\n",
       "      <td>-0.043290</td>\n",
       "      <td>-0.023292</td>\n",
       "    </tr>\n",
       "    <tr>\n",
       "      <th>Cabin_num</th>\n",
       "      <td>-0.038676</td>\n",
       "      <td>-0.137871</td>\n",
       "      <td>-0.092971</td>\n",
       "      <td>-0.007937</td>\n",
       "      <td>-0.180268</td>\n",
       "      <td>-0.009483</td>\n",
       "      <td>-0.132617</td>\n",
       "      <td>-0.138885</td>\n",
       "      <td>0.682806</td>\n",
       "      <td>-0.055769</td>\n",
       "      <td>...</td>\n",
       "      <td>-0.218713</td>\n",
       "      <td>-0.148369</td>\n",
       "      <td>0.108626</td>\n",
       "      <td>0.061153</td>\n",
       "      <td>0.377540</td>\n",
       "      <td>-0.495602</td>\n",
       "      <td>0.062725</td>\n",
       "      <td>0.440539</td>\n",
       "      <td>0.192312</td>\n",
       "      <td>-0.613800</td>\n",
       "    </tr>\n",
       "    <tr>\n",
       "      <th>spend_money</th>\n",
       "      <td>-0.387008</td>\n",
       "      <td>0.181097</td>\n",
       "      <td>0.176999</td>\n",
       "      <td>0.220580</td>\n",
       "      <td>0.749670</td>\n",
       "      <td>0.231839</td>\n",
       "      <td>0.598352</td>\n",
       "      <td>0.588481</td>\n",
       "      <td>-0.010289</td>\n",
       "      <td>0.008126</td>\n",
       "      <td>...</td>\n",
       "      <td>1.000000</td>\n",
       "      <td>0.131557</td>\n",
       "      <td>-0.095321</td>\n",
       "      <td>-0.051771</td>\n",
       "      <td>-0.295807</td>\n",
       "      <td>0.410708</td>\n",
       "      <td>-0.073000</td>\n",
       "      <td>-0.113976</td>\n",
       "      <td>-0.244283</td>\n",
       "      <td>0.341490</td>\n",
       "    </tr>\n",
       "    <tr>\n",
       "      <th>D_55 Cancri e</th>\n",
       "      <td>0.069455</td>\n",
       "      <td>0.021579</td>\n",
       "      <td>0.039858</td>\n",
       "      <td>-0.023729</td>\n",
       "      <td>0.131756</td>\n",
       "      <td>-0.015720</td>\n",
       "      <td>0.088005</td>\n",
       "      <td>0.088589</td>\n",
       "      <td>-0.007144</td>\n",
       "      <td>0.055643</td>\n",
       "      <td>...</td>\n",
       "      <td>0.131557</td>\n",
       "      <td>1.000000</td>\n",
       "      <td>-0.160268</td>\n",
       "      <td>-0.743879</td>\n",
       "      <td>-0.164461</td>\n",
       "      <td>0.305584</td>\n",
       "      <td>-0.121852</td>\n",
       "      <td>-0.118849</td>\n",
       "      <td>-0.099806</td>\n",
       "      <td>0.209572</td>\n",
       "    </tr>\n",
       "    <tr>\n",
       "      <th>D_PSO J318.5-22</th>\n",
       "      <td>0.088941</td>\n",
       "      <td>-0.031337</td>\n",
       "      <td>-0.005552</td>\n",
       "      <td>-0.061427</td>\n",
       "      <td>-0.062591</td>\n",
       "      <td>-0.029856</td>\n",
       "      <td>-0.053483</td>\n",
       "      <td>-0.043602</td>\n",
       "      <td>0.015622</td>\n",
       "      <td>-0.047903</td>\n",
       "      <td>...</td>\n",
       "      <td>-0.095321</td>\n",
       "      <td>-0.160268</td>\n",
       "      <td>1.000000</td>\n",
       "      <td>-0.466273</td>\n",
       "      <td>0.238705</td>\n",
       "      <td>-0.163148</td>\n",
       "      <td>-0.118612</td>\n",
       "      <td>-0.014250</td>\n",
       "      <td>0.204892</td>\n",
       "      <td>-0.180056</td>\n",
       "    </tr>\n",
       "    <tr>\n",
       "      <th>D_TRAPPIST-1e</th>\n",
       "      <td>-0.109418</td>\n",
       "      <td>-0.000539</td>\n",
       "      <td>-0.027851</td>\n",
       "      <td>0.060421</td>\n",
       "      <td>-0.071840</td>\n",
       "      <td>0.032696</td>\n",
       "      <td>-0.043558</td>\n",
       "      <td>-0.047237</td>\n",
       "      <td>-0.003329</td>\n",
       "      <td>-0.017227</td>\n",
       "      <td>...</td>\n",
       "      <td>-0.051771</td>\n",
       "      <td>-0.743879</td>\n",
       "      <td>-0.466273</td>\n",
       "      <td>1.000000</td>\n",
       "      <td>-0.005675</td>\n",
       "      <td>-0.159963</td>\n",
       "      <td>0.175416</td>\n",
       "      <td>0.109488</td>\n",
       "      <td>-0.038703</td>\n",
       "      <td>-0.070233</td>\n",
       "    </tr>\n",
       "    <tr>\n",
       "      <th>HP_Earth</th>\n",
       "      <td>-0.121192</td>\n",
       "      <td>-0.213995</td>\n",
       "      <td>-0.161091</td>\n",
       "      <td>-0.144332</td>\n",
       "      <td>-0.210537</td>\n",
       "      <td>-0.076550</td>\n",
       "      <td>-0.161168</td>\n",
       "      <td>-0.153553</td>\n",
       "      <td>0.016434</td>\n",
       "      <td>-0.099901</td>\n",
       "      <td>...</td>\n",
       "      <td>-0.295807</td>\n",
       "      <td>-0.164461</td>\n",
       "      <td>0.238705</td>\n",
       "      <td>-0.005675</td>\n",
       "      <td>1.000000</td>\n",
       "      <td>-0.620672</td>\n",
       "      <td>-0.563399</td>\n",
       "      <td>0.061124</td>\n",
       "      <td>0.590737</td>\n",
       "      <td>-0.619314</td>\n",
       "    </tr>\n",
       "    <tr>\n",
       "      <th>HP_Europa</th>\n",
       "      <td>0.106253</td>\n",
       "      <td>0.221707</td>\n",
       "      <td>0.141002</td>\n",
       "      <td>-0.076628</td>\n",
       "      <td>0.366857</td>\n",
       "      <td>-0.034128</td>\n",
       "      <td>0.273836</td>\n",
       "      <td>0.284970</td>\n",
       "      <td>-0.003567</td>\n",
       "      <td>0.136810</td>\n",
       "      <td>...</td>\n",
       "      <td>0.410708</td>\n",
       "      <td>0.305584</td>\n",
       "      <td>-0.163148</td>\n",
       "      <td>-0.159963</td>\n",
       "      <td>-0.620672</td>\n",
       "      <td>1.000000</td>\n",
       "      <td>-0.296571</td>\n",
       "      <td>-0.398278</td>\n",
       "      <td>-0.366654</td>\n",
       "      <td>0.734598</td>\n",
       "    </tr>\n",
       "    <tr>\n",
       "      <th>HP_Mars</th>\n",
       "      <td>0.035212</td>\n",
       "      <td>0.026708</td>\n",
       "      <td>0.047960</td>\n",
       "      <td>0.257046</td>\n",
       "      <td>-0.130630</td>\n",
       "      <td>0.129095</td>\n",
       "      <td>-0.091974</td>\n",
       "      <td>-0.113368</td>\n",
       "      <td>-0.015710</td>\n",
       "      <td>-0.021552</td>\n",
       "      <td>...</td>\n",
       "      <td>-0.073000</td>\n",
       "      <td>-0.121852</td>\n",
       "      <td>-0.118612</td>\n",
       "      <td>0.175416</td>\n",
       "      <td>-0.563399</td>\n",
       "      <td>-0.296571</td>\n",
       "      <td>1.000000</td>\n",
       "      <td>0.345755</td>\n",
       "      <td>-0.332821</td>\n",
       "      <td>-0.020646</td>\n",
       "    </tr>\n",
       "    <tr>\n",
       "      <th>Cdg_F</th>\n",
       "      <td>-0.226259</td>\n",
       "      <td>-0.019674</td>\n",
       "      <td>-0.055894</td>\n",
       "      <td>0.090355</td>\n",
       "      <td>-0.132189</td>\n",
       "      <td>0.077870</td>\n",
       "      <td>-0.086997</td>\n",
       "      <td>-0.096327</td>\n",
       "      <td>0.001290</td>\n",
       "      <td>-0.128140</td>\n",
       "      <td>...</td>\n",
       "      <td>-0.113976</td>\n",
       "      <td>-0.118849</td>\n",
       "      <td>-0.014250</td>\n",
       "      <td>0.109488</td>\n",
       "      <td>0.061124</td>\n",
       "      <td>-0.398278</td>\n",
       "      <td>0.345755</td>\n",
       "      <td>1.000000</td>\n",
       "      <td>-0.446960</td>\n",
       "      <td>-0.521000</td>\n",
       "    </tr>\n",
       "    <tr>\n",
       "      <th>Cdg_G</th>\n",
       "      <td>0.246670</td>\n",
       "      <td>-0.212083</td>\n",
       "      <td>-0.095144</td>\n",
       "      <td>-0.148463</td>\n",
       "      <td>-0.149289</td>\n",
       "      <td>-0.113045</td>\n",
       "      <td>-0.127395</td>\n",
       "      <td>-0.124679</td>\n",
       "      <td>0.008567</td>\n",
       "      <td>0.044335</td>\n",
       "      <td>...</td>\n",
       "      <td>-0.244283</td>\n",
       "      <td>-0.099806</td>\n",
       "      <td>0.204892</td>\n",
       "      <td>-0.038703</td>\n",
       "      <td>0.590737</td>\n",
       "      <td>-0.366654</td>\n",
       "      <td>-0.332821</td>\n",
       "      <td>-0.446960</td>\n",
       "      <td>1.000000</td>\n",
       "      <td>-0.479631</td>\n",
       "    </tr>\n",
       "    <tr>\n",
       "      <th>Cdg_Other</th>\n",
       "      <td>-0.017408</td>\n",
       "      <td>0.219498</td>\n",
       "      <td>0.143877</td>\n",
       "      <td>0.046463</td>\n",
       "      <td>0.270554</td>\n",
       "      <td>0.033510</td>\n",
       "      <td>0.201513</td>\n",
       "      <td>0.215814</td>\n",
       "      <td>-0.006853</td>\n",
       "      <td>0.080649</td>\n",
       "      <td>...</td>\n",
       "      <td>0.341490</td>\n",
       "      <td>0.209572</td>\n",
       "      <td>-0.180056</td>\n",
       "      <td>-0.070233</td>\n",
       "      <td>-0.619314</td>\n",
       "      <td>0.734598</td>\n",
       "      <td>-0.020646</td>\n",
       "      <td>-0.521000</td>\n",
       "      <td>-0.479631</td>\n",
       "      <td>1.000000</td>\n",
       "    </tr>\n",
       "  </tbody>\n",
       "</table>\n",
       "<p>23 rows × 23 columns</p>\n",
       "</div>"
      ],
      "text/plain": [
       "                 CryoSleep       Age       VIP  RoomService  FoodCourt  \\\n",
       "CryoSleep         1.000000 -0.065908 -0.079417    -0.259539  -0.214126   \n",
       "Age              -0.065908  1.000000  0.082068     0.067300   0.124447   \n",
       "VIP              -0.079417  0.082068  1.000000     0.060926   0.128288   \n",
       "RoomService      -0.259539  0.067300  0.060926     1.000000  -0.020146   \n",
       "FoodCourt        -0.214126  0.124447  0.128288    -0.020146   1.000000   \n",
       "ShoppingMall     -0.221576  0.034959  0.024289     0.057402  -0.001589   \n",
       "Spa              -0.206224  0.118992  0.082750     0.008936   0.228990   \n",
       "VRDeck           -0.195491  0.101441  0.113856    -0.023847   0.244279   \n",
       "GroupId          -0.003759 -0.013590  0.012376    -0.000886  -0.010845   \n",
       "GroupSize         0.081364 -0.178402  0.003905    -0.033886   0.019643   \n",
       "is_alone         -0.095758  0.129017 -0.034133     0.011009  -0.060617   \n",
       "Cabin_side        0.018462  0.014619 -0.008816     0.000515   0.010017   \n",
       "Cabin_num        -0.038676 -0.137871 -0.092971    -0.007937  -0.180268   \n",
       "spend_money      -0.387008  0.181097  0.176999     0.220580   0.749670   \n",
       "D_55 Cancri e     0.069455  0.021579  0.039858    -0.023729   0.131756   \n",
       "D_PSO J318.5-22   0.088941 -0.031337 -0.005552    -0.061427  -0.062591   \n",
       "D_TRAPPIST-1e    -0.109418 -0.000539 -0.027851     0.060421  -0.071840   \n",
       "HP_Earth         -0.121192 -0.213995 -0.161091    -0.144332  -0.210537   \n",
       "HP_Europa         0.106253  0.221707  0.141002    -0.076628   0.366857   \n",
       "HP_Mars           0.035212  0.026708  0.047960     0.257046  -0.130630   \n",
       "Cdg_F            -0.226259 -0.019674 -0.055894     0.090355  -0.132189   \n",
       "Cdg_G             0.246670 -0.212083 -0.095144    -0.148463  -0.149289   \n",
       "Cdg_Other        -0.017408  0.219498  0.143877     0.046463   0.270554   \n",
       "\n",
       "                 ShoppingMall       Spa    VRDeck   GroupId  GroupSize  ...  \\\n",
       "CryoSleep           -0.221576 -0.206224 -0.195491 -0.003759   0.081364  ...   \n",
       "Age                  0.034959  0.118992  0.101441 -0.013590  -0.178402  ...   \n",
       "VIP                  0.024289  0.082750  0.113856  0.012376   0.003905  ...   \n",
       "RoomService          0.057402  0.008936 -0.023847 -0.000886  -0.033886  ...   \n",
       "FoodCourt           -0.001589  0.228990  0.244279 -0.010845   0.019643  ...   \n",
       "ShoppingMall         1.000000  0.010504  0.004485 -0.006561  -0.039131  ...   \n",
       "Spa                  0.010504  1.000000  0.149874 -0.006324   0.017875  ...   \n",
       "VRDeck               0.004485  0.149874  1.000000  0.005975   0.009689  ...   \n",
       "GroupId             -0.006561 -0.006324  0.005975  1.000000   0.007881  ...   \n",
       "GroupSize           -0.039131  0.017875  0.009689  0.007881   1.000000  ...   \n",
       "is_alone             0.030140 -0.045610 -0.043783  0.009553  -0.718415  ...   \n",
       "Cabin_side          -0.022888  0.012907 -0.001567 -0.009719   0.010866  ...   \n",
       "Cabin_num           -0.009483 -0.132617 -0.138885  0.682806  -0.055769  ...   \n",
       "spend_money          0.231839  0.598352  0.588481 -0.010289   0.008126  ...   \n",
       "D_55 Cancri e       -0.015720  0.088005  0.088589 -0.007144   0.055643  ...   \n",
       "D_PSO J318.5-22     -0.029856 -0.053483 -0.043602  0.015622  -0.047903  ...   \n",
       "D_TRAPPIST-1e        0.032696 -0.043558 -0.047237 -0.003329  -0.017227  ...   \n",
       "HP_Earth            -0.076550 -0.161168 -0.153553  0.016434  -0.099901  ...   \n",
       "HP_Europa           -0.034128  0.273836  0.284970 -0.003567   0.136810  ...   \n",
       "HP_Mars              0.129095 -0.091974 -0.113368 -0.015710  -0.021552  ...   \n",
       "Cdg_F                0.077870 -0.086997 -0.096327  0.001290  -0.128140  ...   \n",
       "Cdg_G               -0.113045 -0.127395 -0.124679  0.008567   0.044335  ...   \n",
       "Cdg_Other            0.033510  0.201513  0.215814 -0.006853   0.080649  ...   \n",
       "\n",
       "                 spend_money  D_55 Cancri e  D_PSO J318.5-22  D_TRAPPIST-1e  \\\n",
       "CryoSleep          -0.387008       0.069455         0.088941      -0.109418   \n",
       "Age                 0.181097       0.021579        -0.031337      -0.000539   \n",
       "VIP                 0.176999       0.039858        -0.005552      -0.027851   \n",
       "RoomService         0.220580      -0.023729        -0.061427       0.060421   \n",
       "FoodCourt           0.749670       0.131756        -0.062591      -0.071840   \n",
       "ShoppingMall        0.231839      -0.015720        -0.029856       0.032696   \n",
       "Spa                 0.598352       0.088005        -0.053483      -0.043558   \n",
       "VRDeck              0.588481       0.088589        -0.043602      -0.047237   \n",
       "GroupId            -0.010289      -0.007144         0.015622      -0.003329   \n",
       "GroupSize           0.008126       0.055643        -0.047903      -0.017227   \n",
       "is_alone           -0.064296      -0.088106         0.090281       0.019365   \n",
       "Cabin_side          0.006029       0.014782        -0.009910      -0.005614   \n",
       "Cabin_num          -0.218713      -0.148369         0.108626       0.061153   \n",
       "spend_money         1.000000       0.131557        -0.095321      -0.051771   \n",
       "D_55 Cancri e       0.131557       1.000000        -0.160268      -0.743879   \n",
       "D_PSO J318.5-22    -0.095321      -0.160268         1.000000      -0.466273   \n",
       "D_TRAPPIST-1e      -0.051771      -0.743879        -0.466273       1.000000   \n",
       "HP_Earth           -0.295807      -0.164461         0.238705      -0.005675   \n",
       "HP_Europa           0.410708       0.305584        -0.163148      -0.159963   \n",
       "HP_Mars            -0.073000      -0.121852        -0.118612       0.175416   \n",
       "Cdg_F              -0.113976      -0.118849        -0.014250       0.109488   \n",
       "Cdg_G              -0.244283      -0.099806         0.204892      -0.038703   \n",
       "Cdg_Other           0.341490       0.209572        -0.180056      -0.070233   \n",
       "\n",
       "                 HP_Earth  HP_Europa   HP_Mars     Cdg_F     Cdg_G  Cdg_Other  \n",
       "CryoSleep       -0.121192   0.106253  0.035212 -0.226259  0.246670  -0.017408  \n",
       "Age             -0.213995   0.221707  0.026708 -0.019674 -0.212083   0.219498  \n",
       "VIP             -0.161091   0.141002  0.047960 -0.055894 -0.095144   0.143877  \n",
       "RoomService     -0.144332  -0.076628  0.257046  0.090355 -0.148463   0.046463  \n",
       "FoodCourt       -0.210537   0.366857 -0.130630 -0.132189 -0.149289   0.270554  \n",
       "ShoppingMall    -0.076550  -0.034128  0.129095  0.077870 -0.113045   0.033510  \n",
       "Spa             -0.161168   0.273836 -0.091974 -0.086997 -0.127395   0.201513  \n",
       "VRDeck          -0.153553   0.284970 -0.113368 -0.096327 -0.124679   0.215814  \n",
       "GroupId          0.016434  -0.003567 -0.015710  0.001290  0.008567  -0.006853  \n",
       "GroupSize       -0.099901   0.136810 -0.021552 -0.128140  0.044335   0.080649  \n",
       "is_alone         0.251303  -0.243766 -0.050616  0.139388  0.054947  -0.186870  \n",
       "Cabin_side      -0.013768   0.025830 -0.010521 -0.066606 -0.043290  -0.023292  \n",
       "Cabin_num        0.377540  -0.495602  0.062725  0.440539  0.192312  -0.613800  \n",
       "spend_money     -0.295807   0.410708 -0.073000 -0.113976 -0.244283   0.341490  \n",
       "D_55 Cancri e   -0.164461   0.305584 -0.121852 -0.118849 -0.099806   0.209572  \n",
       "D_PSO J318.5-22  0.238705  -0.163148 -0.118612 -0.014250  0.204892  -0.180056  \n",
       "D_TRAPPIST-1e   -0.005675  -0.159963  0.175416  0.109488 -0.038703  -0.070233  \n",
       "HP_Earth         1.000000  -0.620672 -0.563399  0.061124  0.590737  -0.619314  \n",
       "HP_Europa       -0.620672   1.000000 -0.296571 -0.398278 -0.366654   0.734598  \n",
       "HP_Mars         -0.563399  -0.296571  1.000000  0.345755 -0.332821  -0.020646  \n",
       "Cdg_F            0.061124  -0.398278  0.345755  1.000000 -0.446960  -0.521000  \n",
       "Cdg_G            0.590737  -0.366654 -0.332821 -0.446960  1.000000  -0.479631  \n",
       "Cdg_Other       -0.619314   0.734598 -0.020646 -0.521000 -0.479631   1.000000  \n",
       "\n",
       "[23 rows x 23 columns]"
      ]
     },
     "execution_count": 32,
     "metadata": {},
     "output_type": "execute_result"
    }
   ],
   "source": [
    "corr_en_df.corr()"
   ]
  },
  {
   "cell_type": "code",
   "execution_count": 33,
   "id": "d9f24b1d-5f9a-4011-884d-3e230b834ae8",
   "metadata": {},
   "outputs": [],
   "source": [
    "spaceship_titanic_corr = corr_en_df.corr()"
   ]
  },
  {
   "cell_type": "code",
   "execution_count": 34,
   "id": "6c1e43cc-ff1d-43db-aa01-19bed31ce92e",
   "metadata": {},
   "outputs": [],
   "source": [
    "spaceship_titanic_corr.to_excel('./data/spaceship_titanic_corr.xlsx')"
   ]
  },
  {
   "cell_type": "code",
   "execution_count": 35,
   "id": "470725a1-dc9c-4e88-a0cb-a491e75a7d74",
   "metadata": {
    "tags": []
   },
   "outputs": [
    {
     "data": {
      "text/plain": [
       "<Axes: >"
      ]
     },
     "execution_count": 35,
     "metadata": {},
     "output_type": "execute_result"
    },
    {
     "data": {
      "image/png": "[encoded data removed]",
      "text/plain": [
       "<Figure size 640x480 with 2 Axes>"
      ]
     },
     "metadata": {},
     "output_type": "display_data"
    }
   ],
   "source": [
    "sns.heatmap(\n",
    "    corr_en_df.corr(),\n",
    "    fmt = \"d\", \n",
    "    linewidth=0.5,\n",
    "    cmap=\"OrRd\"\n",
    "    )"
   ]
  },
  {
   "cell_type": "markdown",
   "id": "7abab2ca-cf54-4f2f-ba85-97a613316cfc",
   "metadata": {},
   "source": [
    "#### 위에 corr()을 보면 파생변수들 제외, 인코딩한 연관값들제외"
   ]
  },
  {
   "cell_type": "markdown",
   "id": "3651fe3e-30df-4104-b824-0eac27c87c13",
   "metadata": {},
   "source": [
    "#### HomePlanet과 Cabin_deck_grouped과 연관성이 제일 깊어 보임"
   ]
  },
  {
   "cell_type": "code",
   "execution_count": 36,
   "id": "cd285f75-f8bd-4ab2-affb-10f7144eee8c",
   "metadata": {},
   "outputs": [
    {
     "data": {
      "text/plain": [
       "<Axes: xlabel='Cabin_deck_grouped', ylabel='HomePlanet'>"
      ]
     },
     "execution_count": 36,
     "metadata": {},
     "output_type": "execute_result"
    },
    {
     "data": {
      "image/png": "[encoded data removed]",
      "text/plain": [
       "<Figure size 1000x400 with 2 Axes>"
      ]
     },
     "metadata": {},
     "output_type": "display_data"
    }
   ],
   "source": [
    "HPCdg_gb = df.groupby(['Cabin_deck_grouped','HomePlanet'])['HomePlanet'].size().unstack().fillna(0)\n",
    "plt.figure(figsize=(10,4))\n",
    "sns.heatmap(HPCdg_gb.T, annot=True, fmt='g', cmap='coolwarm')"
   ]
  },
  {
   "cell_type": "code",
   "execution_count": 37,
   "id": "f5c2fc70-ec0c-4356-87e9-dfe93f490c2e",
   "metadata": {},
   "outputs": [
    {
     "data": {
      "text/plain": [
       "<Axes: xlabel='HomePlanet', ylabel='count'>"
      ]
     },
     "execution_count": 37,
     "metadata": {},
     "output_type": "execute_result"
    },
    {
     "data": {
      "image/png": "[encoded data removed]",
      "text/plain": [
       "<Figure size 640x480 with 1 Axes>"
      ]
     },
     "metadata": {},
     "output_type": "display_data"
    }
   ],
   "source": [
    "sns.countplot(\n",
    "    x = \"HomePlanet\",\n",
    "    palette = \"pastel\",\n",
    "    hue = \"Cabin_deck_grouped\",\n",
    "    data =df)"
   ]
  },
  {
   "cell_type": "code",
   "execution_count": 38,
   "id": "1a246e44-0131-442e-91ae-c89a909badea",
   "metadata": {},
   "outputs": [],
   "source": [
    "df['HomePlanet'] = df['HomePlanet'].fillna(df.groupby('Cabin_deck_grouped')['HomePlanet'].transform(lambda x: x.mode()[0] if not x.mode().empty else np.nan))"
   ]
  },
  {
   "cell_type": "code",
   "execution_count": 39,
   "id": "729cea1b-78c9-40b3-b6d8-9b9c4894bce0",
   "metadata": {},
   "outputs": [
    {
     "data": {
      "text/plain": [
       "PassengerId              0\n",
       "HomePlanet               0\n",
       "CryoSleep              310\n",
       "Cabin                  299\n",
       "Destination            274\n",
       "Age                    270\n",
       "VIP                    296\n",
       "RoomService            263\n",
       "FoodCourt              289\n",
       "ShoppingMall           306\n",
       "Spa                    284\n",
       "VRDeck                 268\n",
       "Name                   294\n",
       "Transported           4277\n",
       "GroupId                  0\n",
       "GroupSize                0\n",
       "is_alone                 0\n",
       "Cabin_deck             299\n",
       "Cabin_side             299\n",
       "Cabin_deck_grouped     299\n",
       "Cabin_num              299\n",
       "LastName                 0\n",
       "spend_money           1363\n",
       "dtype: int64"
      ]
     },
     "execution_count": 39,
     "metadata": {},
     "output_type": "execute_result"
    }
   ],
   "source": [
    "df.isnull().sum()"
   ]
  },
  {
   "cell_type": "markdown",
   "id": "70dae886-bfac-4068-9175-8643d7c6cf41",
   "metadata": {},
   "source": [
    "#### groupId와 Cabin_num이 서로 깊은 연관성이 보임"
   ]
  },
  {
   "cell_type": "code",
   "execution_count": 40,
   "id": "b315b944-8d57-4d51-858f-498a50b02255",
   "metadata": {},
   "outputs": [
    {
     "data": {
      "text/plain": [
       "<Axes: xlabel='GroupId', ylabel='Cabin_num'>"
      ]
     },
     "execution_count": 40,
     "metadata": {},
     "output_type": "execute_result"
    },
    {
     "data": {
      "image/png": "[encoded data removed]",
      "text/plain": [
       "<Figure size 640x480 with 1 Axes>"
      ]
     },
     "metadata": {},
     "output_type": "display_data"
    }
   ],
   "source": [
    "sns.regplot(\n",
    "    x = \"GroupId\",\n",
    "    y = \"Cabin_num\",\n",
    "    data = df,\n",
    "    scatter_kws = {\"s\":0.5},\n",
    "    line_kws = {\"color\":\"coral\"})"
   ]
  },
  {
   "cell_type": "code",
   "execution_count": 41,
   "id": "11440cef-e0c2-4140-82f1-74b7c3f6ab95",
   "metadata": {},
   "outputs": [],
   "source": [
    "df_not_null = df.dropna(subset=['Cabin_num'])\n",
    "df_null = df[df['Cabin_num'].isnull()]"
   ]
  },
  {
   "cell_type": "code",
   "execution_count": 42,
   "id": "99dd8575-d932-4e2f-832f-7cd86a440fda",
   "metadata": {},
   "outputs": [
    {
     "data": {
      "text/html": [
       "<style>#sk-container-id-2 {color: black;}#sk-container-id-2 pre{padding: 0;}#sk-container-id-2 div.sk-toggleable {background-color: white;}#sk-container-id-2 label.sk-toggleable__label {cursor: pointer;display: block;width: 100%;margin-bottom: 0;padding: 0.3em;box-sizing: border-box;text-align: center;}#sk-container-id-2 label.sk-toggleable__label-arrow:before {content: \"▸\";float: left;margin-right: 0.25em;color: #696969;}#sk-container-id-2 label.sk-toggleable__label-arrow:hover:before {color: black;}#sk-container-id-2 div.sk-estimator:hover label.sk-toggleable__label-arrow:before {color: black;}#sk-container-id-2 div.sk-toggleable__content {max-height: 0;max-width: 0;overflow: hidden;text-align: left;background-color: #f0f8ff;}#sk-container-id-2 div.sk-toggleable__content pre {margin: 0.2em;color: black;border-radius: 0.25em;background-color: #f0f8ff;}#sk-container-id-2 input.sk-toggleable__control:checked~div.sk-toggleable__content {max-height: 200px;max-width: 100%;overflow: auto;}#sk-container-id-2 input.sk-toggleable__control:checked~label.sk-toggleable__label-arrow:before {content: \"▾\";}#sk-container-id-2 div.sk-estimator input.sk-toggleable__control:checked~label.sk-toggleable__label {background-color: #d4ebff;}#sk-container-id-2 div.sk-label input.sk-toggleable__control:checked~label.sk-toggleable__label {background-color: #d4ebff;}#sk-container-id-2 input.sk-hidden--visually {border: 0;clip: rect(1px 1px 1px 1px);clip: rect(1px, 1px, 1px, 1px);height: 1px;margin: -1px;overflow: hidden;padding: 0;position: absolute;width: 1px;}#sk-container-id-2 div.sk-estimator {font-family: monospace;background-color: #f0f8ff;border: 1px dotted black;border-radius: 0.25em;box-sizing: border-box;margin-bottom: 0.5em;}#sk-container-id-2 div.sk-estimator:hover {background-color: #d4ebff;}#sk-container-id-2 div.sk-parallel-item::after {content: \"\";width: 100%;border-bottom: 1px solid gray;flex-grow: 1;}#sk-container-id-2 div.sk-label:hover label.sk-toggleable__label {background-color: #d4ebff;}#sk-container-id-2 div.sk-serial::before {content: \"\";position: absolute;border-left: 1px solid gray;box-sizing: border-box;top: 0;bottom: 0;left: 50%;z-index: 0;}#sk-container-id-2 div.sk-serial {display: flex;flex-direction: column;align-items: center;background-color: white;padding-right: 0.2em;padding-left: 0.2em;position: relative;}#sk-container-id-2 div.sk-item {position: relative;z-index: 1;}#sk-container-id-2 div.sk-parallel {display: flex;align-items: stretch;justify-content: center;background-color: white;position: relative;}#sk-container-id-2 div.sk-item::before, #sk-container-id-2 div.sk-parallel-item::before {content: \"\";position: absolute;border-left: 1px solid gray;box-sizing: border-box;top: 0;bottom: 0;left: 50%;z-index: -1;}#sk-container-id-2 div.sk-parallel-item {display: flex;flex-direction: column;z-index: 1;position: relative;background-color: white;}#sk-container-id-2 div.sk-parallel-item:first-child::after {align-self: flex-end;width: 50%;}#sk-container-id-2 div.sk-parallel-item:last-child::after {align-self: flex-start;width: 50%;}#sk-container-id-2 div.sk-parallel-item:only-child::after {width: 0;}#sk-container-id-2 div.sk-dashed-wrapped {border: 1px dashed gray;margin: 0 0.4em 0.5em 0.4em;box-sizing: border-box;padding-bottom: 0.4em;background-color: white;}#sk-container-id-2 div.sk-label label {font-family: monospace;font-weight: bold;display: inline-block;line-height: 1.2em;}#sk-container-id-2 div.sk-label-container {text-align: center;}#sk-container-id-2 div.sk-container {/* jupyter's `normalize.less` sets `[hidden] { display: none; }` but bootstrap.min.css set `[hidden] { display: none !important; }` so we also need the `!important` here to be able to override the default hidden behavior on the sphinx rendered scikit-learn.org. See: https://github.com/scikit-learn/scikit-learn/issues/21755 */display: inline-block !important;position: relative;}#sk-container-id-2 div.sk-text-repr-fallback {display: none;}</style><div id=\"sk-container-id-2\" class=\"sk-top-container\"><div class=\"sk-text-repr-fallback\"><pre>LinearRegression()</pre><b>In a Jupyter environment, please rerun this cell to show the HTML representation or trust the notebook. <br />On GitHub, the HTML representation is unable to render, please try loading this page with nbviewer.org.</b></div><div class=\"sk-container\" hidden><div class=\"sk-item\"><div class=\"sk-estimator sk-toggleable\"><input class=\"sk-toggleable__control sk-hidden--visually\" id=\"sk-estimator-id-2\" type=\"checkbox\" checked><label for=\"sk-estimator-id-2\" class=\"sk-toggleable__label sk-toggleable__label-arrow\">LinearRegression</label><div class=\"sk-toggleable__content\"><pre>LinearRegression()</pre></div></div></div></div></div>"
      ],
      "text/plain": [
       "LinearRegression()"
      ]
     },
     "execution_count": 42,
     "metadata": {},
     "output_type": "execute_result"
    }
   ],
   "source": [
    "from sklearn.linear_model import LinearRegression\n",
    "\n",
    "X_train = df_not_null[['GroupId']]\n",
    "y_train = df_not_null['Cabin_num']\n",
    "\n",
    "\n",
    "model = LinearRegression()\n",
    "model.fit(X_train, y_train)"
   ]
  },
  {
   "cell_type": "code",
   "execution_count": 43,
   "id": "3a872ce7-bbc9-4002-b308-2351803e2522",
   "metadata": {},
   "outputs": [],
   "source": [
    "X_pred = df_null[['GroupId']]\n",
    "y_pred = model.predict(X_pred)"
   ]
  },
  {
   "cell_type": "code",
   "execution_count": 44,
   "id": "548ae3f0-fb8b-491e-b5a9-adceb6d1af34",
   "metadata": {},
   "outputs": [],
   "source": [
    "df.loc[df['Cabin_num'].isnull(), 'Cabin_num'] = y_pred"
   ]
  },
  {
   "cell_type": "code",
   "execution_count": 45,
   "id": "1bc24730-6af1-4a84-8fdb-a13632a52656",
   "metadata": {},
   "outputs": [
    {
     "data": {
      "text/plain": [
       "PassengerId              0\n",
       "HomePlanet               0\n",
       "CryoSleep              310\n",
       "Cabin                  299\n",
       "Destination            274\n",
       "Age                    270\n",
       "VIP                    296\n",
       "RoomService            263\n",
       "FoodCourt              289\n",
       "ShoppingMall           306\n",
       "Spa                    284\n",
       "VRDeck                 268\n",
       "Name                   294\n",
       "Transported           4277\n",
       "GroupId                  0\n",
       "GroupSize                0\n",
       "is_alone                 0\n",
       "Cabin_deck             299\n",
       "Cabin_side             299\n",
       "Cabin_deck_grouped     299\n",
       "Cabin_num                0\n",
       "LastName                 0\n",
       "spend_money           1363\n",
       "dtype: int64"
      ]
     },
     "execution_count": 45,
     "metadata": {},
     "output_type": "execute_result"
    }
   ],
   "source": [
    "df.isnull().sum()"
   ]
  },
  {
   "cell_type": "code",
   "execution_count": 46,
   "id": "45ef15d8-5983-480a-8526-d753aaf6e322",
   "metadata": {},
   "outputs": [
    {
     "data": {
      "text/plain": [
       "<Axes: title={'center': 'Cabin_num and Cabin_deck_grouped'}, xlabel='Cabin_deck_grouped', ylabel='Cabin_num'>"
      ]
     },
     "execution_count": 46,
     "metadata": {},
     "output_type": "execute_result"
    },
    {
     "data": {
      "image/png": "[encoded data removed]",
      "text/plain": [
       "<Figure size 1000x600 with 1 Axes>"
      ]
     },
     "metadata": {},
     "output_type": "display_data"
    }
   ],
   "source": [
    "plt.figure(figsize=(10, 6))\n",
    "plt.title(\"Cabin_num and Cabin_deck_grouped\")\n",
    "sns.violinplot(\n",
    "    x = \"Cabin_deck_grouped\",\n",
    "    y = \"Cabin_num\",\n",
    "    data =df)"
   ]
  },
  {
   "cell_type": "code",
   "execution_count": 47,
   "id": "32f17a12-c708-403e-8f46-e0fdd95abf71",
   "metadata": {},
   "outputs": [],
   "source": [
    "df['Cabin_deck_grouped'] = df['Cabin_deck_grouped'].fillna(df.groupby('Cabin_num')['Cabin_deck_grouped'].transform(lambda x: x.mode()[0] if not x.mode().empty else np.nan))"
   ]
  },
  {
   "cell_type": "code",
   "execution_count": 48,
   "id": "ab3c6cb3-5233-4efb-b815-c8b3d507bfc5",
   "metadata": {},
   "outputs": [
    {
     "data": {
      "text/plain": [
       "PassengerId              0\n",
       "HomePlanet               0\n",
       "CryoSleep              310\n",
       "Cabin                  299\n",
       "Destination            274\n",
       "Age                    270\n",
       "VIP                    296\n",
       "RoomService            263\n",
       "FoodCourt              289\n",
       "ShoppingMall           306\n",
       "Spa                    284\n",
       "VRDeck                 268\n",
       "Name                   294\n",
       "Transported           4277\n",
       "GroupId                  0\n",
       "GroupSize                0\n",
       "is_alone                 0\n",
       "Cabin_deck             299\n",
       "Cabin_side             299\n",
       "Cabin_deck_grouped     299\n",
       "Cabin_num                0\n",
       "LastName                 0\n",
       "spend_money           1363\n",
       "dtype: int64"
      ]
     },
     "execution_count": 48,
     "metadata": {},
     "output_type": "execute_result"
    }
   ],
   "source": [
    "df.isnull().sum()"
   ]
  },
  {
   "cell_type": "code",
   "execution_count": 49,
   "id": "d204bf27-ff68-4be4-8383-d43baa6f16e0",
   "metadata": {},
   "outputs": [
    {
     "data": {
      "text/plain": [
       "<Axes: title={'center': 'spend_money and CryoSleep'}, xlabel='CryoSleep', ylabel='spend_money'>"
      ]
     },
     "execution_count": 49,
     "metadata": {},
     "output_type": "execute_result"
    },
    {
     "data": {
      "image/png": "[encoded data removed]",
      "text/plain": [
       "<Figure size 1000x600 with 1 Axes>"
      ]
     },
     "metadata": {},
     "output_type": "display_data"
    }
   ],
   "source": [
    "plt.figure(figsize=(10, 6))\n",
    "plt.title(\"spend_money and CryoSleep\")\n",
    "sns.violinplot(\n",
    "    x = \"CryoSleep\",\n",
    "    y = \"spend_money\",\n",
    "    data =df)"
   ]
  },
  {
   "cell_type": "code",
   "execution_count": 50,
   "id": "a9fcb14c-b6bd-4e77-b935-569fc8599d69",
   "metadata": {},
   "outputs": [
    {
     "data": {
      "text/plain": [
       "<Axes: title={'center': 'Cabin_num and CryoSleep'}, xlabel='CryoSleep', ylabel='Cabin_num'>"
      ]
     },
     "execution_count": 50,
     "metadata": {},
     "output_type": "execute_result"
    },
    {
     "data": {
      "image/png": "[encoded data removed]",
      "text/plain": [
       "<Figure size 1000x600 with 1 Axes>"
      ]
     },
     "metadata": {},
     "output_type": "display_data"
    }
   ],
   "source": [
    "plt.figure(figsize=(10, 6))\n",
    "plt.title(\"Cabin_num and CryoSleep\")\n",
    "sns.violinplot(\n",
    "    x = \"CryoSleep\",\n",
    "    y = \"Cabin_num\",\n",
    "    data =df)"
   ]
  },
  {
   "cell_type": "markdown",
   "id": "22af3758-eedf-41b0-857e-50219ecf26be",
   "metadata": {},
   "source": [
    "#### 상관계수가 spend_money와 높은 칼럼 순서대로 그룹화하여 평균값을 채움"
   ]
  },
  {
   "cell_type": "code",
   "execution_count": 51,
   "id": "e625cf05-eb5c-4f58-b680-2cf97f2fe0f6",
   "metadata": {},
   "outputs": [],
   "source": [
    "df['spend_money'] = df['spend_money'].fillna(df.groupby('CryoSleep')['spend_money'].transform('mean'))"
   ]
  },
  {
   "cell_type": "code",
   "execution_count": 52,
   "id": "a29cd29a-4ff4-4b2a-8db8-b1d54ff5c1d6",
   "metadata": {},
   "outputs": [],
   "source": [
    "df['spend_money'] = df['spend_money'].fillna(df.groupby('Cabin_num')['spend_money'].transform('mean'))"
   ]
  },
  {
   "cell_type": "code",
   "execution_count": 53,
   "id": "943003f1-2c6d-4057-b344-4785b73814ba",
   "metadata": {},
   "outputs": [],
   "source": [
    "df['spend_money'] = df['spend_money'].fillna(df.groupby('Age')['spend_money'].transform('mean'))"
   ]
  },
  {
   "cell_type": "code",
   "execution_count": 54,
   "id": "6c784f59-2a80-4859-a69f-6d96d6111f16",
   "metadata": {},
   "outputs": [
    {
     "data": {
      "text/plain": [
       "PassengerId              0\n",
       "HomePlanet               0\n",
       "CryoSleep              310\n",
       "Cabin                  299\n",
       "Destination            274\n",
       "Age                    270\n",
       "VIP                    296\n",
       "RoomService            263\n",
       "FoodCourt              289\n",
       "ShoppingMall           306\n",
       "Spa                    284\n",
       "VRDeck                 268\n",
       "Name                   294\n",
       "Transported           4277\n",
       "GroupId                  0\n",
       "GroupSize                0\n",
       "is_alone                 0\n",
       "Cabin_deck             299\n",
       "Cabin_side             299\n",
       "Cabin_deck_grouped     299\n",
       "Cabin_num                0\n",
       "LastName                 0\n",
       "spend_money              0\n",
       "dtype: int64"
      ]
     },
     "execution_count": 54,
     "metadata": {},
     "output_type": "execute_result"
    }
   ],
   "source": [
    "df.isnull().sum()"
   ]
  },
  {
   "cell_type": "markdown",
   "id": "30a0a626-4e12-48b9-914b-88b1741e1121",
   "metadata": {},
   "source": [
    "#### Cabin_deck_grouped도 HomePlanet으로 그룹화하여 최빈값으로 결측치를 채움"
   ]
  },
  {
   "cell_type": "code",
   "execution_count": 55,
   "id": "c37a6e39-debe-4b6a-9609-2b377297ec6d",
   "metadata": {},
   "outputs": [
    {
     "data": {
      "text/plain": [
       "<Axes: xlabel='Cabin_deck_grouped', ylabel='HomePlanet'>"
      ]
     },
     "execution_count": 55,
     "metadata": {},
     "output_type": "execute_result"
    },
    {
     "data": {
      "image/png": "[encoded data removed]",
      "text/plain": [
       "<Figure size 1000x400 with 2 Axes>"
      ]
     },
     "metadata": {},
     "output_type": "display_data"
    }
   ],
   "source": [
    "Cabin_gb = df.groupby(['Cabin_deck_grouped','HomePlanet'])['HomePlanet'].size().unstack().fillna(0)\n",
    "plt.figure(figsize=(10,4))\n",
    "sns.heatmap(Cabin_gb.T, annot=True, fmt='g', cmap='coolwarm')"
   ]
  },
  {
   "cell_type": "code",
   "execution_count": 56,
   "id": "3576b592-3601-47ca-b5b4-e9641dc0dcf9",
   "metadata": {},
   "outputs": [],
   "source": [
    "df['Cabin_deck_grouped'] = df['Cabin_deck_grouped'].fillna(df.groupby('HomePlanet')['Cabin_deck_grouped'].transform(lambda x: x.mode()[0] if not x.mode().empty else np.nan))"
   ]
  },
  {
   "cell_type": "code",
   "execution_count": 57,
   "id": "2cb73dda-8f41-4cbf-add3-63dd545177b8",
   "metadata": {},
   "outputs": [
    {
     "data": {
      "text/plain": [
       "PassengerId              0\n",
       "HomePlanet               0\n",
       "CryoSleep              310\n",
       "Cabin                  299\n",
       "Destination            274\n",
       "Age                    270\n",
       "VIP                    296\n",
       "RoomService            263\n",
       "FoodCourt              289\n",
       "ShoppingMall           306\n",
       "Spa                    284\n",
       "VRDeck                 268\n",
       "Name                   294\n",
       "Transported           4277\n",
       "GroupId                  0\n",
       "GroupSize                0\n",
       "is_alone                 0\n",
       "Cabin_deck             299\n",
       "Cabin_side             299\n",
       "Cabin_deck_grouped       0\n",
       "Cabin_num                0\n",
       "LastName                 0\n",
       "spend_money              0\n",
       "dtype: int64"
      ]
     },
     "execution_count": 57,
     "metadata": {},
     "output_type": "execute_result"
    }
   ],
   "source": [
    "df.isnull().sum()"
   ]
  },
  {
   "cell_type": "markdown",
   "id": "75f6f233-f5ce-414b-91a2-9e5667009d90",
   "metadata": {
    "tags": []
   },
   "source": [
    "#### CryoSleep과 spend_money 상관계수:-0.387007861418214"
   ]
  },
  {
   "cell_type": "code",
   "execution_count": 58,
   "id": "6013bdc4-f200-4a14-8985-c54d7be3c522",
   "metadata": {
    "tags": []
   },
   "outputs": [
    {
     "data": {
      "text/plain": [
       "<Axes: title={'center': 'spend_money and CryoSleep'}, xlabel='CryoSleep', ylabel='spend_money'>"
      ]
     },
     "execution_count": 58,
     "metadata": {},
     "output_type": "execute_result"
    },
    {
     "data": {
      "image/png": "[encoded data removed]",
      "text/plain": [
       "<Figure size 1000x600 with 1 Axes>"
      ]
     },
     "metadata": {},
     "output_type": "display_data"
    }
   ],
   "source": [
    "plt.figure(figsize=(10, 6))\n",
    "plt.title(\"spend_money and CryoSleep\")\n",
    "sns.violinplot(\n",
    "    x = \"CryoSleep\",\n",
    "    y = \"spend_money\",\n",
    "    data =df)"
   ]
  },
  {
   "cell_type": "markdown",
   "id": "fd48a08f-42be-4c35-8a09-d81211f605c4",
   "metadata": {},
   "source": [
    "#### CryoSleep와 RoomService 상관계수: -0.259538701357664"
   ]
  },
  {
   "cell_type": "code",
   "execution_count": 59,
   "id": "99fbf023-f60c-42b9-a3f0-7bd034dc332a",
   "metadata": {},
   "outputs": [
    {
     "data": {
      "text/plain": [
       "<Axes: title={'center': 'RoomService and CryoSleep'}, xlabel='CryoSleep', ylabel='RoomService'>"
      ]
     },
     "execution_count": 59,
     "metadata": {},
     "output_type": "execute_result"
    },
    {
     "data": {
      "image/png": "[encoded data removed]",
      "text/plain": [
       "<Figure size 1000x600 with 1 Axes>"
      ]
     },
     "metadata": {},
     "output_type": "display_data"
    }
   ],
   "source": [
    "plt.figure(figsize=(10, 6))\n",
    "plt.title(\"RoomService and CryoSleep\")\n",
    "sns.violinplot(\n",
    "    x = \"CryoSleep\",\n",
    "    y = \"RoomService\",\n",
    "    data =df)"
   ]
  },
  {
   "cell_type": "code",
   "execution_count": 60,
   "id": "96ee7d76-4ec8-4520-bde5-4d9e5d6d9f3f",
   "metadata": {},
   "outputs": [
    {
     "data": {
      "text/plain": [
       "<Axes: xlabel='Cabin_deck_grouped', ylabel='CryoSleep'>"
      ]
     },
     "execution_count": 60,
     "metadata": {},
     "output_type": "execute_result"
    },
    {
     "data": {
      "image/png": "[encoded data removed]",
      "text/plain": [
       "<Figure size 1000x400 with 2 Axes>"
      ]
     },
     "metadata": {},
     "output_type": "display_data"
    }
   ],
   "source": [
    "Cabin_gb = df.groupby(['Cabin_deck_grouped','CryoSleep'])['CryoSleep'].size().unstack().fillna(0)\n",
    "plt.figure(figsize=(10,4))\n",
    "sns.heatmap(Cabin_gb.T, annot=True, fmt='g', cmap='coolwarm')"
   ]
  },
  {
   "cell_type": "code",
   "execution_count": 61,
   "id": "7321da75-3470-49ed-b417-69e6ef510585",
   "metadata": {
    "tags": []
   },
   "outputs": [],
   "source": [
    "df['CryoSleep'] = df['CryoSleep'].fillna(df.groupby('spend_money')['CryoSleep'].transform(lambda x: x.mode()[0] if not x.mode().empty else np.nan))"
   ]
  },
  {
   "cell_type": "code",
   "execution_count": 62,
   "id": "345563ff-96d0-4d24-b348-1fa2d8ab816a",
   "metadata": {},
   "outputs": [],
   "source": [
    "df['CryoSleep'] = df['CryoSleep'].fillna(df.groupby('RoomService')['CryoSleep'].transform(lambda x: x.mode()[0] if not x.mode().empty else np.nan))"
   ]
  },
  {
   "cell_type": "code",
   "execution_count": 63,
   "id": "766fc9f0-3e4d-455d-9fdb-86c0b6777e15",
   "metadata": {},
   "outputs": [],
   "source": [
    "df['CryoSleep'] = df['CryoSleep'].fillna(df.groupby('Cabin_deck_grouped')['CryoSleep'].transform(lambda x: x.mode()[0] if not x.mode().empty else np.nan))"
   ]
  },
  {
   "cell_type": "code",
   "execution_count": 64,
   "id": "39d1c5f0-5ca9-4e1e-be6f-0cdb5d7e6547",
   "metadata": {
    "tags": []
   },
   "outputs": [
    {
     "data": {
      "text/plain": [
       "PassengerId              0\n",
       "HomePlanet               0\n",
       "CryoSleep                0\n",
       "Cabin                  299\n",
       "Destination            274\n",
       "Age                    270\n",
       "VIP                    296\n",
       "RoomService            263\n",
       "FoodCourt              289\n",
       "ShoppingMall           306\n",
       "Spa                    284\n",
       "VRDeck                 268\n",
       "Name                   294\n",
       "Transported           4277\n",
       "GroupId                  0\n",
       "GroupSize                0\n",
       "is_alone                 0\n",
       "Cabin_deck             299\n",
       "Cabin_side             299\n",
       "Cabin_deck_grouped       0\n",
       "Cabin_num                0\n",
       "LastName                 0\n",
       "spend_money              0\n",
       "dtype: int64"
      ]
     },
     "execution_count": 64,
     "metadata": {},
     "output_type": "execute_result"
    }
   ],
   "source": [
    "df.isnull().sum()"
   ]
  },
  {
   "cell_type": "code",
   "execution_count": 65,
   "id": "604756c6-28c5-43bb-82f9-ca00740bfa41",
   "metadata": {},
   "outputs": [
    {
     "data": {
      "text/plain": [
       "<Axes: title={'center': 'FoodCourt and HomePlanet'}, xlabel='HomePlanet', ylabel='FoodCourt'>"
      ]
     },
     "execution_count": 65,
     "metadata": {},
     "output_type": "execute_result"
    },
    {
     "data": {
      "image/png": "[encoded data removed]",
      "text/plain": [
       "<Figure size 1000x600 with 1 Axes>"
      ]
     },
     "metadata": {},
     "output_type": "display_data"
    }
   ],
   "source": [
    "plt.figure(figsize=(10, 6))\n",
    "plt.title(\"FoodCourt and HomePlanet\")\n",
    "sns.violinplot(\n",
    "    x = \"HomePlanet\",\n",
    "    y = \"FoodCourt\",\n",
    "    data =df)"
   ]
  },
  {
   "cell_type": "code",
   "execution_count": 66,
   "id": "6897e8b7-517b-4199-98ab-3ed196f10ea4",
   "metadata": {},
   "outputs": [],
   "source": [
    "df['FoodCourt'] = df['FoodCourt'].fillna(df.groupby('HomePlanet')['FoodCourt'].transform('mean'))"
   ]
  },
  {
   "cell_type": "code",
   "execution_count": 67,
   "id": "e2514a20-65df-4e02-bd1c-3598d65719dc",
   "metadata": {},
   "outputs": [
    {
     "data": {
      "text/plain": [
       "PassengerId              0\n",
       "HomePlanet               0\n",
       "CryoSleep                0\n",
       "Cabin                  299\n",
       "Destination            274\n",
       "Age                    270\n",
       "VIP                    296\n",
       "RoomService            263\n",
       "FoodCourt                0\n",
       "ShoppingMall           306\n",
       "Spa                    284\n",
       "VRDeck                 268\n",
       "Name                   294\n",
       "Transported           4277\n",
       "GroupId                  0\n",
       "GroupSize                0\n",
       "is_alone                 0\n",
       "Cabin_deck             299\n",
       "Cabin_side             299\n",
       "Cabin_deck_grouped       0\n",
       "Cabin_num                0\n",
       "LastName                 0\n",
       "spend_money              0\n",
       "dtype: int64"
      ]
     },
     "execution_count": 67,
     "metadata": {},
     "output_type": "execute_result"
    }
   ],
   "source": [
    "df.isnull().sum()"
   ]
  },
  {
   "cell_type": "code",
   "execution_count": 68,
   "id": "db6b64cb-ee22-4ff3-b3a8-4708973aff49",
   "metadata": {},
   "outputs": [
    {
     "data": {
      "text/plain": [
       "<Axes: xlabel='Destination', ylabel='HomePlanet'>"
      ]
     },
     "execution_count": 68,
     "metadata": {},
     "output_type": "execute_result"
    },
    {
     "data": {
      "image/png": "[encoded data removed]",
      "text/plain": [
       "<Figure size 1000x400 with 2 Axes>"
      ]
     },
     "metadata": {},
     "output_type": "display_data"
    }
   ],
   "source": [
    "DH_gb = df.groupby(['Destination','HomePlanet'])['HomePlanet'].size().unstack().fillna(0)\n",
    "plt.figure(figsize=(10,4))\n",
    "sns.heatmap(DH_gb.T, annot=True, fmt='g', cmap='coolwarm')"
   ]
  },
  {
   "cell_type": "code",
   "execution_count": 69,
   "id": "d67e55d6-c72f-410d-80e5-bac354398288",
   "metadata": {},
   "outputs": [],
   "source": [
    "df['Destination'] = df['Destination'].fillna(df.groupby('HomePlanet')['Destination'].transform(lambda x: x.mode()[0] if not x.mode().empty else np.nan))"
   ]
  },
  {
   "cell_type": "code",
   "execution_count": 70,
   "id": "0ea712d0-b7c2-4531-9b78-e1e687ed27d6",
   "metadata": {},
   "outputs": [
    {
     "data": {
      "text/plain": [
       "0"
      ]
     },
     "execution_count": 70,
     "metadata": {},
     "output_type": "execute_result"
    }
   ],
   "source": [
    "df['Destination'].isnull().sum()"
   ]
  },
  {
   "cell_type": "code",
   "execution_count": 71,
   "id": "bd34ad01-7e33-400b-abde-5672fb5e0892",
   "metadata": {},
   "outputs": [
    {
     "data": {
      "text/plain": [
       "<Axes: title={'center': 'VRDeck and HomePlanet'}, xlabel='VRDeck', ylabel='HomePlanet'>"
      ]
     },
     "execution_count": 71,
     "metadata": {},
     "output_type": "execute_result"
    },
    {
     "data": {
      "image/png": "[encoded data removed]",
      "text/plain": [
       "<Figure size 1000x600 with 1 Axes>"
      ]
     },
     "metadata": {},
     "output_type": "display_data"
    }
   ],
   "source": [
    "plt.figure(figsize=(10, 6))\n",
    "plt.title(\"VRDeck and HomePlanet\")\n",
    "sns.violinplot(\n",
    "    x = \"VRDeck\",\n",
    "    y = \"HomePlanet\",\n",
    "    data =df)"
   ]
  },
  {
   "cell_type": "code",
   "execution_count": 72,
   "id": "de7f5750-7b30-4eed-a021-a124ffe2ecde",
   "metadata": {},
   "outputs": [],
   "source": [
    "df['VRDeck'] = df['VRDeck'].fillna(df.groupby('HomePlanet')['VRDeck'].transform('mean'))"
   ]
  },
  {
   "cell_type": "code",
   "execution_count": 73,
   "id": "69eefd3c-55fe-44f5-9b94-394a60ac5f91",
   "metadata": {},
   "outputs": [
    {
     "data": {
      "text/plain": [
       "0"
      ]
     },
     "execution_count": 73,
     "metadata": {},
     "output_type": "execute_result"
    }
   ],
   "source": [
    "df['VRDeck'].isnull().sum()"
   ]
  },
  {
   "cell_type": "code",
   "execution_count": 74,
   "id": "8333745f-1245-4685-a4f6-ce2e162321b1",
   "metadata": {},
   "outputs": [
    {
     "data": {
      "text/plain": [
       "<Axes: title={'center': 'Spa and HomePlanet'}, xlabel='Spa', ylabel='HomePlanet'>"
      ]
     },
     "execution_count": 74,
     "metadata": {},
     "output_type": "execute_result"
    },
    {
     "data": {
      "image/png": "[encoded data removed]",
      "text/plain": [
       "<Figure size 1000x600 with 1 Axes>"
      ]
     },
     "metadata": {},
     "output_type": "display_data"
    }
   ],
   "source": [
    "plt.figure(figsize=(10, 6))\n",
    "plt.title(\"Spa and HomePlanet\")\n",
    "sns.violinplot(\n",
    "    x = \"Spa\",\n",
    "    y = \"HomePlanet\",\n",
    "    data =df)"
   ]
  },
  {
   "cell_type": "code",
   "execution_count": 75,
   "id": "d382c77d-fc6c-49ed-aa1a-c6063701205e",
   "metadata": {},
   "outputs": [],
   "source": [
    "df['Spa'] = df['Spa'].fillna(df.groupby('HomePlanet')['Spa'].transform('mean'))"
   ]
  },
  {
   "cell_type": "code",
   "execution_count": 76,
   "id": "b9b65f5a-7856-400f-bcc9-b5a386833c4b",
   "metadata": {},
   "outputs": [
    {
     "data": {
      "text/plain": [
       "0"
      ]
     },
     "execution_count": 76,
     "metadata": {},
     "output_type": "execute_result"
    }
   ],
   "source": [
    "df['Spa'].isnull().sum()"
   ]
  },
  {
   "cell_type": "code",
   "execution_count": 77,
   "id": "ceb04648-111c-4085-9471-f04f0123d652",
   "metadata": {},
   "outputs": [
    {
     "name": "stdout",
     "output_type": "stream",
     "text": [
      "<class 'pandas.core.frame.DataFrame'>\n",
      "RangeIndex: 12970 entries, 0 to 12969\n",
      "Data columns (total 23 columns):\n",
      " #   Column              Non-Null Count  Dtype  \n",
      "---  ------              --------------  -----  \n",
      " 0   PassengerId         12970 non-null  object \n",
      " 1   HomePlanet          12970 non-null  object \n",
      " 2   CryoSleep           12970 non-null  object \n",
      " 3   Cabin               12671 non-null  object \n",
      " 4   Destination         12970 non-null  object \n",
      " 5   Age                 12700 non-null  float64\n",
      " 6   VIP                 12674 non-null  object \n",
      " 7   RoomService         12707 non-null  float64\n",
      " 8   FoodCourt           12970 non-null  float64\n",
      " 9   ShoppingMall        12664 non-null  float64\n",
      " 10  Spa                 12970 non-null  float64\n",
      " 11  VRDeck              12970 non-null  float64\n",
      " 12  Name                12676 non-null  object \n",
      " 13  Transported         8693 non-null   object \n",
      " 14  GroupId             12970 non-null  int64  \n",
      " 15  GroupSize           12970 non-null  int64  \n",
      " 16  is_alone            12970 non-null  bool   \n",
      " 17  Cabin_deck          12671 non-null  object \n",
      " 18  Cabin_side          12671 non-null  object \n",
      " 19  Cabin_deck_grouped  12970 non-null  object \n",
      " 20  Cabin_num           12970 non-null  float64\n",
      " 21  LastName            12970 non-null  object \n",
      " 22  spend_money         12970 non-null  float64\n",
      "dtypes: bool(1), float64(8), int64(2), object(12)\n",
      "memory usage: 2.2+ MB\n"
     ]
    }
   ],
   "source": [
    "df.info()"
   ]
  },
  {
   "cell_type": "code",
   "execution_count": null,
   "id": "b2eafb37-e36e-4a5d-816e-273d8c2d17e2",
   "metadata": {},
   "outputs": [],
   "source": [
    "df['RoomService'] = df['RoomService'].fillna(df.groupby('CryoSleep')['RoomService'].transform('mean'))"
   ]
  },
  {
   "cell_type": "code",
   "execution_count": null,
   "id": "d612671d-804b-46c1-97bb-6b70bfeb6a21",
   "metadata": {},
   "outputs": [],
   "source": [
    "df['RoomService'].isnull().sum()"
   ]
  },
  {
   "cell_type": "code",
   "execution_count": null,
   "id": "91ed5846-2fe5-4b43-a97e-20574144250b",
   "metadata": {},
   "outputs": [],
   "source": [
    "plt.figure(figsize=(10, 6))\n",
    "plt.title(\"Age and HomePlanet\")\n",
    "sns.violinplot(\n",
    "    x = \"Age\",\n",
    "    y = \"HomePlanet\",\n",
    "    data =df)"
   ]
  },
  {
   "cell_type": "code",
   "execution_count": null,
   "id": "3ee21cf4-187e-4d63-9b44-62f89a80c8d6",
   "metadata": {},
   "outputs": [],
   "source": [
    "df['Age'] = df['Age'].fillna(df.groupby('HomePlanet')['Age'].transform(lambda x: x.mode()[0] if not x.mode().empty else np.nan))"
   ]
  },
  {
   "cell_type": "code",
   "execution_count": null,
   "id": "4a65982c-9ed0-4732-9d4b-eeb89553fed5",
   "metadata": {},
   "outputs": [],
   "source": [
    "df['Age'].isnull().sum()"
   ]
  },
  {
   "cell_type": "code",
   "execution_count": null,
   "id": "93109255-3aeb-4c11-b847-deb0cbb084fc",
   "metadata": {},
   "outputs": [],
   "source": [
    "df['ShoppingMall'] = df['ShoppingMall'].fillna(df.groupby('CryoSleep')['ShoppingMall'].transform('mean'))"
   ]
  },
  {
   "cell_type": "code",
   "execution_count": null,
   "id": "f3377bcb-2af8-4537-b9e6-1f496508d5f2",
   "metadata": {},
   "outputs": [],
   "source": [
    "df['ShoppingMall'].isnull().sum()"
   ]
  },
  {
   "cell_type": "code",
   "execution_count": null,
   "id": "efa750a9-1479-4946-bc20-9caf0f156a53",
   "metadata": {},
   "outputs": [],
   "source": [
    "df.info()"
   ]
  },
  {
   "cell_type": "code",
   "execution_count": null,
   "id": "2bea052e-d040-49de-b99d-4b4f906bb84e",
   "metadata": {
    "scrolled": true
   },
   "outputs": [],
   "source": [
    "plt.figure(figsize=(10, 6))\n",
    "plt.title(\"spend_money and VIP\")\n",
    "sns.violinplot(\n",
    "    x = \"spend_money\",\n",
    "    y = \"VIP\",\n",
    "    data =df)"
   ]
  },
  {
   "cell_type": "code",
   "execution_count": 79,
   "id": "deb5e873-866c-4b7b-8908-f633227a7575",
   "metadata": {},
   "outputs": [],
   "source": [
    "df['VIP'] = df['VIP'].fillna(df.groupby('spend_money')['VIP'].transform(lambda x: x.mode()[0] if not x.mode().empty else np.nan))"
   ]
  },
  {
   "cell_type": "code",
   "execution_count": 80,
   "id": "308a41fb-44db-443d-aa8d-6dd774dbe330",
   "metadata": {},
   "outputs": [
    {
     "data": {
      "text/plain": [
       "43"
      ]
     },
     "execution_count": 80,
     "metadata": {},
     "output_type": "execute_result"
    }
   ],
   "source": [
    "df['VIP'].isnull().sum()"
   ]
  },
  {
   "cell_type": "code",
   "execution_count": 81,
   "id": "25e59e55-611a-44c4-baed-eab821cfa303",
   "metadata": {},
   "outputs": [],
   "source": [
    "df['VIP'] = df['VIP'].fillna(df.groupby('HomePlanet')['VIP'].transform(lambda x: x.mode()[0] if not x.mode().empty else np.nan))"
   ]
  },
  {
   "cell_type": "code",
   "execution_count": 82,
   "id": "57f05677-9494-40a3-a5f4-20a79a42a97a",
   "metadata": {},
   "outputs": [
    {
     "data": {
      "text/plain": [
       "0"
      ]
     },
     "execution_count": 82,
     "metadata": {},
     "output_type": "execute_result"
    }
   ],
   "source": [
    "df['VIP'].isnull().sum()"
   ]
  },
  {
   "cell_type": "code",
   "execution_count": 83,
   "id": "719e37ff-05d2-4de7-9e3d-eeb29fec32aa",
   "metadata": {},
   "outputs": [],
   "source": [
    "df['Cabin_side'] = df['Cabin_side'].fillna(df.groupby('CryoSleep')['Cabin_side'].transform(lambda x: x.mode()[0] if not x.mode().empty else np.nan))"
   ]
  },
  {
   "cell_type": "code",
   "execution_count": 84,
   "id": "7f7114cc-20b6-4fc6-84e2-bdaf188947ad",
   "metadata": {},
   "outputs": [
    {
     "data": {
      "text/plain": [
       "0"
      ]
     },
     "execution_count": 84,
     "metadata": {},
     "output_type": "execute_result"
    }
   ],
   "source": [
    "df['Cabin_side'].isnull().sum()"
   ]
  },
  {
   "cell_type": "markdown",
   "id": "8d62b866-7178-4398-bb8b-7aea21e1c1f6",
   "metadata": {
    "tags": []
   },
   "source": [
    "#### Name, Cabin는 drop하기로함"
   ]
  },
  {
   "cell_type": "code",
   "execution_count": 85,
   "id": "2e7e6235-6b23-4653-b236-50713a926785",
   "metadata": {
    "tags": []
   },
   "outputs": [],
   "source": [
    "df = df.drop([\"Name\",\"Cabin\",\"Cabin_deck\"], axis =1)"
   ]
  },
  {
   "cell_type": "code",
   "execution_count": 86,
   "id": "b05606fb-9f0c-4793-a4e0-27d0abd79eaf",
   "metadata": {
    "tags": []
   },
   "outputs": [
    {
     "data": {
      "text/plain": [
       "PassengerId              0\n",
       "HomePlanet               0\n",
       "CryoSleep                0\n",
       "Destination              0\n",
       "Age                    270\n",
       "VIP                      0\n",
       "RoomService            263\n",
       "FoodCourt                0\n",
       "ShoppingMall           306\n",
       "Spa                      0\n",
       "VRDeck                   0\n",
       "Transported           4277\n",
       "GroupId                  0\n",
       "GroupSize                0\n",
       "is_alone                 0\n",
       "Cabin_side               0\n",
       "Cabin_deck_grouped       0\n",
       "Cabin_num                0\n",
       "LastName                 0\n",
       "spend_money              0\n",
       "dtype: int64"
      ]
     },
     "execution_count": 86,
     "metadata": {},
     "output_type": "execute_result"
    }
   ],
   "source": [
    "df.isnull().sum()"
   ]
  },
  {
   "cell_type": "code",
   "execution_count": 87,
   "id": "764e2fcb-a60c-4d78-a678-0c81fff59b02",
   "metadata": {},
   "outputs": [
    {
     "name": "stdout",
     "output_type": "stream",
     "text": [
      "<class 'pandas.core.frame.DataFrame'>\n",
      "RangeIndex: 12970 entries, 0 to 12969\n",
      "Data columns (total 20 columns):\n",
      " #   Column              Non-Null Count  Dtype  \n",
      "---  ------              --------------  -----  \n",
      " 0   PassengerId         12970 non-null  object \n",
      " 1   HomePlanet          12970 non-null  object \n",
      " 2   CryoSleep           12970 non-null  object \n",
      " 3   Destination         12970 non-null  object \n",
      " 4   Age                 12700 non-null  float64\n",
      " 5   VIP                 12970 non-null  object \n",
      " 6   RoomService         12707 non-null  float64\n",
      " 7   FoodCourt           12970 non-null  float64\n",
      " 8   ShoppingMall        12664 non-null  float64\n",
      " 9   Spa                 12970 non-null  float64\n",
      " 10  VRDeck              12970 non-null  float64\n",
      " 11  Transported         8693 non-null   object \n",
      " 12  GroupId             12970 non-null  int64  \n",
      " 13  GroupSize           12970 non-null  int64  \n",
      " 14  is_alone            12970 non-null  bool   \n",
      " 15  Cabin_side          12970 non-null  object \n",
      " 16  Cabin_deck_grouped  12970 non-null  object \n",
      " 17  Cabin_num           12970 non-null  float64\n",
      " 18  LastName            12970 non-null  object \n",
      " 19  spend_money         12970 non-null  float64\n",
      "dtypes: bool(1), float64(8), int64(2), object(9)\n",
      "memory usage: 1.9+ MB\n"
     ]
    }
   ],
   "source": [
    "df.info()"
   ]
  },
  {
   "cell_type": "code",
   "execution_count": 88,
   "id": "2d5e4aa1-cc8a-459e-9cc9-13855fc4dedc",
   "metadata": {},
   "outputs": [
    {
     "data": {
      "text/html": [
       "<div>\n",
       "<style scoped>\n",
       "    .dataframe tbody tr th:only-of-type {\n",
       "        vertical-align: middle;\n",
       "    }\n",
       "\n",
       "    .dataframe tbody tr th {\n",
       "        vertical-align: top;\n",
       "    }\n",
       "\n",
       "    .dataframe thead th {\n",
       "        text-align: right;\n",
       "    }\n",
       "</style>\n",
       "<table border=\"1\" class=\"dataframe\">\n",
       "  <thead>\n",
       "    <tr style=\"text-align: right;\">\n",
       "      <th></th>\n",
       "      <th>Age</th>\n",
       "      <th>RoomService</th>\n",
       "      <th>FoodCourt</th>\n",
       "      <th>ShoppingMall</th>\n",
       "      <th>Spa</th>\n",
       "      <th>VRDeck</th>\n",
       "      <th>GroupId</th>\n",
       "      <th>GroupSize</th>\n",
       "      <th>Cabin_num</th>\n",
       "      <th>spend_money</th>\n",
       "    </tr>\n",
       "  </thead>\n",
       "  <tbody>\n",
       "    <tr>\n",
       "      <th>count</th>\n",
       "      <td>12700.000000</td>\n",
       "      <td>12707.000000</td>\n",
       "      <td>12970.000000</td>\n",
       "      <td>12664.000000</td>\n",
       "      <td>12970.000000</td>\n",
       "      <td>12970.000000</td>\n",
       "      <td>12970.000000</td>\n",
       "      <td>12970.000000</td>\n",
       "      <td>12970.000000</td>\n",
       "      <td>12970.000000</td>\n",
       "    </tr>\n",
       "    <tr>\n",
       "      <th>mean</th>\n",
       "      <td>28.771969</td>\n",
       "      <td>222.897852</td>\n",
       "      <td>451.299429</td>\n",
       "      <td>174.906033</td>\n",
       "      <td>308.529463</td>\n",
       "      <td>306.188301</td>\n",
       "      <td>4635.337471</td>\n",
       "      <td>2.022976</td>\n",
       "      <td>603.167122</td>\n",
       "      <td>1464.833467</td>\n",
       "    </tr>\n",
       "    <tr>\n",
       "      <th>std</th>\n",
       "      <td>14.387261</td>\n",
       "      <td>647.596664</td>\n",
       "      <td>1568.883299</td>\n",
       "      <td>590.558690</td>\n",
       "      <td>1118.781778</td>\n",
       "      <td>1168.742566</td>\n",
       "      <td>2685.904299</td>\n",
       "      <td>1.577102</td>\n",
       "      <td>509.922913</td>\n",
       "      <td>2710.650431</td>\n",
       "    </tr>\n",
       "    <tr>\n",
       "      <th>min</th>\n",
       "      <td>0.000000</td>\n",
       "      <td>0.000000</td>\n",
       "      <td>0.000000</td>\n",
       "      <td>0.000000</td>\n",
       "      <td>0.000000</td>\n",
       "      <td>0.000000</td>\n",
       "      <td>1.000000</td>\n",
       "      <td>1.000000</td>\n",
       "      <td>-0.146043</td>\n",
       "      <td>0.000000</td>\n",
       "    </tr>\n",
       "    <tr>\n",
       "      <th>25%</th>\n",
       "      <td>19.000000</td>\n",
       "      <td>0.000000</td>\n",
       "      <td>0.000000</td>\n",
       "      <td>0.000000</td>\n",
       "      <td>0.000000</td>\n",
       "      <td>0.000000</td>\n",
       "      <td>2306.250000</td>\n",
       "      <td>1.000000</td>\n",
       "      <td>172.000000</td>\n",
       "      <td>0.000000</td>\n",
       "    </tr>\n",
       "    <tr>\n",
       "      <th>50%</th>\n",
       "      <td>27.000000</td>\n",
       "      <td>0.000000</td>\n",
       "      <td>0.000000</td>\n",
       "      <td>0.000000</td>\n",
       "      <td>0.000000</td>\n",
       "      <td>0.000000</td>\n",
       "      <td>4632.000000</td>\n",
       "      <td>1.000000</td>\n",
       "      <td>437.000000</td>\n",
       "      <td>756.000000</td>\n",
       "    </tr>\n",
       "    <tr>\n",
       "      <th>75%</th>\n",
       "      <td>38.000000</td>\n",
       "      <td>49.000000</td>\n",
       "      <td>106.750000</td>\n",
       "      <td>29.000000</td>\n",
       "      <td>87.000000</td>\n",
       "      <td>57.750000</td>\n",
       "      <td>6924.750000</td>\n",
       "      <td>2.000000</td>\n",
       "      <td>1003.000000</td>\n",
       "      <td>1818.000000</td>\n",
       "    </tr>\n",
       "    <tr>\n",
       "      <th>max</th>\n",
       "      <td>79.000000</td>\n",
       "      <td>14327.000000</td>\n",
       "      <td>29813.000000</td>\n",
       "      <td>23492.000000</td>\n",
       "      <td>22408.000000</td>\n",
       "      <td>24133.000000</td>\n",
       "      <td>9280.000000</td>\n",
       "      <td>8.000000</td>\n",
       "      <td>1894.000000</td>\n",
       "      <td>35987.000000</td>\n",
       "    </tr>\n",
       "  </tbody>\n",
       "</table>\n",
       "</div>"
      ],
      "text/plain": [
       "                Age   RoomService     FoodCourt  ShoppingMall           Spa  \\\n",
       "count  12700.000000  12707.000000  12970.000000  12664.000000  12970.000000   \n",
       "mean      28.771969    222.897852    451.299429    174.906033    308.529463   \n",
       "std       14.387261    647.596664   1568.883299    590.558690   1118.781778   \n",
       "min        0.000000      0.000000      0.000000      0.000000      0.000000   \n",
       "25%       19.000000      0.000000      0.000000      0.000000      0.000000   \n",
       "50%       27.000000      0.000000      0.000000      0.000000      0.000000   \n",
       "75%       38.000000     49.000000    106.750000     29.000000     87.000000   \n",
       "max       79.000000  14327.000000  29813.000000  23492.000000  22408.000000   \n",
       "\n",
       "             VRDeck       GroupId     GroupSize     Cabin_num   spend_money  \n",
       "count  12970.000000  12970.000000  12970.000000  12970.000000  12970.000000  \n",
       "mean     306.188301   4635.337471      2.022976    603.167122   1464.833467  \n",
       "std     1168.742566   2685.904299      1.577102    509.922913   2710.650431  \n",
       "min        0.000000      1.000000      1.000000     -0.146043      0.000000  \n",
       "25%        0.000000   2306.250000      1.000000    172.000000      0.000000  \n",
       "50%        0.000000   4632.000000      1.000000    437.000000    756.000000  \n",
       "75%       57.750000   6924.750000      2.000000   1003.000000   1818.000000  \n",
       "max    24133.000000   9280.000000      8.000000   1894.000000  35987.000000  "
      ]
     },
     "execution_count": 88,
     "metadata": {},
     "output_type": "execute_result"
    }
   ],
   "source": [
    "df.describe()"
   ]
  },
  {
   "cell_type": "code",
   "execution_count": 89,
   "id": "6ed1968e-50fc-4fe2-af68-32356c855498",
   "metadata": {},
   "outputs": [
    {
     "data": {
      "text/html": [
       "<div>\n",
       "<style scoped>\n",
       "    .dataframe tbody tr th:only-of-type {\n",
       "        vertical-align: middle;\n",
       "    }\n",
       "\n",
       "    .dataframe tbody tr th {\n",
       "        vertical-align: top;\n",
       "    }\n",
       "\n",
       "    .dataframe thead th {\n",
       "        text-align: right;\n",
       "    }\n",
       "</style>\n",
       "<table border=\"1\" class=\"dataframe\">\n",
       "  <thead>\n",
       "    <tr style=\"text-align: right;\">\n",
       "      <th></th>\n",
       "      <th>PassengerId</th>\n",
       "      <th>HomePlanet</th>\n",
       "      <th>CryoSleep</th>\n",
       "      <th>Destination</th>\n",
       "      <th>VIP</th>\n",
       "      <th>Transported</th>\n",
       "      <th>is_alone</th>\n",
       "      <th>Cabin_side</th>\n",
       "      <th>Cabin_deck_grouped</th>\n",
       "      <th>LastName</th>\n",
       "    </tr>\n",
       "  </thead>\n",
       "  <tbody>\n",
       "    <tr>\n",
       "      <th>count</th>\n",
       "      <td>12970</td>\n",
       "      <td>12970</td>\n",
       "      <td>12970</td>\n",
       "      <td>12970</td>\n",
       "      <td>12970</td>\n",
       "      <td>8693</td>\n",
       "      <td>12970</td>\n",
       "      <td>12970</td>\n",
       "      <td>12970</td>\n",
       "      <td>12970</td>\n",
       "    </tr>\n",
       "    <tr>\n",
       "      <th>unique</th>\n",
       "      <td>12970</td>\n",
       "      <td>3</td>\n",
       "      <td>2</td>\n",
       "      <td>3</td>\n",
       "      <td>2</td>\n",
       "      <td>2</td>\n",
       "      <td>2</td>\n",
       "      <td>2</td>\n",
       "      <td>3</td>\n",
       "      <td>2407</td>\n",
       "    </tr>\n",
       "    <tr>\n",
       "      <th>top</th>\n",
       "      <td>0001_01</td>\n",
       "      <td>Earth</td>\n",
       "      <td>False</td>\n",
       "      <td>TRAPPIST-1e</td>\n",
       "      <td>False</td>\n",
       "      <td>True</td>\n",
       "      <td>True</td>\n",
       "      <td>S</td>\n",
       "      <td>Other</td>\n",
       "      <td></td>\n",
       "    </tr>\n",
       "    <tr>\n",
       "      <th>freq</th>\n",
       "      <td>1</td>\n",
       "      <td>7019</td>\n",
       "      <td>8230</td>\n",
       "      <td>9145</td>\n",
       "      <td>12696</td>\n",
       "      <td>4378</td>\n",
       "      <td>7145</td>\n",
       "      <td>6503</td>\n",
       "      <td>4731</td>\n",
       "      <td>294</td>\n",
       "    </tr>\n",
       "  </tbody>\n",
       "</table>\n",
       "</div>"
      ],
      "text/plain": [
       "       PassengerId HomePlanet CryoSleep  Destination    VIP Transported  \\\n",
       "count        12970      12970     12970        12970  12970        8693   \n",
       "unique       12970          3         2            3      2           2   \n",
       "top        0001_01      Earth     False  TRAPPIST-1e  False        True   \n",
       "freq             1       7019      8230         9145  12696        4378   \n",
       "\n",
       "       is_alone Cabin_side Cabin_deck_grouped LastName  \n",
       "count     12970      12970              12970    12970  \n",
       "unique        2          2                  3     2407  \n",
       "top        True          S              Other           \n",
       "freq       7145       6503               4731      294  "
      ]
     },
     "execution_count": 89,
     "metadata": {},
     "output_type": "execute_result"
    }
   ],
   "source": [
    "cat_cols = [col for col in df.columns if df[col].dtype in ['object','bool']]\n",
    "df[cat_cols].describe(include = 'all')"
   ]
  },
  {
   "cell_type": "markdown",
   "id": "e4039bbe-f8c0-4647-b8ef-f694ab3fc69d",
   "metadata": {},
   "source": [
    "\n",
    "# LabelEncoding: CryoSleep, is_alone, Cabin_side, vip"
   ]
  },
  {
   "cell_type": "code",
   "execution_count": 90,
   "id": "420e73f2-d683-41d4-b16c-f37a905b55ae",
   "metadata": {},
   "outputs": [],
   "source": [
    "import sklearn\n",
    "from sklearn.preprocessing import LabelEncoder\n",
    "\n",
    "label_encoder = LabelEncoder()"
   ]
  },
  {
   "cell_type": "code",
   "execution_count": 91,
   "id": "c6e14128-720e-424f-971c-f49296e72d3c",
   "metadata": {},
   "outputs": [
    {
     "data": {
      "text/html": [
       "<style>#sk-container-id-3 {color: black;}#sk-container-id-3 pre{padding: 0;}#sk-container-id-3 div.sk-toggleable {background-color: white;}#sk-container-id-3 label.sk-toggleable__label {cursor: pointer;display: block;width: 100%;margin-bottom: 0;padding: 0.3em;box-sizing: border-box;text-align: center;}#sk-container-id-3 label.sk-toggleable__label-arrow:before {content: \"▸\";float: left;margin-right: 0.25em;color: #696969;}#sk-container-id-3 label.sk-toggleable__label-arrow:hover:before {color: black;}#sk-container-id-3 div.sk-estimator:hover label.sk-toggleable__label-arrow:before {color: black;}#sk-container-id-3 div.sk-toggleable__content {max-height: 0;max-width: 0;overflow: hidden;text-align: left;background-color: #f0f8ff;}#sk-container-id-3 div.sk-toggleable__content pre {margin: 0.2em;color: black;border-radius: 0.25em;background-color: #f0f8ff;}#sk-container-id-3 input.sk-toggleable__control:checked~div.sk-toggleable__content {max-height: 200px;max-width: 100%;overflow: auto;}#sk-container-id-3 input.sk-toggleable__control:checked~label.sk-toggleable__label-arrow:before {content: \"▾\";}#sk-container-id-3 div.sk-estimator input.sk-toggleable__control:checked~label.sk-toggleable__label {background-color: #d4ebff;}#sk-container-id-3 div.sk-label input.sk-toggleable__control:checked~label.sk-toggleable__label {background-color: #d4ebff;}#sk-container-id-3 input.sk-hidden--visually {border: 0;clip: rect(1px 1px 1px 1px);clip: rect(1px, 1px, 1px, 1px);height: 1px;margin: -1px;overflow: hidden;padding: 0;position: absolute;width: 1px;}#sk-container-id-3 div.sk-estimator {font-family: monospace;background-color: #f0f8ff;border: 1px dotted black;border-radius: 0.25em;box-sizing: border-box;margin-bottom: 0.5em;}#sk-container-id-3 div.sk-estimator:hover {background-color: #d4ebff;}#sk-container-id-3 div.sk-parallel-item::after {content: \"\";width: 100%;border-bottom: 1px solid gray;flex-grow: 1;}#sk-container-id-3 div.sk-label:hover label.sk-toggleable__label {background-color: #d4ebff;}#sk-container-id-3 div.sk-serial::before {content: \"\";position: absolute;border-left: 1px solid gray;box-sizing: border-box;top: 0;bottom: 0;left: 50%;z-index: 0;}#sk-container-id-3 div.sk-serial {display: flex;flex-direction: column;align-items: center;background-color: white;padding-right: 0.2em;padding-left: 0.2em;position: relative;}#sk-container-id-3 div.sk-item {position: relative;z-index: 1;}#sk-container-id-3 div.sk-parallel {display: flex;align-items: stretch;justify-content: center;background-color: white;position: relative;}#sk-container-id-3 div.sk-item::before, #sk-container-id-3 div.sk-parallel-item::before {content: \"\";position: absolute;border-left: 1px solid gray;box-sizing: border-box;top: 0;bottom: 0;left: 50%;z-index: -1;}#sk-container-id-3 div.sk-parallel-item {display: flex;flex-direction: column;z-index: 1;position: relative;background-color: white;}#sk-container-id-3 div.sk-parallel-item:first-child::after {align-self: flex-end;width: 50%;}#sk-container-id-3 div.sk-parallel-item:last-child::after {align-self: flex-start;width: 50%;}#sk-container-id-3 div.sk-parallel-item:only-child::after {width: 0;}#sk-container-id-3 div.sk-dashed-wrapped {border: 1px dashed gray;margin: 0 0.4em 0.5em 0.4em;box-sizing: border-box;padding-bottom: 0.4em;background-color: white;}#sk-container-id-3 div.sk-label label {font-family: monospace;font-weight: bold;display: inline-block;line-height: 1.2em;}#sk-container-id-3 div.sk-label-container {text-align: center;}#sk-container-id-3 div.sk-container {/* jupyter's `normalize.less` sets `[hidden] { display: none; }` but bootstrap.min.css set `[hidden] { display: none !important; }` so we also need the `!important` here to be able to override the default hidden behavior on the sphinx rendered scikit-learn.org. See: https://github.com/scikit-learn/scikit-learn/issues/21755 */display: inline-block !important;position: relative;}#sk-container-id-3 div.sk-text-repr-fallback {display: none;}</style><div id=\"sk-container-id-3\" class=\"sk-top-container\"><div class=\"sk-text-repr-fallback\"><pre>LabelEncoder()</pre><b>In a Jupyter environment, please rerun this cell to show the HTML representation or trust the notebook. <br />On GitHub, the HTML representation is unable to render, please try loading this page with nbviewer.org.</b></div><div class=\"sk-container\" hidden><div class=\"sk-item\"><div class=\"sk-estimator sk-toggleable\"><input class=\"sk-toggleable__control sk-hidden--visually\" id=\"sk-estimator-id-3\" type=\"checkbox\" checked><label for=\"sk-estimator-id-3\" class=\"sk-toggleable__label sk-toggleable__label-arrow\">LabelEncoder</label><div class=\"sk-toggleable__content\"><pre>LabelEncoder()</pre></div></div></div></div></div>"
      ],
      "text/plain": [
       "LabelEncoder()"
      ]
     },
     "execution_count": 91,
     "metadata": {},
     "output_type": "execute_result"
    }
   ],
   "source": [
    "label_encoder.fit(df[\"CryoSleep\"])"
   ]
  },
  {
   "cell_type": "code",
   "execution_count": 92,
   "id": "e4ad7b4a-5072-4a2a-bf9b-7703a231e4e9",
   "metadata": {},
   "outputs": [
    {
     "data": {
      "text/plain": [
       "0        False\n",
       "1        False\n",
       "2        False\n",
       "3        False\n",
       "4        False\n",
       "         ...  \n",
       "12965     True\n",
       "12966    False\n",
       "12967     True\n",
       "12968    False\n",
       "12969     True\n",
       "Name: CryoSleep, Length: 12970, dtype: object"
      ]
     },
     "execution_count": 92,
     "metadata": {},
     "output_type": "execute_result"
    }
   ],
   "source": [
    "df[\"CryoSleep\"]"
   ]
  },
  {
   "cell_type": "code",
   "execution_count": 93,
   "id": "38d46d48-0428-458e-991c-00e7f8a0f9fd",
   "metadata": {},
   "outputs": [
    {
     "data": {
      "text/plain": [
       "array([0, 0, 0, ..., 1, 0, 1])"
      ]
     },
     "execution_count": 93,
     "metadata": {},
     "output_type": "execute_result"
    }
   ],
   "source": [
    "label_encoder.transform(df[\"CryoSleep\"])"
   ]
  },
  {
   "cell_type": "code",
   "execution_count": 94,
   "id": "1d488419-450b-4428-9f9f-f293251152de",
   "metadata": {},
   "outputs": [],
   "source": [
    "df[\"CryoSleep\"] = label_encoder.transform(df[\"CryoSleep\"])"
   ]
  },
  {
   "cell_type": "code",
   "execution_count": 95,
   "id": "884fe0e8-7006-457c-bb3e-f59702505e5b",
   "metadata": {},
   "outputs": [
    {
     "data": {
      "text/html": [
       "<style>#sk-container-id-4 {color: black;}#sk-container-id-4 pre{padding: 0;}#sk-container-id-4 div.sk-toggleable {background-color: white;}#sk-container-id-4 label.sk-toggleable__label {cursor: pointer;display: block;width: 100%;margin-bottom: 0;padding: 0.3em;box-sizing: border-box;text-align: center;}#sk-container-id-4 label.sk-toggleable__label-arrow:before {content: \"▸\";float: left;margin-right: 0.25em;color: #696969;}#sk-container-id-4 label.sk-toggleable__label-arrow:hover:before {color: black;}#sk-container-id-4 div.sk-estimator:hover label.sk-toggleable__label-arrow:before {color: black;}#sk-container-id-4 div.sk-toggleable__content {max-height: 0;max-width: 0;overflow: hidden;text-align: left;background-color: #f0f8ff;}#sk-container-id-4 div.sk-toggleable__content pre {margin: 0.2em;color: black;border-radius: 0.25em;background-color: #f0f8ff;}#sk-container-id-4 input.sk-toggleable__control:checked~div.sk-toggleable__content {max-height: 200px;max-width: 100%;overflow: auto;}#sk-container-id-4 input.sk-toggleable__control:checked~label.sk-toggleable__label-arrow:before {content: \"▾\";}#sk-container-id-4 div.sk-estimator input.sk-toggleable__control:checked~label.sk-toggleable__label {background-color: #d4ebff;}#sk-container-id-4 div.sk-label input.sk-toggleable__control:checked~label.sk-toggleable__label {background-color: #d4ebff;}#sk-container-id-4 input.sk-hidden--visually {border: 0;clip: rect(1px 1px 1px 1px);clip: rect(1px, 1px, 1px, 1px);height: 1px;margin: -1px;overflow: hidden;padding: 0;position: absolute;width: 1px;}#sk-container-id-4 div.sk-estimator {font-family: monospace;background-color: #f0f8ff;border: 1px dotted black;border-radius: 0.25em;box-sizing: border-box;margin-bottom: 0.5em;}#sk-container-id-4 div.sk-estimator:hover {background-color: #d4ebff;}#sk-container-id-4 div.sk-parallel-item::after {content: \"\";width: 100%;border-bottom: 1px solid gray;flex-grow: 1;}#sk-container-id-4 div.sk-label:hover label.sk-toggleable__label {background-color: #d4ebff;}#sk-container-id-4 div.sk-serial::before {content: \"\";position: absolute;border-left: 1px solid gray;box-sizing: border-box;top: 0;bottom: 0;left: 50%;z-index: 0;}#sk-container-id-4 div.sk-serial {display: flex;flex-direction: column;align-items: center;background-color: white;padding-right: 0.2em;padding-left: 0.2em;position: relative;}#sk-container-id-4 div.sk-item {position: relative;z-index: 1;}#sk-container-id-4 div.sk-parallel {display: flex;align-items: stretch;justify-content: center;background-color: white;position: relative;}#sk-container-id-4 div.sk-item::before, #sk-container-id-4 div.sk-parallel-item::before {content: \"\";position: absolute;border-left: 1px solid gray;box-sizing: border-box;top: 0;bottom: 0;left: 50%;z-index: -1;}#sk-container-id-4 div.sk-parallel-item {display: flex;flex-direction: column;z-index: 1;position: relative;background-color: white;}#sk-container-id-4 div.sk-parallel-item:first-child::after {align-self: flex-end;width: 50%;}#sk-container-id-4 div.sk-parallel-item:last-child::after {align-self: flex-start;width: 50%;}#sk-container-id-4 div.sk-parallel-item:only-child::after {width: 0;}#sk-container-id-4 div.sk-dashed-wrapped {border: 1px dashed gray;margin: 0 0.4em 0.5em 0.4em;box-sizing: border-box;padding-bottom: 0.4em;background-color: white;}#sk-container-id-4 div.sk-label label {font-family: monospace;font-weight: bold;display: inline-block;line-height: 1.2em;}#sk-container-id-4 div.sk-label-container {text-align: center;}#sk-container-id-4 div.sk-container {/* jupyter's `normalize.less` sets `[hidden] { display: none; }` but bootstrap.min.css set `[hidden] { display: none !important; }` so we also need the `!important` here to be able to override the default hidden behavior on the sphinx rendered scikit-learn.org. See: https://github.com/scikit-learn/scikit-learn/issues/21755 */display: inline-block !important;position: relative;}#sk-container-id-4 div.sk-text-repr-fallback {display: none;}</style><div id=\"sk-container-id-4\" class=\"sk-top-container\"><div class=\"sk-text-repr-fallback\"><pre>LabelEncoder()</pre><b>In a Jupyter environment, please rerun this cell to show the HTML representation or trust the notebook. <br />On GitHub, the HTML representation is unable to render, please try loading this page with nbviewer.org.</b></div><div class=\"sk-container\" hidden><div class=\"sk-item\"><div class=\"sk-estimator sk-toggleable\"><input class=\"sk-toggleable__control sk-hidden--visually\" id=\"sk-estimator-id-4\" type=\"checkbox\" checked><label for=\"sk-estimator-id-4\" class=\"sk-toggleable__label sk-toggleable__label-arrow\">LabelEncoder</label><div class=\"sk-toggleable__content\"><pre>LabelEncoder()</pre></div></div></div></div></div>"
      ],
      "text/plain": [
       "LabelEncoder()"
      ]
     },
     "execution_count": 95,
     "metadata": {},
     "output_type": "execute_result"
    }
   ],
   "source": [
    "label_encoder.fit(df[\"is_alone\"])"
   ]
  },
  {
   "cell_type": "code",
   "execution_count": 96,
   "id": "8926e804-cd28-48ba-a454-d47c85503b54",
   "metadata": {},
   "outputs": [
    {
     "data": {
      "text/plain": [
       "0         True\n",
       "1         True\n",
       "2        False\n",
       "3        False\n",
       "4         True\n",
       "         ...  \n",
       "12965    False\n",
       "12966     True\n",
       "12967     True\n",
       "12968     True\n",
       "12969     True\n",
       "Name: is_alone, Length: 12970, dtype: bool"
      ]
     },
     "execution_count": 96,
     "metadata": {},
     "output_type": "execute_result"
    }
   ],
   "source": [
    "df[\"is_alone\"]"
   ]
  },
  {
   "cell_type": "code",
   "execution_count": 97,
   "id": "e3ef55cf-6d12-4819-8efd-7e02134593e2",
   "metadata": {},
   "outputs": [
    {
     "data": {
      "text/plain": [
       "array([1, 1, 0, ..., 1, 1, 1])"
      ]
     },
     "execution_count": 97,
     "metadata": {},
     "output_type": "execute_result"
    }
   ],
   "source": [
    "label_encoder.transform(df[\"is_alone\"])"
   ]
  },
  {
   "cell_type": "code",
   "execution_count": 98,
   "id": "d9705983-ecf5-4f7f-95fe-8307dd126924",
   "metadata": {},
   "outputs": [],
   "source": [
    "df[\"is_alone\"] = label_encoder.transform(df[\"is_alone\"])"
   ]
  },
  {
   "cell_type": "code",
   "execution_count": 99,
   "id": "c0c0e79c-97d5-4cf1-9fa4-cc10ae65b5d2",
   "metadata": {},
   "outputs": [
    {
     "data": {
      "text/html": [
       "<style>#sk-container-id-5 {color: black;}#sk-container-id-5 pre{padding: 0;}#sk-container-id-5 div.sk-toggleable {background-color: white;}#sk-container-id-5 label.sk-toggleable__label {cursor: pointer;display: block;width: 100%;margin-bottom: 0;padding: 0.3em;box-sizing: border-box;text-align: center;}#sk-container-id-5 label.sk-toggleable__label-arrow:before {content: \"▸\";float: left;margin-right: 0.25em;color: #696969;}#sk-container-id-5 label.sk-toggleable__label-arrow:hover:before {color: black;}#sk-container-id-5 div.sk-estimator:hover label.sk-toggleable__label-arrow:before {color: black;}#sk-container-id-5 div.sk-toggleable__content {max-height: 0;max-width: 0;overflow: hidden;text-align: left;background-color: #f0f8ff;}#sk-container-id-5 div.sk-toggleable__content pre {margin: 0.2em;color: black;border-radius: 0.25em;background-color: #f0f8ff;}#sk-container-id-5 input.sk-toggleable__control:checked~div.sk-toggleable__content {max-height: 200px;max-width: 100%;overflow: auto;}#sk-container-id-5 input.sk-toggleable__control:checked~label.sk-toggleable__label-arrow:before {content: \"▾\";}#sk-container-id-5 div.sk-estimator input.sk-toggleable__control:checked~label.sk-toggleable__label {background-color: #d4ebff;}#sk-container-id-5 div.sk-label input.sk-toggleable__control:checked~label.sk-toggleable__label {background-color: #d4ebff;}#sk-container-id-5 input.sk-hidden--visually {border: 0;clip: rect(1px 1px 1px 1px);clip: rect(1px, 1px, 1px, 1px);height: 1px;margin: -1px;overflow: hidden;padding: 0;position: absolute;width: 1px;}#sk-container-id-5 div.sk-estimator {font-family: monospace;background-color: #f0f8ff;border: 1px dotted black;border-radius: 0.25em;box-sizing: border-box;margin-bottom: 0.5em;}#sk-container-id-5 div.sk-estimator:hover {background-color: #d4ebff;}#sk-container-id-5 div.sk-parallel-item::after {content: \"\";width: 100%;border-bottom: 1px solid gray;flex-grow: 1;}#sk-container-id-5 div.sk-label:hover label.sk-toggleable__label {background-color: #d4ebff;}#sk-container-id-5 div.sk-serial::before {content: \"\";position: absolute;border-left: 1px solid gray;box-sizing: border-box;top: 0;bottom: 0;left: 50%;z-index: 0;}#sk-container-id-5 div.sk-serial {display: flex;flex-direction: column;align-items: center;background-color: white;padding-right: 0.2em;padding-left: 0.2em;position: relative;}#sk-container-id-5 div.sk-item {position: relative;z-index: 1;}#sk-container-id-5 div.sk-parallel {display: flex;align-items: stretch;justify-content: center;background-color: white;position: relative;}#sk-container-id-5 div.sk-item::before, #sk-container-id-5 div.sk-parallel-item::before {content: \"\";position: absolute;border-left: 1px solid gray;box-sizing: border-box;top: 0;bottom: 0;left: 50%;z-index: -1;}#sk-container-id-5 div.sk-parallel-item {display: flex;flex-direction: column;z-index: 1;position: relative;background-color: white;}#sk-container-id-5 div.sk-parallel-item:first-child::after {align-self: flex-end;width: 50%;}#sk-container-id-5 div.sk-parallel-item:last-child::after {align-self: flex-start;width: 50%;}#sk-container-id-5 div.sk-parallel-item:only-child::after {width: 0;}#sk-container-id-5 div.sk-dashed-wrapped {border: 1px dashed gray;margin: 0 0.4em 0.5em 0.4em;box-sizing: border-box;padding-bottom: 0.4em;background-color: white;}#sk-container-id-5 div.sk-label label {font-family: monospace;font-weight: bold;display: inline-block;line-height: 1.2em;}#sk-container-id-5 div.sk-label-container {text-align: center;}#sk-container-id-5 div.sk-container {/* jupyter's `normalize.less` sets `[hidden] { display: none; }` but bootstrap.min.css set `[hidden] { display: none !important; }` so we also need the `!important` here to be able to override the default hidden behavior on the sphinx rendered scikit-learn.org. See: https://github.com/scikit-learn/scikit-learn/issues/21755 */display: inline-block !important;position: relative;}#sk-container-id-5 div.sk-text-repr-fallback {display: none;}</style><div id=\"sk-container-id-5\" class=\"sk-top-container\"><div class=\"sk-text-repr-fallback\"><pre>LabelEncoder()</pre><b>In a Jupyter environment, please rerun this cell to show the HTML representation or trust the notebook. <br />On GitHub, the HTML representation is unable to render, please try loading this page with nbviewer.org.</b></div><div class=\"sk-container\" hidden><div class=\"sk-item\"><div class=\"sk-estimator sk-toggleable\"><input class=\"sk-toggleable__control sk-hidden--visually\" id=\"sk-estimator-id-5\" type=\"checkbox\" checked><label for=\"sk-estimator-id-5\" class=\"sk-toggleable__label sk-toggleable__label-arrow\">LabelEncoder</label><div class=\"sk-toggleable__content\"><pre>LabelEncoder()</pre></div></div></div></div></div>"
      ],
      "text/plain": [
       "LabelEncoder()"
      ]
     },
     "execution_count": 99,
     "metadata": {},
     "output_type": "execute_result"
    }
   ],
   "source": [
    "label_encoder.fit(df[\"Cabin_side\"])"
   ]
  },
  {
   "cell_type": "code",
   "execution_count": 100,
   "id": "6b5906ef-4aa2-4e23-af88-0fd02c223978",
   "metadata": {},
   "outputs": [
    {
     "data": {
      "text/plain": [
       "0        P\n",
       "1        S\n",
       "2        S\n",
       "3        S\n",
       "4        S\n",
       "        ..\n",
       "12965    S\n",
       "12966    P\n",
       "12967    P\n",
       "12968    P\n",
       "12969    S\n",
       "Name: Cabin_side, Length: 12970, dtype: object"
      ]
     },
     "execution_count": 100,
     "metadata": {},
     "output_type": "execute_result"
    }
   ],
   "source": [
    "df[\"Cabin_side\"]"
   ]
  },
  {
   "cell_type": "code",
   "execution_count": 101,
   "id": "719eac76-19d3-40c4-9901-dd22e3b2aea8",
   "metadata": {},
   "outputs": [
    {
     "data": {
      "text/plain": [
       "array([0, 1, 1, ..., 0, 0, 1])"
      ]
     },
     "execution_count": 101,
     "metadata": {},
     "output_type": "execute_result"
    }
   ],
   "source": [
    "label_encoder.transform(df[\"Cabin_side\"])"
   ]
  },
  {
   "cell_type": "code",
   "execution_count": 102,
   "id": "51425f1e-d5ef-4970-9c8c-317e8b7a53e2",
   "metadata": {},
   "outputs": [],
   "source": [
    "df[\"Cabin_side\"] = label_encoder.transform(df[\"Cabin_side\"])"
   ]
  },
  {
   "cell_type": "code",
   "execution_count": 103,
   "id": "e0bef8a5-a393-4026-92b6-ea6bc5aa4f9c",
   "metadata": {},
   "outputs": [
    {
     "data": {
      "text/html": [
       "<style>#sk-container-id-6 {color: black;}#sk-container-id-6 pre{padding: 0;}#sk-container-id-6 div.sk-toggleable {background-color: white;}#sk-container-id-6 label.sk-toggleable__label {cursor: pointer;display: block;width: 100%;margin-bottom: 0;padding: 0.3em;box-sizing: border-box;text-align: center;}#sk-container-id-6 label.sk-toggleable__label-arrow:before {content: \"▸\";float: left;margin-right: 0.25em;color: #696969;}#sk-container-id-6 label.sk-toggleable__label-arrow:hover:before {color: black;}#sk-container-id-6 div.sk-estimator:hover label.sk-toggleable__label-arrow:before {color: black;}#sk-container-id-6 div.sk-toggleable__content {max-height: 0;max-width: 0;overflow: hidden;text-align: left;background-color: #f0f8ff;}#sk-container-id-6 div.sk-toggleable__content pre {margin: 0.2em;color: black;border-radius: 0.25em;background-color: #f0f8ff;}#sk-container-id-6 input.sk-toggleable__control:checked~div.sk-toggleable__content {max-height: 200px;max-width: 100%;overflow: auto;}#sk-container-id-6 input.sk-toggleable__control:checked~label.sk-toggleable__label-arrow:before {content: \"▾\";}#sk-container-id-6 div.sk-estimator input.sk-toggleable__control:checked~label.sk-toggleable__label {background-color: #d4ebff;}#sk-container-id-6 div.sk-label input.sk-toggleable__control:checked~label.sk-toggleable__label {background-color: #d4ebff;}#sk-container-id-6 input.sk-hidden--visually {border: 0;clip: rect(1px 1px 1px 1px);clip: rect(1px, 1px, 1px, 1px);height: 1px;margin: -1px;overflow: hidden;padding: 0;position: absolute;width: 1px;}#sk-container-id-6 div.sk-estimator {font-family: monospace;background-color: #f0f8ff;border: 1px dotted black;border-radius: 0.25em;box-sizing: border-box;margin-bottom: 0.5em;}#sk-container-id-6 div.sk-estimator:hover {background-color: #d4ebff;}#sk-container-id-6 div.sk-parallel-item::after {content: \"\";width: 100%;border-bottom: 1px solid gray;flex-grow: 1;}#sk-container-id-6 div.sk-label:hover label.sk-toggleable__label {background-color: #d4ebff;}#sk-container-id-6 div.sk-serial::before {content: \"\";position: absolute;border-left: 1px solid gray;box-sizing: border-box;top: 0;bottom: 0;left: 50%;z-index: 0;}#sk-container-id-6 div.sk-serial {display: flex;flex-direction: column;align-items: center;background-color: white;padding-right: 0.2em;padding-left: 0.2em;position: relative;}#sk-container-id-6 div.sk-item {position: relative;z-index: 1;}#sk-container-id-6 div.sk-parallel {display: flex;align-items: stretch;justify-content: center;background-color: white;position: relative;}#sk-container-id-6 div.sk-item::before, #sk-container-id-6 div.sk-parallel-item::before {content: \"\";position: absolute;border-left: 1px solid gray;box-sizing: border-box;top: 0;bottom: 0;left: 50%;z-index: -1;}#sk-container-id-6 div.sk-parallel-item {display: flex;flex-direction: column;z-index: 1;position: relative;background-color: white;}#sk-container-id-6 div.sk-parallel-item:first-child::after {align-self: flex-end;width: 50%;}#sk-container-id-6 div.sk-parallel-item:last-child::after {align-self: flex-start;width: 50%;}#sk-container-id-6 div.sk-parallel-item:only-child::after {width: 0;}#sk-container-id-6 div.sk-dashed-wrapped {border: 1px dashed gray;margin: 0 0.4em 0.5em 0.4em;box-sizing: border-box;padding-bottom: 0.4em;background-color: white;}#sk-container-id-6 div.sk-label label {font-family: monospace;font-weight: bold;display: inline-block;line-height: 1.2em;}#sk-container-id-6 div.sk-label-container {text-align: center;}#sk-container-id-6 div.sk-container {/* jupyter's `normalize.less` sets `[hidden] { display: none; }` but bootstrap.min.css set `[hidden] { display: none !important; }` so we also need the `!important` here to be able to override the default hidden behavior on the sphinx rendered scikit-learn.org. See: https://github.com/scikit-learn/scikit-learn/issues/21755 */display: inline-block !important;position: relative;}#sk-container-id-6 div.sk-text-repr-fallback {display: none;}</style><div id=\"sk-container-id-6\" class=\"sk-top-container\"><div class=\"sk-text-repr-fallback\"><pre>LabelEncoder()</pre><b>In a Jupyter environment, please rerun this cell to show the HTML representation or trust the notebook. <br />On GitHub, the HTML representation is unable to render, please try loading this page with nbviewer.org.</b></div><div class=\"sk-container\" hidden><div class=\"sk-item\"><div class=\"sk-estimator sk-toggleable\"><input class=\"sk-toggleable__control sk-hidden--visually\" id=\"sk-estimator-id-6\" type=\"checkbox\" checked><label for=\"sk-estimator-id-6\" class=\"sk-toggleable__label sk-toggleable__label-arrow\">LabelEncoder</label><div class=\"sk-toggleable__content\"><pre>LabelEncoder()</pre></div></div></div></div></div>"
      ],
      "text/plain": [
       "LabelEncoder()"
      ]
     },
     "execution_count": 103,
     "metadata": {},
     "output_type": "execute_result"
    }
   ],
   "source": [
    "label_encoder.fit(df[\"VIP\"])"
   ]
  },
  {
   "cell_type": "code",
   "execution_count": 104,
   "id": "a8918804-af77-4314-92e8-cace7e3f7539",
   "metadata": {},
   "outputs": [
    {
     "data": {
      "text/plain": [
       "0        False\n",
       "1        False\n",
       "2         True\n",
       "3        False\n",
       "4        False\n",
       "         ...  \n",
       "12965    False\n",
       "12966    False\n",
       "12967    False\n",
       "12968    False\n",
       "12969    False\n",
       "Name: VIP, Length: 12970, dtype: object"
      ]
     },
     "execution_count": 104,
     "metadata": {},
     "output_type": "execute_result"
    }
   ],
   "source": [
    "df[\"VIP\"]"
   ]
  },
  {
   "cell_type": "code",
   "execution_count": 105,
   "id": "617d6d89-013f-4eeb-8f62-5f016552eddb",
   "metadata": {},
   "outputs": [
    {
     "data": {
      "text/plain": [
       "array([0, 0, 1, ..., 0, 0, 0])"
      ]
     },
     "execution_count": 105,
     "metadata": {},
     "output_type": "execute_result"
    }
   ],
   "source": [
    "label_encoder.transform(df[\"VIP\"])"
   ]
  },
  {
   "cell_type": "code",
   "execution_count": 106,
   "id": "98d33dd8-4892-44b8-8bdd-93c41e91b4c7",
   "metadata": {},
   "outputs": [],
   "source": [
    "df[\"VIP\"] = label_encoder.transform(df[\"VIP\"])"
   ]
  },
  {
   "cell_type": "markdown",
   "id": "1c03bf95-c082-4aa5-927f-681d67ddf4f7",
   "metadata": {},
   "source": [
    "# HomePlanet, Destination, Cabin_deck_grouped은 One Hot Encoding"
   ]
  },
  {
   "cell_type": "code",
   "execution_count": 107,
   "id": "471cf366-a00f-4bf2-87be-9d0fd87e5d05",
   "metadata": {},
   "outputs": [],
   "source": [
    "HomePlanet_dummies = pd.get_dummies(df[\"HomePlanet\"],prefix=\"HP\",dtype=int)"
   ]
  },
  {
   "cell_type": "code",
   "execution_count": 108,
   "id": "79974a03-91dc-4181-b3e4-96bfb3f5b9e8",
   "metadata": {},
   "outputs": [],
   "source": [
    "df = pd.concat([df,HomePlanet_dummies],axis =1)"
   ]
  },
  {
   "cell_type": "code",
   "execution_count": 109,
   "id": "1f76bc6b-ddd6-4033-a46c-92eac7ee91ab",
   "metadata": {},
   "outputs": [],
   "source": [
    "df = df.drop([\"HomePlanet\"],axis =1)"
   ]
  },
  {
   "cell_type": "code",
   "execution_count": 110,
   "id": "93cf657d-d859-4d38-a23b-eb96925aa272",
   "metadata": {},
   "outputs": [],
   "source": [
    "Destination_dummies = pd.get_dummies(df[\"Destination\"],prefix=\"D\",dtype=int)"
   ]
  },
  {
   "cell_type": "code",
   "execution_count": 111,
   "id": "66e51175-3537-41af-92ac-4088d4d57fea",
   "metadata": {},
   "outputs": [],
   "source": [
    "df = pd.concat([df,Destination_dummies],axis =1)"
   ]
  },
  {
   "cell_type": "code",
   "execution_count": 112,
   "id": "8287782b-3fdf-40e2-9f7d-77ddd16b80e3",
   "metadata": {},
   "outputs": [],
   "source": [
    "df = df.drop([\"Destination\"],axis =1)"
   ]
  },
  {
   "cell_type": "code",
   "execution_count": 113,
   "id": "901bc3da-db8e-46a7-8100-e53cd4667b58",
   "metadata": {},
   "outputs": [],
   "source": [
    "Cabin_deck_dummies = pd.get_dummies(df[\"Cabin_deck_grouped\"],prefix=\"Cabin_deck\",dtype=int)"
   ]
  },
  {
   "cell_type": "code",
   "execution_count": 114,
   "id": "e2c58b72-dd15-4b16-84d7-72ad90b871af",
   "metadata": {},
   "outputs": [],
   "source": [
    "df = pd.concat([df,Cabin_deck_dummies],axis =1)"
   ]
  },
  {
   "cell_type": "code",
   "execution_count": 115,
   "id": "3d479427-7ff9-4914-88d2-aa6b7a19e007",
   "metadata": {},
   "outputs": [],
   "source": [
    "df = df.drop([\"Cabin_deck_grouped\"],axis =1)"
   ]
  },
  {
   "cell_type": "markdown",
   "id": "80c5475a-ddf3-4a44-aae1-3e1b942e2e1f",
   "metadata": {},
   "source": [
    "# 스케일링 :Age, RoomService, FoodCourt, ShoppingMall, Spa, VRDeck, GroupId, Cabin_num, spend_money(Standard)/ GroupSize(minmax)"
   ]
  },
  {
   "cell_type": "code",
   "execution_count": 116,
   "id": "2b175762-9365-4556-8057-567d577bd08f",
   "metadata": {},
   "outputs": [],
   "source": [
    "from sklearn.preprocessing import StandardScaler, MinMaxScaler"
   ]
  },
  {
   "cell_type": "code",
   "execution_count": 117,
   "id": "7847ecc4-8060-4ffd-8e80-81faa727408f",
   "metadata": {},
   "outputs": [],
   "source": [
    "standard_scaler = StandardScaler()\n",
    "minmax_scaler = MinMaxScaler()"
   ]
  },
  {
   "cell_type": "code",
   "execution_count": 118,
   "id": "a5b68939-f31c-42bf-8c76-4b6ba1d60752",
   "metadata": {},
   "outputs": [],
   "source": [
    "df[[\"Age\",\"RoomService\",\"FoodCourt\",\"ShoppingMall\",\"Spa\",\"VRDeck\",\"GroupId\",\"Cabin_num\",\"spend_money\"]] = standard_scaler.fit_transform(df[[\"Age\",\"RoomService\",\"FoodCourt\",\"ShoppingMall\",\"Spa\",\"VRDeck\",\"GroupId\",\"Cabin_num\",\"spend_money\"]])"
   ]
  },
  {
   "cell_type": "code",
   "execution_count": 119,
   "id": "e24364b0-6aa9-48ce-8356-0443dd27f43a",
   "metadata": {},
   "outputs": [],
   "source": [
    "df[[\"GroupSize\"]] = minmax_scaler.fit_transform(df[[\"GroupSize\"]])"
   ]
  },
  {
   "cell_type": "code",
   "execution_count": 120,
   "id": "a64beeb1-f170-4a98-9054-d364cf78d79a",
   "metadata": {},
   "outputs": [
    {
     "data": {
      "text/html": [
       "<div>\n",
       "<style scoped>\n",
       "    .dataframe tbody tr th:only-of-type {\n",
       "        vertical-align: middle;\n",
       "    }\n",
       "\n",
       "    .dataframe tbody tr th {\n",
       "        vertical-align: top;\n",
       "    }\n",
       "\n",
       "    .dataframe thead th {\n",
       "        text-align: right;\n",
       "    }\n",
       "</style>\n",
       "<table border=\"1\" class=\"dataframe\">\n",
       "  <thead>\n",
       "    <tr style=\"text-align: right;\">\n",
       "      <th></th>\n",
       "      <th>PassengerId</th>\n",
       "      <th>CryoSleep</th>\n",
       "      <th>Age</th>\n",
       "      <th>VIP</th>\n",
       "      <th>RoomService</th>\n",
       "      <th>FoodCourt</th>\n",
       "      <th>ShoppingMall</th>\n",
       "      <th>Spa</th>\n",
       "      <th>VRDeck</th>\n",
       "      <th>Transported</th>\n",
       "      <th>...</th>\n",
       "      <th>spend_money</th>\n",
       "      <th>HP_Earth</th>\n",
       "      <th>HP_Europa</th>\n",
       "      <th>HP_Mars</th>\n",
       "      <th>D_55 Cancri e</th>\n",
       "      <th>D_PSO J318.5-22</th>\n",
       "      <th>D_TRAPPIST-1e</th>\n",
       "      <th>Cabin_deck_F</th>\n",
       "      <th>Cabin_deck_G</th>\n",
       "      <th>Cabin_deck_Other</th>\n",
       "    </tr>\n",
       "  </thead>\n",
       "  <tbody>\n",
       "    <tr>\n",
       "      <th>0</th>\n",
       "      <td>0001_01</td>\n",
       "      <td>0</td>\n",
       "      <td>0.710937</td>\n",
       "      <td>0</td>\n",
       "      <td>-0.344206</td>\n",
       "      <td>-0.287668</td>\n",
       "      <td>-0.296182</td>\n",
       "      <td>-0.275783</td>\n",
       "      <td>-0.261991</td>\n",
       "      <td>False</td>\n",
       "      <td>...</td>\n",
       "      <td>-0.540420</td>\n",
       "      <td>0</td>\n",
       "      <td>1</td>\n",
       "      <td>0</td>\n",
       "      <td>0</td>\n",
       "      <td>0</td>\n",
       "      <td>1</td>\n",
       "      <td>0</td>\n",
       "      <td>0</td>\n",
       "      <td>1</td>\n",
       "    </tr>\n",
       "    <tr>\n",
       "      <th>1</th>\n",
       "      <td>0002_01</td>\n",
       "      <td>0</td>\n",
       "      <td>-0.331693</td>\n",
       "      <td>0</td>\n",
       "      <td>-0.175885</td>\n",
       "      <td>-0.281931</td>\n",
       "      <td>-0.253848</td>\n",
       "      <td>0.214948</td>\n",
       "      <td>-0.224342</td>\n",
       "      <td>True</td>\n",
       "      <td>...</td>\n",
       "      <td>-0.268888</td>\n",
       "      <td>1</td>\n",
       "      <td>0</td>\n",
       "      <td>0</td>\n",
       "      <td>0</td>\n",
       "      <td>0</td>\n",
       "      <td>1</td>\n",
       "      <td>1</td>\n",
       "      <td>0</td>\n",
       "      <td>0</td>\n",
       "    </tr>\n",
       "    <tr>\n",
       "      <th>2</th>\n",
       "      <td>0003_01</td>\n",
       "      <td>0</td>\n",
       "      <td>2.031602</td>\n",
       "      <td>1</td>\n",
       "      <td>-0.277804</td>\n",
       "      <td>1.991749</td>\n",
       "      <td>-0.296182</td>\n",
       "      <td>5.726512</td>\n",
       "      <td>-0.220064</td>\n",
       "      <td>False</td>\n",
       "      <td>...</td>\n",
       "      <td>3.290174</td>\n",
       "      <td>0</td>\n",
       "      <td>1</td>\n",
       "      <td>0</td>\n",
       "      <td>0</td>\n",
       "      <td>0</td>\n",
       "      <td>1</td>\n",
       "      <td>0</td>\n",
       "      <td>0</td>\n",
       "      <td>1</td>\n",
       "    </tr>\n",
       "    <tr>\n",
       "      <th>3</th>\n",
       "      <td>0003_02</td>\n",
       "      <td>0</td>\n",
       "      <td>0.293885</td>\n",
       "      <td>0</td>\n",
       "      <td>-0.344206</td>\n",
       "      <td>0.530143</td>\n",
       "      <td>0.332061</td>\n",
       "      <td>2.699889</td>\n",
       "      <td>-0.096850</td>\n",
       "      <td>False</td>\n",
       "      <td>...</td>\n",
       "      <td>1.369158</td>\n",
       "      <td>0</td>\n",
       "      <td>1</td>\n",
       "      <td>0</td>\n",
       "      <td>0</td>\n",
       "      <td>0</td>\n",
       "      <td>1</td>\n",
       "      <td>0</td>\n",
       "      <td>0</td>\n",
       "      <td>1</td>\n",
       "    </tr>\n",
       "    <tr>\n",
       "      <th>4</th>\n",
       "      <td>0004_01</td>\n",
       "      <td>0</td>\n",
       "      <td>-0.887763</td>\n",
       "      <td>0</td>\n",
       "      <td>0.123696</td>\n",
       "      <td>-0.243048</td>\n",
       "      <td>-0.040482</td>\n",
       "      <td>0.229250</td>\n",
       "      <td>-0.260280</td>\n",
       "      <td>True</td>\n",
       "      <td>...</td>\n",
       "      <td>-0.137918</td>\n",
       "      <td>1</td>\n",
       "      <td>0</td>\n",
       "      <td>0</td>\n",
       "      <td>0</td>\n",
       "      <td>0</td>\n",
       "      <td>1</td>\n",
       "      <td>1</td>\n",
       "      <td>0</td>\n",
       "      <td>0</td>\n",
       "    </tr>\n",
       "    <tr>\n",
       "      <th>...</th>\n",
       "      <td>...</td>\n",
       "      <td>...</td>\n",
       "      <td>...</td>\n",
       "      <td>...</td>\n",
       "      <td>...</td>\n",
       "      <td>...</td>\n",
       "      <td>...</td>\n",
       "      <td>...</td>\n",
       "      <td>...</td>\n",
       "      <td>...</td>\n",
       "      <td>...</td>\n",
       "      <td>...</td>\n",
       "      <td>...</td>\n",
       "      <td>...</td>\n",
       "      <td>...</td>\n",
       "      <td>...</td>\n",
       "      <td>...</td>\n",
       "      <td>...</td>\n",
       "      <td>...</td>\n",
       "      <td>...</td>\n",
       "      <td>...</td>\n",
       "    </tr>\n",
       "    <tr>\n",
       "      <th>12965</th>\n",
       "      <td>9266_02</td>\n",
       "      <td>1</td>\n",
       "      <td>0.363394</td>\n",
       "      <td>0</td>\n",
       "      <td>-0.344206</td>\n",
       "      <td>-0.287668</td>\n",
       "      <td>-0.296182</td>\n",
       "      <td>-0.275783</td>\n",
       "      <td>-0.261991</td>\n",
       "      <td>NaN</td>\n",
       "      <td>...</td>\n",
       "      <td>-0.540420</td>\n",
       "      <td>1</td>\n",
       "      <td>0</td>\n",
       "      <td>0</td>\n",
       "      <td>0</td>\n",
       "      <td>0</td>\n",
       "      <td>1</td>\n",
       "      <td>0</td>\n",
       "      <td>1</td>\n",
       "      <td>0</td>\n",
       "    </tr>\n",
       "    <tr>\n",
       "      <th>12966</th>\n",
       "      <td>9269_01</td>\n",
       "      <td>0</td>\n",
       "      <td>0.919463</td>\n",
       "      <td>0</td>\n",
       "      <td>-0.344206</td>\n",
       "      <td>0.252228</td>\n",
       "      <td>-0.267395</td>\n",
       "      <td>-0.266845</td>\n",
       "      <td>-0.138777</td>\n",
       "      <td>NaN</td>\n",
       "      <td>...</td>\n",
       "      <td>-0.164850</td>\n",
       "      <td>1</td>\n",
       "      <td>0</td>\n",
       "      <td>0</td>\n",
       "      <td>0</td>\n",
       "      <td>0</td>\n",
       "      <td>1</td>\n",
       "      <td>0</td>\n",
       "      <td>1</td>\n",
       "      <td>0</td>\n",
       "    </tr>\n",
       "    <tr>\n",
       "      <th>12967</th>\n",
       "      <td>9271_01</td>\n",
       "      <td>1</td>\n",
       "      <td>NaN</td>\n",
       "      <td>0</td>\n",
       "      <td>-0.344206</td>\n",
       "      <td>-0.287668</td>\n",
       "      <td>-0.296182</td>\n",
       "      <td>-0.275783</td>\n",
       "      <td>-0.261991</td>\n",
       "      <td>NaN</td>\n",
       "      <td>...</td>\n",
       "      <td>-0.540420</td>\n",
       "      <td>0</td>\n",
       "      <td>0</td>\n",
       "      <td>1</td>\n",
       "      <td>1</td>\n",
       "      <td>0</td>\n",
       "      <td>0</td>\n",
       "      <td>0</td>\n",
       "      <td>0</td>\n",
       "      <td>1</td>\n",
       "    </tr>\n",
       "    <tr>\n",
       "      <th>12968</th>\n",
       "      <td>9273_01</td>\n",
       "      <td>0</td>\n",
       "      <td>NaN</td>\n",
       "      <td>0</td>\n",
       "      <td>-0.344206</td>\n",
       "      <td>1.420620</td>\n",
       "      <td>-0.296182</td>\n",
       "      <td>-0.275783</td>\n",
       "      <td>0.185516</td>\n",
       "      <td>NaN</td>\n",
       "      <td>...</td>\n",
       "      <td>0.641261</td>\n",
       "      <td>0</td>\n",
       "      <td>1</td>\n",
       "      <td>0</td>\n",
       "      <td>0</td>\n",
       "      <td>0</td>\n",
       "      <td>1</td>\n",
       "      <td>0</td>\n",
       "      <td>0</td>\n",
       "      <td>1</td>\n",
       "    </tr>\n",
       "    <tr>\n",
       "      <th>12969</th>\n",
       "      <td>9277_01</td>\n",
       "      <td>1</td>\n",
       "      <td>0.988972</td>\n",
       "      <td>0</td>\n",
       "      <td>-0.344206</td>\n",
       "      <td>-0.287668</td>\n",
       "      <td>-0.296182</td>\n",
       "      <td>-0.275783</td>\n",
       "      <td>-0.261991</td>\n",
       "      <td>NaN</td>\n",
       "      <td>...</td>\n",
       "      <td>-0.540420</td>\n",
       "      <td>1</td>\n",
       "      <td>0</td>\n",
       "      <td>0</td>\n",
       "      <td>0</td>\n",
       "      <td>1</td>\n",
       "      <td>0</td>\n",
       "      <td>0</td>\n",
       "      <td>1</td>\n",
       "      <td>0</td>\n",
       "    </tr>\n",
       "  </tbody>\n",
       "</table>\n",
       "<p>12970 rows × 26 columns</p>\n",
       "</div>"
      ],
      "text/plain": [
       "      PassengerId  CryoSleep       Age  VIP  RoomService  FoodCourt  \\\n",
       "0         0001_01          0  0.710937    0    -0.344206  -0.287668   \n",
       "1         0002_01          0 -0.331693    0    -0.175885  -0.281931   \n",
       "2         0003_01          0  2.031602    1    -0.277804   1.991749   \n",
       "3         0003_02          0  0.293885    0    -0.344206   0.530143   \n",
       "4         0004_01          0 -0.887763    0     0.123696  -0.243048   \n",
       "...           ...        ...       ...  ...          ...        ...   \n",
       "12965     9266_02          1  0.363394    0    -0.344206  -0.287668   \n",
       "12966     9269_01          0  0.919463    0    -0.344206   0.252228   \n",
       "12967     9271_01          1       NaN    0    -0.344206  -0.287668   \n",
       "12968     9273_01          0       NaN    0    -0.344206   1.420620   \n",
       "12969     9277_01          1  0.988972    0    -0.344206  -0.287668   \n",
       "\n",
       "       ShoppingMall       Spa    VRDeck Transported  ...  spend_money  \\\n",
       "0         -0.296182 -0.275783 -0.261991       False  ...    -0.540420   \n",
       "1         -0.253848  0.214948 -0.224342        True  ...    -0.268888   \n",
       "2         -0.296182  5.726512 -0.220064       False  ...     3.290174   \n",
       "3          0.332061  2.699889 -0.096850       False  ...     1.369158   \n",
       "4         -0.040482  0.229250 -0.260280        True  ...    -0.137918   \n",
       "...             ...       ...       ...         ...  ...          ...   \n",
       "12965     -0.296182 -0.275783 -0.261991         NaN  ...    -0.540420   \n",
       "12966     -0.267395 -0.266845 -0.138777         NaN  ...    -0.164850   \n",
       "12967     -0.296182 -0.275783 -0.261991         NaN  ...    -0.540420   \n",
       "12968     -0.296182 -0.275783  0.185516         NaN  ...     0.641261   \n",
       "12969     -0.296182 -0.275783 -0.261991         NaN  ...    -0.540420   \n",
       "\n",
       "       HP_Earth  HP_Europa  HP_Mars  D_55 Cancri e D_PSO J318.5-22  \\\n",
       "0             0          1        0              0               0   \n",
       "1             1          0        0              0               0   \n",
       "2             0          1        0              0               0   \n",
       "3             0          1        0              0               0   \n",
       "4             1          0        0              0               0   \n",
       "...         ...        ...      ...            ...             ...   \n",
       "12965         1          0        0              0               0   \n",
       "12966         1          0        0              0               0   \n",
       "12967         0          0        1              1               0   \n",
       "12968         0          1        0              0               0   \n",
       "12969         1          0        0              0               1   \n",
       "\n",
       "       D_TRAPPIST-1e  Cabin_deck_F  Cabin_deck_G  Cabin_deck_Other  \n",
       "0                  1             0             0                 1  \n",
       "1                  1             1             0                 0  \n",
       "2                  1             0             0                 1  \n",
       "3                  1             0             0                 1  \n",
       "4                  1             1             0                 0  \n",
       "...              ...           ...           ...               ...  \n",
       "12965              1             0             1                 0  \n",
       "12966              1             0             1                 0  \n",
       "12967              0             0             0                 1  \n",
       "12968              1             0             0                 1  \n",
       "12969              0             0             1                 0  \n",
       "\n",
       "[12970 rows x 26 columns]"
      ]
     },
     "execution_count": 120,
     "metadata": {},
     "output_type": "execute_result"
    }
   ],
   "source": [
    "df"
   ]
  },
  {
   "cell_type": "code",
   "execution_count": 121,
   "id": "d6749908-2fab-4f63-8878-9e877bc8d96b",
   "metadata": {},
   "outputs": [
    {
     "name": "stdout",
     "output_type": "stream",
     "text": [
      "<class 'pandas.core.frame.DataFrame'>\n",
      "RangeIndex: 12970 entries, 0 to 12969\n",
      "Data columns (total 26 columns):\n",
      " #   Column            Non-Null Count  Dtype  \n",
      "---  ------            --------------  -----  \n",
      " 0   PassengerId       12970 non-null  object \n",
      " 1   CryoSleep         12970 non-null  int64  \n",
      " 2   Age               12700 non-null  float64\n",
      " 3   VIP               12970 non-null  int64  \n",
      " 4   RoomService       12707 non-null  float64\n",
      " 5   FoodCourt         12970 non-null  float64\n",
      " 6   ShoppingMall      12664 non-null  float64\n",
      " 7   Spa               12970 non-null  float64\n",
      " 8   VRDeck            12970 non-null  float64\n",
      " 9   Transported       8693 non-null   object \n",
      " 10  GroupId           12970 non-null  float64\n",
      " 11  GroupSize         12970 non-null  float64\n",
      " 12  is_alone          12970 non-null  int64  \n",
      " 13  Cabin_side        12970 non-null  int64  \n",
      " 14  Cabin_num         12970 non-null  float64\n",
      " 15  LastName          12970 non-null  object \n",
      " 16  spend_money       12970 non-null  float64\n",
      " 17  HP_Earth          12970 non-null  int64  \n",
      " 18  HP_Europa         12970 non-null  int64  \n",
      " 19  HP_Mars           12970 non-null  int64  \n",
      " 20  D_55 Cancri e     12970 non-null  int64  \n",
      " 21  D_PSO J318.5-22   12970 non-null  int64  \n",
      " 22  D_TRAPPIST-1e     12970 non-null  int64  \n",
      " 23  Cabin_deck_F      12970 non-null  int64  \n",
      " 24  Cabin_deck_G      12970 non-null  int64  \n",
      " 25  Cabin_deck_Other  12970 non-null  int64  \n",
      "dtypes: float64(10), int64(13), object(3)\n",
      "memory usage: 2.6+ MB\n"
     ]
    }
   ],
   "source": [
    "df.info()"
   ]
  },
  {
   "cell_type": "code",
   "execution_count": 123,
   "id": "c226aee8-0734-4c09-868f-b36de4fa7a70",
   "metadata": {},
   "outputs": [],
   "source": [
    "df = df.drop([\"LastName\"],axis = 1)"
   ]
  },
  {
   "cell_type": "code",
   "execution_count": 124,
   "id": "b49e64cd-09a6-48bc-9438-d28b2f447b21",
   "metadata": {},
   "outputs": [],
   "source": [
    "train_df = df.iloc[:8693]\n",
    "test_df = df.iloc[8693:]"
   ]
  },
  {
   "cell_type": "code",
   "execution_count": 125,
   "id": "447ea674-2274-4742-9a7d-6a840cb58fb3",
   "metadata": {},
   "outputs": [],
   "source": [
    "train_df.to_csv(\"./data/preprocessed_train.csv\",index = False)\n",
    "test_df = test_df.drop([\"Transported\"],axis=1)\n",
    "test_df.to_csv(\"./data/preprocessed_test.csv\",index=False)"
   ]
  },
  {
   "cell_type": "code",
   "execution_count": null,
   "id": "9b811643-6000-4901-8a52-5ca1756afb4a",
   "metadata": {},
   "outputs": [],
   "source": []
  },
  {
   "cell_type": "code",
   "execution_count": null,
   "id": "32a319e9-e95b-4d00-bb22-16df069855c0",
   "metadata": {},
   "outputs": [],
   "source": []
  },
  {
   "cell_type": "code",
   "execution_count": null,
   "id": "46b64a75-be3f-498a-ab7b-72dd8881b703",
   "metadata": {},
   "outputs": [],
   "source": []
  },
  {
   "cell_type": "code",
   "execution_count": null,
   "id": "0b7c7322-9b44-478c-a505-428cdd40d7c1",
   "metadata": {},
   "outputs": [],
   "source": []
  },
  {
   "cell_type": "code",
   "execution_count": null,
   "id": "9134b489-e1a6-4f2d-8782-25cebec764a1",
   "metadata": {},
   "outputs": [],
   "source": []
  },
  {
   "cell_type": "code",
   "execution_count": null,
   "id": "8591dcab-f76c-4e3f-92c0-c54db95b28be",
   "metadata": {},
   "outputs": [],
   "source": []
  }
 ],
 "metadata": {
  "kernelspec": {
   "display_name": "Python 3 (ipykernel)",
   "language": "python",
   "name": "python3"
  },
  "language_info": {
   "codemirror_mode": {
    "name": "ipython",
    "version": 3
   },
   "file_extension": ".py",
   "mimetype": "text/x-python",
   "name": "python",
   "nbconvert_exporter": "python",
   "pygments_lexer": "ipython3",
   "version": "3.11.5"
  }
 },
 "nbformat": 4,
 "nbformat_minor": 5
}
